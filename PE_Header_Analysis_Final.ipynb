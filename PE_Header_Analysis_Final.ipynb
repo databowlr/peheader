{
  "nbformat": 4,
  "nbformat_minor": 0,
  "metadata": {
    "colab": {
      "name": "PE_Header_Analysis_Final.ipynb",
      "provenance": [],
      "collapsed_sections": [],
      "machine_shape": "hm"
    },
    "kernelspec": {
      "display_name": "Python 3",
      "name": "python3"
    },
    "accelerator": "GPU"
  },
  "cells": [
    {
      "cell_type": "code",
      "metadata": {
        "colab": {
          "base_uri": "https://localhost:8080/"
        },
        "id": "KmAY87Wm6RO6",
        "outputId": "ca0643b1-8915-4e04-e7cb-5c00c0851fe0"
      },
      "source": [
        "!pip install scikit-plot\n",
        "!pip install imbalanced-learn"
      ],
      "execution_count": null,
      "outputs": [
        {
          "output_type": "stream",
          "text": [
            "Collecting scikit-plot\n",
            "  Downloading https://files.pythonhosted.org/packages/7c/47/32520e259340c140a4ad27c1b97050dd3254fdc517b1d59974d47037510e/scikit_plot-0.3.7-py3-none-any.whl\n",
            "Requirement already satisfied: joblib>=0.10 in /usr/local/lib/python3.7/dist-packages (from scikit-plot) (1.0.1)\n",
            "Requirement already satisfied: scikit-learn>=0.18 in /usr/local/lib/python3.7/dist-packages (from scikit-plot) (0.22.2.post1)\n",
            "Requirement already satisfied: scipy>=0.9 in /usr/local/lib/python3.7/dist-packages (from scikit-plot) (1.4.1)\n",
            "Requirement already satisfied: matplotlib>=1.4.0 in /usr/local/lib/python3.7/dist-packages (from scikit-plot) (3.2.2)\n",
            "Requirement already satisfied: numpy>=1.11.0 in /usr/local/lib/python3.7/dist-packages (from scikit-learn>=0.18->scikit-plot) (1.19.5)\n",
            "Requirement already satisfied: cycler>=0.10 in /usr/local/lib/python3.7/dist-packages (from matplotlib>=1.4.0->scikit-plot) (0.10.0)\n",
            "Requirement already satisfied: python-dateutil>=2.1 in /usr/local/lib/python3.7/dist-packages (from matplotlib>=1.4.0->scikit-plot) (2.8.1)\n",
            "Requirement already satisfied: kiwisolver>=1.0.1 in /usr/local/lib/python3.7/dist-packages (from matplotlib>=1.4.0->scikit-plot) (1.3.1)\n",
            "Requirement already satisfied: pyparsing!=2.0.4,!=2.1.2,!=2.1.6,>=2.0.1 in /usr/local/lib/python3.7/dist-packages (from matplotlib>=1.4.0->scikit-plot) (2.4.7)\n",
            "Requirement already satisfied: six in /usr/local/lib/python3.7/dist-packages (from cycler>=0.10->matplotlib>=1.4.0->scikit-plot) (1.15.0)\n",
            "Installing collected packages: scikit-plot\n",
            "Successfully installed scikit-plot-0.3.7\n",
            "Requirement already satisfied: imbalanced-learn in /usr/local/lib/python3.7/dist-packages (0.4.3)\n",
            "Requirement already satisfied: numpy>=1.8.2 in /usr/local/lib/python3.7/dist-packages (from imbalanced-learn) (1.19.5)\n",
            "Requirement already satisfied: scipy>=0.13.3 in /usr/local/lib/python3.7/dist-packages (from imbalanced-learn) (1.4.1)\n",
            "Requirement already satisfied: scikit-learn>=0.20 in /usr/local/lib/python3.7/dist-packages (from imbalanced-learn) (0.22.2.post1)\n",
            "Requirement already satisfied: joblib>=0.11 in /usr/local/lib/python3.7/dist-packages (from scikit-learn>=0.20->imbalanced-learn) (1.0.1)\n"
          ],
          "name": "stdout"
        }
      ]
    },
    {
      "cell_type": "code",
      "metadata": {
        "id": "lKAM2eko6Uz5"
      },
      "source": [
        "import numpy as np\n",
        "import pandas as pd\n",
        "import matplotlib.pyplot as plt\n",
        "import seaborn as sns\n",
        "\n",
        "\n",
        "from sklearn.preprocessing import StandardScaler\n",
        "from sklearn.model_selection import train_test_split\n",
        "from sklearn.ensemble import RandomForestClassifier\n",
        "from sklearn.neighbors import KNeighborsClassifier\n",
        "from sklearn.linear_model import LogisticRegression\n",
        "from sklearn.naive_bayes import GaussianNB\n",
        "from sklearn.tree import DecisionTreeClassifier\n",
        "from xgboost.sklearn import XGBClassifier\n",
        "from sklearn.metrics import f1_score,plot_precision_recall_curve,roc_curve,confusion_matrix,balanced_accuracy_score, plot_confusion_matrix, average_precision_score,precision_score,recall_score,classification_report\n",
        "import scikitplot as skplt\n",
        "from sklearn.metrics import f1_score,precision_recall_curve, accuracy_score, matthews_corrcoef\n",
        "from sklearn.model_selection import RandomizedSearchCV, learning_curve\n"
      ],
      "execution_count": null,
      "outputs": []
    },
    {
      "cell_type": "code",
      "metadata": {
        "colab": {
          "base_uri": "https://localhost:8080/"
        },
        "id": "AXl4iXh0KtR8",
        "outputId": "21df3e65-81fd-4e7a-9cab-496fea8098df"
      },
      "source": [
        "from google.colab import drive\n",
        "drive.mount('/content/data', force_remount=True)"
      ],
      "execution_count": null,
      "outputs": [
        {
          "output_type": "stream",
          "text": [
            "Mounted at /content/data\n"
          ],
          "name": "stdout"
        }
      ]
    },
    {
      "cell_type": "markdown",
      "metadata": {
        "id": "KJWd1ftEAyi6"
      },
      "source": [
        "# New Section"
      ]
    },
    {
      "cell_type": "code",
      "metadata": {
        "id": "aU94fxMh8cot"
      },
      "source": [
        "data1 = pd.read_csv(\"/content/data/My Drive/pe_section_headers.csv\")"
      ],
      "execution_count": null,
      "outputs": []
    },
    {
      "cell_type": "code",
      "metadata": {
        "id": "0YzRrfB78c7b"
      },
      "source": [
        "data2 = pd.read_csv(\"/content/data/My Drive/top_1000_pe_imports.csv\")"
      ],
      "execution_count": null,
      "outputs": []
    },
    {
      "cell_type": "code",
      "metadata": {
        "id": "DFD5pHOJ8c3x"
      },
      "source": [
        "data1.drop_duplicates(['hash'], inplace = True)"
      ],
      "execution_count": null,
      "outputs": []
    },
    {
      "cell_type": "code",
      "metadata": {
        "colab": {
          "base_uri": "https://localhost:8080/",
          "height": 255
        },
        "id": "smkNsJ988czN",
        "outputId": "9bac7384-bc34-414c-fab8-324d7b323586"
      },
      "source": [
        "df = pd.merge(data1, data2, on = 'hash')\n",
        "df.head()"
      ],
      "execution_count": null,
      "outputs": [
        {
          "output_type": "execute_result",
          "data": {
            "text/html": [
              "<div>\n",
              "<style scoped>\n",
              "    .dataframe tbody tr th:only-of-type {\n",
              "        vertical-align: middle;\n",
              "    }\n",
              "\n",
              "    .dataframe tbody tr th {\n",
              "        vertical-align: top;\n",
              "    }\n",
              "\n",
              "    .dataframe thead th {\n",
              "        text-align: right;\n",
              "    }\n",
              "</style>\n",
              "<table border=\"1\" class=\"dataframe\">\n",
              "  <thead>\n",
              "    <tr style=\"text-align: right;\">\n",
              "      <th></th>\n",
              "      <th>hash</th>\n",
              "      <th>size_of_data</th>\n",
              "      <th>virtual_address</th>\n",
              "      <th>entropy</th>\n",
              "      <th>virtual_size</th>\n",
              "      <th>malware_x</th>\n",
              "      <th>GetProcAddress</th>\n",
              "      <th>ExitProcess</th>\n",
              "      <th>WriteFile</th>\n",
              "      <th>GetLastError</th>\n",
              "      <th>CloseHandle</th>\n",
              "      <th>FreeLibrary</th>\n",
              "      <th>Sleep</th>\n",
              "      <th>GetStdHandle</th>\n",
              "      <th>MultiByteToWideChar</th>\n",
              "      <th>GetCurrentThreadId</th>\n",
              "      <th>FindClose</th>\n",
              "      <th>LeaveCriticalSection</th>\n",
              "      <th>EnterCriticalSection</th>\n",
              "      <th>VirtualAlloc</th>\n",
              "      <th>DeleteCriticalSection</th>\n",
              "      <th>WideCharToMultiByte</th>\n",
              "      <th>RegCloseKey</th>\n",
              "      <th>ReadFile</th>\n",
              "      <th>SetFilePointer</th>\n",
              "      <th>GetCurrentProcess</th>\n",
              "      <th>GetACP</th>\n",
              "      <th>UnhandledExceptionFilter</th>\n",
              "      <th>RaiseException</th>\n",
              "      <th>RtlUnwind</th>\n",
              "      <th>TlsGetValue</th>\n",
              "      <th>TlsSetValue</th>\n",
              "      <th>GetModuleHandleW</th>\n",
              "      <th>GetCPInfo</th>\n",
              "      <th>GetCurrentProcessId</th>\n",
              "      <th>VirtualFree</th>\n",
              "      <th>GetDC</th>\n",
              "      <th>GetModuleFileNameW</th>\n",
              "      <th>CreateFileW</th>\n",
              "      <th>SetEndOfFile</th>\n",
              "      <th>...</th>\n",
              "      <th>malloc</th>\n",
              "      <th>_XcptFilter</th>\n",
              "      <th>__vbaFreeVarList</th>\n",
              "      <th>CoInitializeEx</th>\n",
              "      <th>GetTextColor</th>\n",
              "      <th>GetUserNameA</th>\n",
              "      <th>listen</th>\n",
              "      <th>inet_addr</th>\n",
              "      <th>TextOutW</th>\n",
              "      <th>__p__commode</th>\n",
              "      <th>IsValidAcl</th>\n",
              "      <th>gethostname</th>\n",
              "      <th>PostThreadMessageW</th>\n",
              "      <th>ReportEventW</th>\n",
              "      <th>__vbaFreeObj</th>\n",
              "      <th>CreateFileMappingA</th>\n",
              "      <th>DragQueryFileW</th>\n",
              "      <th>_onexit</th>\n",
              "      <th>ImpersonateLoggedOnUser</th>\n",
              "      <th>InitializeAcl</th>\n",
              "      <th>MessageBoxIndirectW</th>\n",
              "      <th>SendDlgItemMessageW</th>\n",
              "      <th>__vbaVarMove</th>\n",
              "      <th>GetDriveTypeA</th>\n",
              "      <th>GetCurrentObject</th>\n",
              "      <th>GetNearestPaletteIndex</th>\n",
              "      <th>DosDateTimeToFileTime</th>\n",
              "      <th>FreeConsole</th>\n",
              "      <th>SetFileSecurityA</th>\n",
              "      <th>DuplicateToken</th>\n",
              "      <th>bind</th>\n",
              "      <th>RegEnumKeyExA</th>\n",
              "      <th>WinHttpOpen</th>\n",
              "      <th>_controlfp</th>\n",
              "      <th>WinExec</th>\n",
              "      <th>GetSecurityDescriptorDacl</th>\n",
              "      <th>FindFirstFreeAce</th>\n",
              "      <th>GetTimeFormatW</th>\n",
              "      <th>LookupAccountSidW</th>\n",
              "      <th>malware_y</th>\n",
              "    </tr>\n",
              "  </thead>\n",
              "  <tbody>\n",
              "    <tr>\n",
              "      <th>0</th>\n",
              "      <td>071e8c3f8922e186e57548cd4c703a5d</td>\n",
              "      <td>443392</td>\n",
              "      <td>4096</td>\n",
              "      <td>6.529624</td>\n",
              "      <td>442984</td>\n",
              "      <td>1</td>\n",
              "      <td>1</td>\n",
              "      <td>1</td>\n",
              "      <td>1</td>\n",
              "      <td>1</td>\n",
              "      <td>1</td>\n",
              "      <td>1</td>\n",
              "      <td>1</td>\n",
              "      <td>1</td>\n",
              "      <td>1</td>\n",
              "      <td>1</td>\n",
              "      <td>1</td>\n",
              "      <td>1</td>\n",
              "      <td>1</td>\n",
              "      <td>1</td>\n",
              "      <td>1</td>\n",
              "      <td>1</td>\n",
              "      <td>1</td>\n",
              "      <td>1</td>\n",
              "      <td>1</td>\n",
              "      <td>0</td>\n",
              "      <td>1</td>\n",
              "      <td>1</td>\n",
              "      <td>1</td>\n",
              "      <td>1</td>\n",
              "      <td>1</td>\n",
              "      <td>1</td>\n",
              "      <td>0</td>\n",
              "      <td>1</td>\n",
              "      <td>1</td>\n",
              "      <td>1</td>\n",
              "      <td>1</td>\n",
              "      <td>0</td>\n",
              "      <td>0</td>\n",
              "      <td>1</td>\n",
              "      <td>...</td>\n",
              "      <td>0</td>\n",
              "      <td>0</td>\n",
              "      <td>0</td>\n",
              "      <td>0</td>\n",
              "      <td>0</td>\n",
              "      <td>0</td>\n",
              "      <td>0</td>\n",
              "      <td>0</td>\n",
              "      <td>0</td>\n",
              "      <td>0</td>\n",
              "      <td>0</td>\n",
              "      <td>0</td>\n",
              "      <td>0</td>\n",
              "      <td>0</td>\n",
              "      <td>0</td>\n",
              "      <td>0</td>\n",
              "      <td>0</td>\n",
              "      <td>0</td>\n",
              "      <td>0</td>\n",
              "      <td>0</td>\n",
              "      <td>0</td>\n",
              "      <td>0</td>\n",
              "      <td>0</td>\n",
              "      <td>0</td>\n",
              "      <td>0</td>\n",
              "      <td>0</td>\n",
              "      <td>0</td>\n",
              "      <td>0</td>\n",
              "      <td>0</td>\n",
              "      <td>0</td>\n",
              "      <td>0</td>\n",
              "      <td>0</td>\n",
              "      <td>0</td>\n",
              "      <td>0</td>\n",
              "      <td>0</td>\n",
              "      <td>0</td>\n",
              "      <td>0</td>\n",
              "      <td>0</td>\n",
              "      <td>0</td>\n",
              "      <td>1</td>\n",
              "    </tr>\n",
              "    <tr>\n",
              "      <th>1</th>\n",
              "      <td>33f8e6d08a6aae939f25a8e0d63dd523</td>\n",
              "      <td>331264</td>\n",
              "      <td>4096</td>\n",
              "      <td>6.604314</td>\n",
              "      <td>330784</td>\n",
              "      <td>1</td>\n",
              "      <td>1</td>\n",
              "      <td>1</td>\n",
              "      <td>1</td>\n",
              "      <td>1</td>\n",
              "      <td>1</td>\n",
              "      <td>1</td>\n",
              "      <td>1</td>\n",
              "      <td>1</td>\n",
              "      <td>1</td>\n",
              "      <td>1</td>\n",
              "      <td>1</td>\n",
              "      <td>1</td>\n",
              "      <td>1</td>\n",
              "      <td>1</td>\n",
              "      <td>1</td>\n",
              "      <td>1</td>\n",
              "      <td>1</td>\n",
              "      <td>1</td>\n",
              "      <td>1</td>\n",
              "      <td>1</td>\n",
              "      <td>1</td>\n",
              "      <td>1</td>\n",
              "      <td>1</td>\n",
              "      <td>1</td>\n",
              "      <td>1</td>\n",
              "      <td>1</td>\n",
              "      <td>1</td>\n",
              "      <td>1</td>\n",
              "      <td>1</td>\n",
              "      <td>1</td>\n",
              "      <td>1</td>\n",
              "      <td>1</td>\n",
              "      <td>1</td>\n",
              "      <td>1</td>\n",
              "      <td>...</td>\n",
              "      <td>0</td>\n",
              "      <td>0</td>\n",
              "      <td>0</td>\n",
              "      <td>0</td>\n",
              "      <td>0</td>\n",
              "      <td>0</td>\n",
              "      <td>0</td>\n",
              "      <td>0</td>\n",
              "      <td>0</td>\n",
              "      <td>0</td>\n",
              "      <td>0</td>\n",
              "      <td>0</td>\n",
              "      <td>0</td>\n",
              "      <td>0</td>\n",
              "      <td>0</td>\n",
              "      <td>0</td>\n",
              "      <td>0</td>\n",
              "      <td>0</td>\n",
              "      <td>0</td>\n",
              "      <td>0</td>\n",
              "      <td>0</td>\n",
              "      <td>1</td>\n",
              "      <td>0</td>\n",
              "      <td>0</td>\n",
              "      <td>0</td>\n",
              "      <td>0</td>\n",
              "      <td>0</td>\n",
              "      <td>0</td>\n",
              "      <td>0</td>\n",
              "      <td>0</td>\n",
              "      <td>0</td>\n",
              "      <td>0</td>\n",
              "      <td>0</td>\n",
              "      <td>0</td>\n",
              "      <td>0</td>\n",
              "      <td>0</td>\n",
              "      <td>0</td>\n",
              "      <td>0</td>\n",
              "      <td>0</td>\n",
              "      <td>1</td>\n",
              "    </tr>\n",
              "    <tr>\n",
              "      <th>2</th>\n",
              "      <td>b68abd064e975e1c6d5f25e748663076</td>\n",
              "      <td>74240</td>\n",
              "      <td>4096</td>\n",
              "      <td>6.046789</td>\n",
              "      <td>73819</td>\n",
              "      <td>1</td>\n",
              "      <td>1</td>\n",
              "      <td>1</td>\n",
              "      <td>1</td>\n",
              "      <td>1</td>\n",
              "      <td>1</td>\n",
              "      <td>0</td>\n",
              "      <td>1</td>\n",
              "      <td>0</td>\n",
              "      <td>1</td>\n",
              "      <td>0</td>\n",
              "      <td>1</td>\n",
              "      <td>0</td>\n",
              "      <td>0</td>\n",
              "      <td>0</td>\n",
              "      <td>0</td>\n",
              "      <td>1</td>\n",
              "      <td>1</td>\n",
              "      <td>1</td>\n",
              "      <td>0</td>\n",
              "      <td>1</td>\n",
              "      <td>0</td>\n",
              "      <td>0</td>\n",
              "      <td>0</td>\n",
              "      <td>0</td>\n",
              "      <td>0</td>\n",
              "      <td>0</td>\n",
              "      <td>0</td>\n",
              "      <td>0</td>\n",
              "      <td>0</td>\n",
              "      <td>0</td>\n",
              "      <td>0</td>\n",
              "      <td>0</td>\n",
              "      <td>0</td>\n",
              "      <td>0</td>\n",
              "      <td>...</td>\n",
              "      <td>0</td>\n",
              "      <td>0</td>\n",
              "      <td>0</td>\n",
              "      <td>0</td>\n",
              "      <td>0</td>\n",
              "      <td>1</td>\n",
              "      <td>0</td>\n",
              "      <td>1</td>\n",
              "      <td>0</td>\n",
              "      <td>0</td>\n",
              "      <td>0</td>\n",
              "      <td>0</td>\n",
              "      <td>0</td>\n",
              "      <td>0</td>\n",
              "      <td>0</td>\n",
              "      <td>1</td>\n",
              "      <td>0</td>\n",
              "      <td>0</td>\n",
              "      <td>0</td>\n",
              "      <td>0</td>\n",
              "      <td>0</td>\n",
              "      <td>0</td>\n",
              "      <td>0</td>\n",
              "      <td>0</td>\n",
              "      <td>0</td>\n",
              "      <td>0</td>\n",
              "      <td>0</td>\n",
              "      <td>0</td>\n",
              "      <td>0</td>\n",
              "      <td>0</td>\n",
              "      <td>0</td>\n",
              "      <td>1</td>\n",
              "      <td>0</td>\n",
              "      <td>0</td>\n",
              "      <td>0</td>\n",
              "      <td>0</td>\n",
              "      <td>0</td>\n",
              "      <td>0</td>\n",
              "      <td>0</td>\n",
              "      <td>1</td>\n",
              "    </tr>\n",
              "    <tr>\n",
              "      <th>3</th>\n",
              "      <td>72049be7bd30ea61297ea624ae198067</td>\n",
              "      <td>219648</td>\n",
              "      <td>4096</td>\n",
              "      <td>6.497018</td>\n",
              "      <td>219524</td>\n",
              "      <td>1</td>\n",
              "      <td>1</td>\n",
              "      <td>1</td>\n",
              "      <td>1</td>\n",
              "      <td>1</td>\n",
              "      <td>0</td>\n",
              "      <td>0</td>\n",
              "      <td>1</td>\n",
              "      <td>1</td>\n",
              "      <td>1</td>\n",
              "      <td>1</td>\n",
              "      <td>0</td>\n",
              "      <td>1</td>\n",
              "      <td>1</td>\n",
              "      <td>1</td>\n",
              "      <td>1</td>\n",
              "      <td>1</td>\n",
              "      <td>0</td>\n",
              "      <td>0</td>\n",
              "      <td>0</td>\n",
              "      <td>1</td>\n",
              "      <td>1</td>\n",
              "      <td>1</td>\n",
              "      <td>0</td>\n",
              "      <td>1</td>\n",
              "      <td>1</td>\n",
              "      <td>1</td>\n",
              "      <td>1</td>\n",
              "      <td>1</td>\n",
              "      <td>1</td>\n",
              "      <td>1</td>\n",
              "      <td>0</td>\n",
              "      <td>0</td>\n",
              "      <td>0</td>\n",
              "      <td>0</td>\n",
              "      <td>...</td>\n",
              "      <td>0</td>\n",
              "      <td>0</td>\n",
              "      <td>0</td>\n",
              "      <td>0</td>\n",
              "      <td>0</td>\n",
              "      <td>0</td>\n",
              "      <td>0</td>\n",
              "      <td>0</td>\n",
              "      <td>0</td>\n",
              "      <td>0</td>\n",
              "      <td>0</td>\n",
              "      <td>0</td>\n",
              "      <td>0</td>\n",
              "      <td>0</td>\n",
              "      <td>0</td>\n",
              "      <td>0</td>\n",
              "      <td>0</td>\n",
              "      <td>0</td>\n",
              "      <td>0</td>\n",
              "      <td>0</td>\n",
              "      <td>0</td>\n",
              "      <td>0</td>\n",
              "      <td>0</td>\n",
              "      <td>0</td>\n",
              "      <td>0</td>\n",
              "      <td>0</td>\n",
              "      <td>0</td>\n",
              "      <td>0</td>\n",
              "      <td>0</td>\n",
              "      <td>0</td>\n",
              "      <td>0</td>\n",
              "      <td>0</td>\n",
              "      <td>0</td>\n",
              "      <td>0</td>\n",
              "      <td>0</td>\n",
              "      <td>0</td>\n",
              "      <td>0</td>\n",
              "      <td>0</td>\n",
              "      <td>0</td>\n",
              "      <td>1</td>\n",
              "    </tr>\n",
              "    <tr>\n",
              "      <th>4</th>\n",
              "      <td>c9b3700a77facf29172f32df6bc77f48</td>\n",
              "      <td>262144</td>\n",
              "      <td>4096</td>\n",
              "      <td>6.638142</td>\n",
              "      <td>261943</td>\n",
              "      <td>1</td>\n",
              "      <td>1</td>\n",
              "      <td>1</td>\n",
              "      <td>1</td>\n",
              "      <td>1</td>\n",
              "      <td>1</td>\n",
              "      <td>1</td>\n",
              "      <td>1</td>\n",
              "      <td>1</td>\n",
              "      <td>1</td>\n",
              "      <td>1</td>\n",
              "      <td>1</td>\n",
              "      <td>1</td>\n",
              "      <td>1</td>\n",
              "      <td>1</td>\n",
              "      <td>1</td>\n",
              "      <td>1</td>\n",
              "      <td>1</td>\n",
              "      <td>1</td>\n",
              "      <td>1</td>\n",
              "      <td>1</td>\n",
              "      <td>1</td>\n",
              "      <td>1</td>\n",
              "      <td>1</td>\n",
              "      <td>1</td>\n",
              "      <td>1</td>\n",
              "      <td>1</td>\n",
              "      <td>1</td>\n",
              "      <td>1</td>\n",
              "      <td>1</td>\n",
              "      <td>1</td>\n",
              "      <td>1</td>\n",
              "      <td>1</td>\n",
              "      <td>1</td>\n",
              "      <td>1</td>\n",
              "      <td>...</td>\n",
              "      <td>0</td>\n",
              "      <td>0</td>\n",
              "      <td>0</td>\n",
              "      <td>0</td>\n",
              "      <td>0</td>\n",
              "      <td>0</td>\n",
              "      <td>0</td>\n",
              "      <td>0</td>\n",
              "      <td>0</td>\n",
              "      <td>0</td>\n",
              "      <td>0</td>\n",
              "      <td>0</td>\n",
              "      <td>0</td>\n",
              "      <td>0</td>\n",
              "      <td>0</td>\n",
              "      <td>0</td>\n",
              "      <td>0</td>\n",
              "      <td>0</td>\n",
              "      <td>0</td>\n",
              "      <td>0</td>\n",
              "      <td>0</td>\n",
              "      <td>0</td>\n",
              "      <td>0</td>\n",
              "      <td>0</td>\n",
              "      <td>0</td>\n",
              "      <td>0</td>\n",
              "      <td>0</td>\n",
              "      <td>0</td>\n",
              "      <td>0</td>\n",
              "      <td>0</td>\n",
              "      <td>0</td>\n",
              "      <td>0</td>\n",
              "      <td>0</td>\n",
              "      <td>0</td>\n",
              "      <td>0</td>\n",
              "      <td>0</td>\n",
              "      <td>0</td>\n",
              "      <td>0</td>\n",
              "      <td>0</td>\n",
              "      <td>1</td>\n",
              "    </tr>\n",
              "  </tbody>\n",
              "</table>\n",
              "<p>5 rows × 1007 columns</p>\n",
              "</div>"
            ],
            "text/plain": [
              "                               hash  size_of_data  ...  LookupAccountSidW  malware_y\n",
              "0  071e8c3f8922e186e57548cd4c703a5d        443392  ...                  0          1\n",
              "1  33f8e6d08a6aae939f25a8e0d63dd523        331264  ...                  0          1\n",
              "2  b68abd064e975e1c6d5f25e748663076         74240  ...                  0          1\n",
              "3  72049be7bd30ea61297ea624ae198067        219648  ...                  0          1\n",
              "4  c9b3700a77facf29172f32df6bc77f48        262144  ...                  0          1\n",
              "\n",
              "[5 rows x 1007 columns]"
            ]
          },
          "metadata": {
            "tags": []
          },
          "execution_count": 7
        }
      ]
    },
    {
      "cell_type": "markdown",
      "metadata": {
        "id": "TYDjjBBkun6e"
      },
      "source": [
        ""
      ]
    },
    {
      "cell_type": "code",
      "metadata": {
        "colab": {
          "base_uri": "https://localhost:8080/"
        },
        "id": "BxFBtC57m8xN",
        "outputId": "d624aca4-5e8d-4b76-8864-c1259d51d845"
      },
      "source": [
        "howmanyna=df.isna().sum().sum()\n",
        "print(howmanyna)"
      ],
      "execution_count": null,
      "outputs": [
        {
          "output_type": "stream",
          "text": [
            "0\n"
          ],
          "name": "stdout"
        }
      ]
    },
    {
      "cell_type": "code",
      "metadata": {
        "colab": {
          "base_uri": "https://localhost:8080/"
        },
        "id": "Jj-zPhQ4BVUZ",
        "outputId": "7b39e64d-8cf7-4406-ca21-30bf0755c600"
      },
      "source": [
        "df['malware_x'].value_counts()"
      ],
      "execution_count": null,
      "outputs": [
        {
          "output_type": "execute_result",
          "data": {
            "text/plain": [
              "1    41450\n",
              "0     1723\n",
              "Name: malware_x, dtype: int64"
            ]
          },
          "metadata": {
            "tags": []
          },
          "execution_count": 9
        }
      ]
    },
    {
      "cell_type": "code",
      "metadata": {
        "colab": {
          "base_uri": "https://localhost:8080/",
          "height": 298
        },
        "id": "aGCF7rCMhjcd",
        "outputId": "8835008b-419d-42b2-af44-5d31269f3fa6"
      },
      "source": [
        "%matplotlib inline\n",
        "import seaborn as sns\n",
        "sns.countplot(data=df,x=\"malware_x\")"
      ],
      "execution_count": null,
      "outputs": [
        {
          "output_type": "execute_result",
          "data": {
            "text/plain": [
              "<matplotlib.axes._subplots.AxesSubplot at 0x7f168015ba50>"
            ]
          },
          "metadata": {
            "tags": []
          },
          "execution_count": 10
        },
        {
          "output_type": "display_data",
          "data": {
            "image/png": "[encoded data removed]",
            "text/plain": [
              "<Figure size 432x288 with 1 Axes>"
            ]
          },
          "metadata": {
            "tags": []
          }
        }
      ]
    },
    {
      "cell_type": "code",
      "metadata": {
        "colab": {
          "base_uri": "https://localhost:8080/"
        },
        "id": "f3V8VllbBVkM",
        "outputId": "2ca0d334-f09d-4b41-f738-e4ee04350da2"
      },
      "source": [
        "df['malware_y'].value_counts()"
      ],
      "execution_count": null,
      "outputs": [
        {
          "output_type": "execute_result",
          "data": {
            "text/plain": [
              "1    41449\n",
              "0     1724\n",
              "Name: malware_y, dtype: int64"
            ]
          },
          "metadata": {
            "tags": []
          },
          "execution_count": 11
        }
      ]
    },
    {
      "cell_type": "code",
      "metadata": {
        "colab": {
          "base_uri": "https://localhost:8080/",
          "height": 298
        },
        "id": "i_idqk8whgZE",
        "outputId": "29e32a65-a060-481c-8913-64d2c5807791"
      },
      "source": [
        "%matplotlib inline\n",
        "import seaborn as sns\n",
        "sns.countplot(data=df,x=\"malware_y\")"
      ],
      "execution_count": null,
      "outputs": [
        {
          "output_type": "execute_result",
          "data": {
            "text/plain": [
              "<matplotlib.axes._subplots.AxesSubplot at 0x7f167fc936d0>"
            ]
          },
          "metadata": {
            "tags": []
          },
          "execution_count": 12
        },
        {
          "output_type": "display_data",
          "data": {
            "image/png": "[encoded data removed]",
            "text/plain": [
              "<Figure size 432x288 with 1 Axes>"
            ]
          },
          "metadata": {
            "tags": []
          }
        }
      ]
    },
    {
      "cell_type": "code",
      "metadata": {
        "colab": {
          "base_uri": "https://localhost:8080/",
          "height": 336
        },
        "id": "CJEpmQdZ62YY",
        "outputId": "5154cfaa-df80-4e19-d535-4d8f6e7fedd7"
      },
      "source": [
        "sns.heatmap(data1.corr(),annot = True, cmap = \"RdYlBu\")\n",
        "plt.draw()"
      ],
      "execution_count": null,
      "outputs": [
        {
          "output_type": "display_data",
          "data": {
            "image/png": "[encoded data removed]",
            "text/plain": [
              "<Figure size 432x288 with 2 Axes>"
            ]
          },
          "metadata": {
            "tags": []
          }
        }
      ]
    },
    {
      "cell_type": "code",
      "metadata": {
        "colab": {
          "base_uri": "https://localhost:8080/",
          "height": 418
        },
        "id": "1ncI4T2CB10f",
        "outputId": "2926d8d2-34e2-4b06-fd1e-3b4573cd5c11"
      },
      "source": [
        "# create correlation matrix heatmap\n",
        "f, ax = plt.subplots(figsize=(10, 6))\n",
        "corr = data1.corr()\n",
        "hm = sns.heatmap(round(corr,2), annot=True, ax=ax, cmap=\"coolwarm\",fmt='.2f',\n",
        "                 linewidths=.05)\n",
        "f.subplots_adjust(top=0.9)\n",
        "t= f.suptitle('Malware Correlation Heatmap', fontsize=14)"
      ],
      "execution_count": null,
      "outputs": [
        {
          "output_type": "display_data",
          "data": {
            "image/png": "[encoded data removed]",
            "text/plain": [
              "<Figure size 720x432 with 2 Axes>"
            ]
          },
          "metadata": {
            "tags": []
          }
        }
      ]
    },
    {
      "cell_type": "code",
      "metadata": {
        "colab": {
          "base_uri": "https://localhost:8080/"
        },
        "id": "uTeic0dQBmXI",
        "outputId": "8a8a0089-000f-43dc-bb4c-d2b756175192"
      },
      "source": [
        "howmanyna=df.isna().sum().sum()\n",
        "print(howmanyna)"
      ],
      "execution_count": null,
      "outputs": [
        {
          "output_type": "stream",
          "text": [
            "0\n"
          ],
          "name": "stdout"
        }
      ]
    },
    {
      "cell_type": "code",
      "metadata": {
        "id": "_8JFqHQ17b5J"
      },
      "source": [
        "df.drop(['hash', 'malware_x'], axis = 1, inplace = True)\n",
        "df.rename(columns = { \"malware_y\" : \"malware\" }, inplace = True)"
      ],
      "execution_count": null,
      "outputs": []
    },
    {
      "cell_type": "code",
      "metadata": {
        "colab": {
          "base_uri": "https://localhost:8080/"
        },
        "id": "i9HZ9ENR7KUo",
        "outputId": "48927d16-8572-4ff7-9294-3c4eeb8c276d"
      },
      "source": [
        "df['malware'].value_counts()"
      ],
      "execution_count": null,
      "outputs": [
        {
          "output_type": "execute_result",
          "data": {
            "text/plain": [
              "1    41449\n",
              "0     1724\n",
              "Name: malware, dtype: int64"
            ]
          },
          "metadata": {
            "tags": []
          },
          "execution_count": 17
        }
      ]
    },
    {
      "cell_type": "code",
      "metadata": {
        "colab": {
          "base_uri": "https://localhost:8080/",
          "height": 297
        },
        "id": "62NrMRN87Tv7",
        "outputId": "06fd2ec8-0008-4536-aca1-a51fe61d3678"
      },
      "source": [
        "%matplotlib inline\n",
        "import seaborn as sns\n",
        "sns.countplot(data=df,x=\"malware\")"
      ],
      "execution_count": null,
      "outputs": [
        {
          "output_type": "execute_result",
          "data": {
            "text/plain": [
              "<matplotlib.axes._subplots.AxesSubplot at 0x7f167fe21ed0>"
            ]
          },
          "metadata": {
            "tags": []
          },
          "execution_count": 18
        },
        {
          "output_type": "display_data",
          "data": {
            "image/png": "[encoded data removed]",
            "text/plain": [
              "<Figure size 432x288 with 1 Axes>"
            ]
          },
          "metadata": {
            "tags": []
          }
        }
      ]
    },
    {
      "cell_type": "code",
      "metadata": {
        "colab": {
          "base_uri": "https://localhost:8080/"
        },
        "id": "ObKUQccZ7a8T",
        "outputId": "a548a7d4-11c0-4912-9941-e3f90686f8ea"
      },
      "source": [
        "X = df.values[:, 0:3].astype(\"float\")\n",
        "X = np.concatenate((X, df.values[:,3:1003].astype(\"uint8\")), axis = 1)\n",
        "y = df.values[:, 1003].astype(\"uint8\")\n",
        "print(X.shape)\n",
        "print(y.shape)"
      ],
      "execution_count": null,
      "outputs": [
        {
          "output_type": "stream",
          "text": [
            "(43173, 1003)\n",
            "(43173,)\n"
          ],
          "name": "stdout"
        }
      ]
    },
    {
      "cell_type": "markdown",
      "metadata": {
        "id": "qhdy58TUGjP3"
      },
      "source": [
        "the stratify parameter within train_test split is ensuring a stratified split of classes for cinary classess within a dataset, however for multi-class distributed stratification stratify need to be defined therefore it is recommended to define the stratify parameter for any classification task\n"
      ]
    },
    {
      "cell_type": "code",
      "metadata": {
        "colab": {
          "base_uri": "https://localhost:8080/"
        },
        "id": "72fYf5tg7n76",
        "outputId": "d6a8c177-3e7b-4bc8-ea23-49f7d25a52c0"
      },
      "source": [
        "from sklearn.model_selection import StratifiedKFold\n",
        "skf=StratifiedKFold(n_splits=5, random_state=None)\n",
        "for train_index,test_index in skf.split(X,y):\n",
        "    x1_train,x1_test=X[train_index],X[test_index]\n",
        "    y1_train,y1_test=y[train_index],y[test_index]\n",
        "    train_0, train_1 = len(y1_train[y1_train==0]), len(y1_train[y1_train==1])\n",
        "    test_0, test_1 = len(y1_test[y1_test==0]), len(y1_test[y1_test==1])\n",
        "    print('>Train: 0=%d, 1=%d, Test: 0=%d, 1=%d' % (train_0, train_1, test_0, test_1))"
      ],
      "execution_count": null,
      "outputs": [
        {
          "output_type": "stream",
          "text": [
            ">Train: 0=33636, 1=902, Test: 0=8410, 1=225\n",
            ">Train: 0=33637, 1=901, Test: 0=8409, 1=226\n",
            ">Train: 0=33637, 1=901, Test: 0=8409, 1=226\n",
            ">Train: 0=33637, 1=902, Test: 0=8409, 1=225\n",
            ">Train: 0=33637, 1=902, Test: 0=8409, 1=225\n"
          ],
          "name": "stdout"
        }
      ]
    },
    {
      "cell_type": "code",
      "metadata": {
        "colab": {
          "base_uri": "https://localhost:8080/"
        },
        "id": "fVv9rCG67rDp",
        "outputId": "be5cf591-e114-439e-f951-98e5aa68f3d5"
      },
      "source": [
        "x1_train.shape,x1_test.shape,y1_train.shape,y1_test.shape"
      ],
      "execution_count": null,
      "outputs": [
        {
          "output_type": "execute_result",
          "data": {
            "text/plain": [
              "((34539, 1003), (8634, 1003), (34539,), (8634,))"
            ]
          },
          "metadata": {
            "tags": []
          },
          "execution_count": 21
        }
      ]
    },
    {
      "cell_type": "code",
      "metadata": {
        "colab": {
          "base_uri": "https://localhost:8080/"
        },
        "id": "54G6fy0P7t35",
        "outputId": "545db794-3529-47cc-8107-82ebc67d8b0c"
      },
      "source": [
        "from imblearn.over_sampling import SMOTENC\n",
        "smote_nc = SMOTENC(categorical_features=[0, 1], random_state=0)\n",
        "X1_res, y1_res = smote_nc.fit_resample(x1_train, y1_train)"
      ],
      "execution_count": null,
      "outputs": [
        {
          "output_type": "stream",
          "text": [
            "/usr/local/lib/python3.7/dist-packages/sklearn/externals/six.py:31: FutureWarning: The module is deprecated in version 0.21 and will be removed in version 0.23 since we've dropped support for Python 2.7. Please rely on the official version of six (https://pypi.org/project/six/).\n",
            "  \"(https://pypi.org/project/six/).\", FutureWarning)\n",
            "/usr/local/lib/python3.7/dist-packages/sklearn/utils/deprecation.py:144: FutureWarning: The sklearn.neighbors.base module is  deprecated in version 0.22 and will be removed in version 0.24. The corresponding classes / functions should instead be imported from sklearn.neighbors. Anything that cannot be imported from sklearn.neighbors is now part of the private API.\n",
            "  warnings.warn(message, FutureWarning)\n",
            "/usr/local/lib/python3.7/dist-packages/sklearn/utils/deprecation.py:87: FutureWarning: Function safe_indexing is deprecated; safe_indexing is deprecated in version 0.22 and will be removed in version 0.24.\n",
            "  warnings.warn(msg, category=FutureWarning)\n",
            "/usr/local/lib/python3.7/dist-packages/sklearn/utils/deprecation.py:87: FutureWarning: Function safe_indexing is deprecated; safe_indexing is deprecated in version 0.22 and will be removed in version 0.24.\n",
            "  warnings.warn(msg, category=FutureWarning)\n"
          ],
          "name": "stderr"
        }
      ]
    },
    {
      "cell_type": "code",
      "metadata": {
        "colab": {
          "base_uri": "https://localhost:8080/"
        },
        "id": "llcihwyY7xvV",
        "outputId": "7ddd1af2-8659-42f1-f6a5-216444b3e1e9"
      },
      "source": [
        "len(X1_res)"
      ],
      "execution_count": null,
      "outputs": [
        {
          "output_type": "execute_result",
          "data": {
            "text/plain": [
              "67274"
            ]
          },
          "metadata": {
            "tags": []
          },
          "execution_count": 23
        }
      ]
    },
    {
      "cell_type": "code",
      "metadata": {
        "colab": {
          "base_uri": "https://localhost:8080/"
        },
        "id": "auEdGqPW72G0",
        "outputId": "d025c12c-a6f9-4071-a1ca-6dc922b0744e"
      },
      "source": [
        "len(y1_res)"
      ],
      "execution_count": null,
      "outputs": [
        {
          "output_type": "execute_result",
          "data": {
            "text/plain": [
              "67274"
            ]
          },
          "metadata": {
            "tags": []
          },
          "execution_count": 24
        }
      ]
    },
    {
      "cell_type": "code",
      "metadata": {
        "colab": {
          "base_uri": "https://localhost:8080/"
        },
        "id": "hf3dKXi578z8",
        "outputId": "e447839c-4f88-4cc6-85f5-70c9f42caeff"
      },
      "source": [
        "from collections import Counter\n",
        "print(sorted(Counter(y1_res).items()))"
      ],
      "execution_count": null,
      "outputs": [
        {
          "output_type": "stream",
          "text": [
            "[(0, 33637), (1, 33637)]\n"
          ],
          "name": "stdout"
        }
      ]
    },
    {
      "cell_type": "code",
      "metadata": {
        "id": "iByGB8dMN3Hg"
      },
      "source": [
        "dclf = DecisionTreeClassifier()"
      ],
      "execution_count": null,
      "outputs": []
    },
    {
      "cell_type": "code",
      "metadata": {
        "id": "JwRD0BsGNran"
      },
      "source": [
        "dclf_f= dclf.fit(X1_res, y1_res)\n",
        "y_pred_dclf_f = dclf_f.predict(x1_test)"
      ],
      "execution_count": null,
      "outputs": []
    },
    {
      "cell_type": "code",
      "metadata": {
        "colab": {
          "base_uri": "https://localhost:8080/"
        },
        "id": "YAUqJSNEvxGt",
        "outputId": "0bab5fd3-989b-4157-b1c7-c6d6b9217d2e"
      },
      "source": [
        "from IPython.display import Image  \n",
        "from sklearn.externals.six import StringIO  \n",
        "from sklearn.tree import export_graphviz\n",
        "import pydot \n",
        "\n",
        "\n",
        "features = list(df.columns[:-2])\n",
        "features"
      ],
      "execution_count": null,
      "outputs": [
        {
          "output_type": "execute_result",
          "data": {
            "text/plain": [
              "['size_of_data',\n",
              " 'virtual_address',\n",
              " 'entropy',\n",
              " 'virtual_size',\n",
              " 'GetProcAddress',\n",
              " 'ExitProcess',\n",
              " 'WriteFile',\n",
              " 'GetLastError',\n",
              " 'CloseHandle',\n",
              " 'FreeLibrary',\n",
              " 'Sleep',\n",
              " 'GetStdHandle',\n",
              " 'MultiByteToWideChar',\n",
              " 'GetCurrentThreadId',\n",
              " 'FindClose',\n",
              " 'LeaveCriticalSection',\n",
              " 'EnterCriticalSection',\n",
              " 'VirtualAlloc',\n",
              " 'DeleteCriticalSection',\n",
              " 'WideCharToMultiByte',\n",
              " 'RegCloseKey',\n",
              " 'ReadFile',\n",
              " 'SetFilePointer',\n",
              " 'GetCurrentProcess',\n",
              " 'GetACP',\n",
              " 'UnhandledExceptionFilter',\n",
              " 'RaiseException',\n",
              " 'RtlUnwind',\n",
              " 'TlsGetValue',\n",
              " 'TlsSetValue',\n",
              " 'GetModuleHandleW',\n",
              " 'GetCPInfo',\n",
              " 'GetCurrentProcessId',\n",
              " 'VirtualFree',\n",
              " 'GetDC',\n",
              " 'GetModuleFileNameW',\n",
              " 'CreateFileW',\n",
              " 'SetEndOfFile',\n",
              " 'SetLastError',\n",
              " 'GetCommandLineW',\n",
              " 'DestroyWindow',\n",
              " 'QueryPerformanceCounter',\n",
              " 'VirtualQuery',\n",
              " 'ShowWindow',\n",
              " 'GetFileType',\n",
              " 'TerminateProcess',\n",
              " 'HeapFree',\n",
              " 'HeapAlloc',\n",
              " 'CreateThread',\n",
              " 'BeginPaint',\n",
              " 'EndPaint',\n",
              " 'GlobalAlloc',\n",
              " 'GetModuleHandleA',\n",
              " 'GetCommandLineA',\n",
              " 'GetWindowRect',\n",
              " 'DeleteObject',\n",
              " 'SetWindowPos',\n",
              " 'GetClientRect',\n",
              " 'SelectObject',\n",
              " 'LoadLibraryExW',\n",
              " 'GlobalLock',\n",
              " 'GlobalUnlock',\n",
              " 'GetSystemMetrics',\n",
              " 'IsWindow',\n",
              " 'GetSysColor',\n",
              " 'GetDeviceCaps',\n",
              " 'MulDiv',\n",
              " 'IsDebuggerPresent',\n",
              " 'InvalidateRect',\n",
              " 'SetTimer',\n",
              " 'LoadLibraryA',\n",
              " 'IsWindowVisible',\n",
              " 'HeapSize',\n",
              " 'GetStartupInfoW',\n",
              " 'GetFileSize',\n",
              " 'TranslateMessage',\n",
              " 'FillRect',\n",
              " 'VariantInit',\n",
              " 'SetForegroundWindow',\n",
              " 'SysFreeString',\n",
              " 'LoadResource',\n",
              " 'ReleaseDC',\n",
              " 'SizeofResource',\n",
              " 'GetSystemInfo',\n",
              " 'SetEvent',\n",
              " 'LocalFree',\n",
              " 'ScreenToClient',\n",
              " 'VirtualProtect',\n",
              " 'ResetEvent',\n",
              " 'GetTickCount',\n",
              " 'SetTextColor',\n",
              " 'SetBkMode',\n",
              " 'VariantClear',\n",
              " 'SetUnhandledExceptionFilter',\n",
              " 'CreateSolidBrush',\n",
              " 'LockResource',\n",
              " 'DeleteDC',\n",
              " 'GetStockObject',\n",
              " 'GetVersion',\n",
              " 'GetParent',\n",
              " 'SetFocus',\n",
              " 'GetSystemTimeAsFileTime',\n",
              " 'CreateCompatibleDC',\n",
              " 'RegOpenKeyExW',\n",
              " 'HeapReAlloc',\n",
              " 'LCMapStringW',\n",
              " 'RegQueryValueExW',\n",
              " 'UpdateWindow',\n",
              " 'CoCreateInstance',\n",
              " 'GetOEMCP',\n",
              " 'KillTimer',\n",
              " 'GetConsoleCP',\n",
              " 'GetWindow',\n",
              " 'GetEnvironmentStringsW',\n",
              " 'GetStringTypeW',\n",
              " 'GetProcessHeap',\n",
              " 'ClientToScreen',\n",
              " 'FreeEnvironmentStringsW',\n",
              " 'TlsAlloc',\n",
              " 'GetFocus',\n",
              " 'GetDesktopWindow',\n",
              " 'FlushFileBuffers',\n",
              " 'GetLocaleInfoW',\n",
              " 'TlsFree',\n",
              " 'GetDlgItem',\n",
              " 'WaitForSingleObject',\n",
              " 'InitializeCriticalSection',\n",
              " 'CreateWindowExW',\n",
              " 'SysAllocStringLen',\n",
              " 'SetStdHandle',\n",
              " 'IsValidCodePage',\n",
              " 'InitializeCriticalSectionAndSpinCount',\n",
              " 'LocalAlloc',\n",
              " 'GetConsoleMode',\n",
              " 'CoTaskMemFree',\n",
              " 'RedrawWindow',\n",
              " 'WriteConsoleW',\n",
              " 'CreateCompatibleBitmap',\n",
              " 'IsChild',\n",
              " 'OleInitialize',\n",
              " 'InterlockedIncrement',\n",
              " 'InterlockedDecrement',\n",
              " 'DispatchMessageW',\n",
              " 'GetCursorPos',\n",
              " 'BitBlt',\n",
              " 'DefWindowProcW',\n",
              " 'SendMessageW',\n",
              " 'IsProcessorFeaturePresent',\n",
              " 'SetWindowLongW',\n",
              " 'OleUninitialize',\n",
              " 'ReleaseCapture',\n",
              " 'SetCapture',\n",
              " 'LoadCursorW',\n",
              " 'CompareStringW',\n",
              " 'GetWindowThreadProcessId',\n",
              " 'CharNextW',\n",
              " 'FindNextFileW',\n",
              " 'GetModuleFileNameA',\n",
              " 'CreateEventW',\n",
              " 'GetFileAttributesW',\n",
              " 'RegSetValueExW',\n",
              " 'DecodePointer',\n",
              " 'CallWindowProcW',\n",
              " 'RegCreateKeyExW',\n",
              " 'EnumWindows',\n",
              " 'PeekMessageW',\n",
              " 'FindResourceW',\n",
              " 'GetDIBits',\n",
              " 'GetWindowLongW',\n",
              " 'SetWindowTextW',\n",
              " 'GetThreadLocale',\n",
              " 'MessageBoxW',\n",
              " 'IsValidLocale',\n",
              " 'RegDeleteValueW',\n",
              " 'RegDeleteKeyW',\n",
              " 'SetFilePointerEx',\n",
              " 'PostMessageW',\n",
              " 'EncodePointer',\n",
              " 'CoInitialize',\n",
              " 'FormatMessageW',\n",
              " 'GetWindowTextW',\n",
              " 'GetModuleHandleExW',\n",
              " 'SetErrorMode',\n",
              " 'GetUserDefaultLCID',\n",
              " 'GetObjectW',\n",
              " 'CoUninitialize',\n",
              " 'CreateFileA',\n",
              " 'GlobalFree',\n",
              " 'CoTaskMemAlloc',\n",
              " 'EnableWindow',\n",
              " 'PostQuitMessage',\n",
              " 'LoadLibraryExA',\n",
              " 'RegEnumKeyExW',\n",
              " 'GetClassNameW',\n",
              " 'DrawTextW',\n",
              " 'GetClassInfoExW',\n",
              " 'RegQueryInfoKeyW',\n",
              " 'CreateStreamOnHGlobal',\n",
              " 'RegisterWindowMessageW',\n",
              " 'RegOpenKeyExA',\n",
              " 'MessageBoxA',\n",
              " 'RegQueryValueExA',\n",
              " 'CreateAcceleratorTableW',\n",
              " 'lstrcmpW',\n",
              " 'SetCursor',\n",
              " 'CreateFontIndirectW',\n",
              " 'EnumSystemLocalesW',\n",
              " 'HeapDestroy',\n",
              " 'LoadBitmapW',\n",
              " 'SetBkColor',\n",
              " 'IsWindowEnabled',\n",
              " 'EnableMenuItem',\n",
              " 'CreateDirectoryW',\n",
              " 'InitializeSListHead',\n",
              " 'CreatePopupMenu',\n",
              " 'TrackPopupMenu',\n",
              " 'EqualRect',\n",
              " 'GetSystemMenu',\n",
              " 'DispatchMessageA',\n",
              " 'CharNextA',\n",
              " 'CreateBrushIndirect',\n",
              " 'ImageList_Create',\n",
              " 'ImageList_Destroy',\n",
              " 'PeekMessageA',\n",
              " 'UnregisterClassW',\n",
              " 'EnumChildWindows',\n",
              " 'FindFirstFileA',\n",
              " 'SendMessageA',\n",
              " 'GetMessageW',\n",
              " 'MapWindowPoints',\n",
              " 'lstrcmpiW',\n",
              " 'CloseClipboard',\n",
              " 'OutputDebugStringW',\n",
              " 'OpenClipboard',\n",
              " 'SetClipboardData',\n",
              " 'EmptyClipboard',\n",
              " 'GetLocaleInfoA',\n",
              " 'lstrlenA',\n",
              " 'FindFirstFileW',\n",
              " 'LoadLibraryW',\n",
              " 'FindFirstFileExW',\n",
              " 'ImageList_Add',\n",
              " 'VariantChangeType',\n",
              " 'CoGetClassObject',\n",
              " 'ShellExecuteW',\n",
              " 'VariantCopy',\n",
              " 'SysAllocString',\n",
              " 'GetLocalTime',\n",
              " 'MoveWindow',\n",
              " 'lstrlenW',\n",
              " 'RegisterClassExW',\n",
              " 'SysStringLen',\n",
              " 'ClosePrinter',\n",
              " 'SetFileAttributesW',\n",
              " 'AdjustWindowRectEx',\n",
              " 'GetKeyState',\n",
              " 'GetForegroundWindow',\n",
              " 'GetWindowTextLengthW',\n",
              " 'IsIconic',\n",
              " 'GetMenu',\n",
              " 'DestroyMenu',\n",
              " 'GetActiveWindow',\n",
              " 'GetEnvironmentVariableW',\n",
              " 'SetRect',\n",
              " 'LoadTypeLib',\n",
              " 'StretchBlt',\n",
              " 'GetSubMenu',\n",
              " 'GetFullPathNameW',\n",
              " 'SysReAllocStringLen',\n",
              " 'CreatePalette',\n",
              " 'LoadStringA',\n",
              " 'DestroyIcon',\n",
              " 'SaveDC',\n",
              " 'FreeResource',\n",
              " 'CreateDIBSection',\n",
              " 'GetSysColorBrush',\n",
              " 'LineTo',\n",
              " 'WindowFromPoint',\n",
              " 'GetMenuItemCount',\n",
              " 'MoveToEx',\n",
              " 'IsZoomed',\n",
              " 'GetClipBox',\n",
              " 'SetActiveWindow',\n",
              " 'GetWindowDC',\n",
              " 'RestoreDC',\n",
              " 'RegEnumKeyW',\n",
              " 'GetMenuItemID',\n",
              " 'WaitForSingleObjectEx',\n",
              " 'ShellExecuteExW',\n",
              " 'ReadConsoleW',\n",
              " 'FlushInstructionCache',\n",
              " 'InterlockedPushEntrySList',\n",
              " 'SetViewportOrgEx',\n",
              " 'CallNextHookEx',\n",
              " 'UnhookWindowsHookEx',\n",
              " 'OleLockRunning',\n",
              " 'CheckMenuItem',\n",
              " 'SetMenu',\n",
              " 'GetWindowPlacement',\n",
              " 'CoTaskMemRealloc',\n",
              " 'InterlockedExchange',\n",
              " 'CreateBitmap',\n",
              " 'GetCapture',\n",
              " 'GetTopWindow',\n",
              " 'InternetCloseHandle',\n",
              " 'SetThreadLocale',\n",
              " 'SetStretchBltMode',\n",
              " 'CLSIDFromString',\n",
              " 'GetMenuState',\n",
              " 'CreateHalftonePalette',\n",
              " 'GetLastActivePopup',\n",
              " 'GlobalDeleteAtom',\n",
              " 'GetVersionExW',\n",
              " 'DrawIconEx',\n",
              " 'OleCreateFontIndirect',\n",
              " 'SetWindowOrgEx',\n",
              " 'LoadRegTypeLib',\n",
              " 'VarUI4FromStr',\n",
              " 'DeleteMenu',\n",
              " 'CreateMenu',\n",
              " 'RectVisible',\n",
              " 'DrawFrameControl',\n",
              " 'FrameRect',\n",
              " 'InterlockedPopEntrySList',\n",
              " 'SafeArrayGetUBound',\n",
              " 'CreateDIBitmap',\n",
              " 'SafeArrayCreate',\n",
              " 'SafeArrayGetLBound',\n",
              " 'DeleteFileW',\n",
              " 'GetKeyboardLayout',\n",
              " 'GetPixel',\n",
              " 'DrawIcon',\n",
              " 'IsDialogMessageA',\n",
              " 'DrawMenuBar',\n",
              " 'VerQueryValueW',\n",
              " 'GetIconInfo',\n",
              " 'SetParent',\n",
              " 'RemoveMenu',\n",
              " 'SetPixel',\n",
              " 'DestroyCursor',\n",
              " 'SafeArrayPtrOfIndex',\n",
              " 'GetStartupInfoA',\n",
              " 'PatBlt',\n",
              " 'GetKeyboardState',\n",
              " 'InternetOpenW',\n",
              " 'ImageList_Remove',\n",
              " 'EnumThreadWindows',\n",
              " 'ExcludeClipRect',\n",
              " 'GetScrollPos',\n",
              " 'MessageBeep',\n",
              " 'SelectPalette',\n",
              " 'DrawEdge',\n",
              " 'RealizePalette',\n",
              " 'CLSIDFromProgID',\n",
              " 'ImageList_BeginDrag',\n",
              " 'GetScrollRange',\n",
              " 'ImageList_EndDrag',\n",
              " 'ImageList_DragLeave',\n",
              " 'CreatePenIndirect',\n",
              " 'FindResourceExW',\n",
              " 'ImageList_DragMove',\n",
              " 'SetScrollPos',\n",
              " 'ImageList_DragEnter',\n",
              " 'GetBitmapBits',\n",
              " 'GetScrollInfo',\n",
              " 'IntersectClipRect',\n",
              " 'SetScrollInfo',\n",
              " 'SetScrollRange',\n",
              " 'SetWindowPlacement',\n",
              " 'ActivateKeyboardLayout',\n",
              " 'ImageList_GetIconSize',\n",
              " 'SetBrushOrgEx',\n",
              " 'GetSystemPaletteEntries',\n",
              " 'GetCursor',\n",
              " 'GetClipboardData',\n",
              " 'ScrollWindow',\n",
              " 'SHGetFolderPathW',\n",
              " 'DrawFocusRect',\n",
              " 'EnableScrollBar',\n",
              " 'ImageList_ReplaceIcon',\n",
              " 'SetROP2',\n",
              " 'ShowScrollBar',\n",
              " 'ImageList_Draw',\n",
              " 'GetDCEx',\n",
              " 'ShowOwnedPopups',\n",
              " 'VarBstrCat',\n",
              " 'PathAddBackslashW',\n",
              " 'ImageList_GetImageCount',\n",
              " 'GetWindowOrgEx',\n",
              " 'TranslateMDISysAccel',\n",
              " 'ImageList_SetIconSize',\n",
              " 'WaitMessage',\n",
              " 'ImageList_SetBkColor',\n",
              " 'SetDIBColorTable',\n",
              " 'GetPaletteEntries',\n",
              " 'UnrealizeObject',\n",
              " 'CreateIcon',\n",
              " 'ImageList_DrawEx',\n",
              " 'HeapCreate',\n",
              " 'ImageList_DragShowNolock',\n",
              " 'GetKeyboardLayoutList',\n",
              " 'ImageList_Read',\n",
              " 'ImageList_GetBkColor',\n",
              " 'ImageList_Write',\n",
              " 'GetDIBColorTable',\n",
              " 'GetCurrentPositionEx',\n",
              " 'MaskBlt',\n",
              " 'CryptReleaseContext',\n",
              " 'ImageList_GetDragImage',\n",
              " 'GetBrushOrgEx',\n",
              " 'GetMessagePos',\n",
              " 'InternetConnectW',\n",
              " 'PlayEnhMetaFile',\n",
              " 'GetEnhMetaFileHeader',\n",
              " 'CryptAcquireContextW',\n",
              " 'HttpOpenRequestW',\n",
              " 'HttpSendRequestW',\n",
              " 'CreateWindowExA',\n",
              " 'GetFullPathNameA',\n",
              " 'CoCreateGuid',\n",
              " 'DestroyAcceleratorTable',\n",
              " 'InvalidateRgn',\n",
              " 'DeleteEnhMetaFile',\n",
              " 'GetWinMetaFileBits',\n",
              " 'StringFromGUID2',\n",
              " 'SetWinMetaFileBits',\n",
              " 'GetEnhMetaFilePaletteEntries',\n",
              " 'SetEnhMetaFileBits',\n",
              " 'GetEnhMetaFileBits',\n",
              " 'LoadStringW',\n",
              " 'PathAppendW',\n",
              " 'InternetCrackUrlW',\n",
              " 'CryptCreateHash',\n",
              " 'CryptDestroyHash',\n",
              " 'CryptHashData',\n",
              " 'lstrcpynA',\n",
              " 'SetWindowLongA',\n",
              " 'CryptGetHashParam',\n",
              " 'ImageList_Replace',\n",
              " 'GetExitCodeProcess',\n",
              " 'Shell_NotifyIconW',\n",
              " 'SetLayeredWindowAttributes',\n",
              " 'EndPage',\n",
              " 'EndDoc',\n",
              " 'InitCommonControls',\n",
              " 'DefWindowProcA',\n",
              " 'LoadCursorA',\n",
              " 'ImageList_SetImageCount',\n",
              " 'GetProcessId',\n",
              " 'CallWindowProcA',\n",
              " 'StartPage',\n",
              " 'RegisterClassW',\n",
              " 'UrlEscapeW',\n",
              " 'UrlUnescapeW',\n",
              " 'VarBstrCmp',\n",
              " 'GetWindowLongA',\n",
              " 'RemoveDirectoryW',\n",
              " 'AccessibleObjectFromWindow',\n",
              " 'PtInRect',\n",
              " 'SetAbortProc',\n",
              " 'GetDiskFreeSpaceW',\n",
              " 'GlobalSize',\n",
              " 'RegisterClassA',\n",
              " 'lstrcpyA',\n",
              " 'SetWindowTextA',\n",
              " 'GetVersionExA',\n",
              " 'FormatMessageA',\n",
              " 'SystemParametersInfoA',\n",
              " 'DrawTextA',\n",
              " 'ExitThread',\n",
              " 'GetDiskFreeSpaceA',\n",
              " 'OffsetRect',\n",
              " 'CreateFontIndirectA',\n",
              " 'VerQueryValueA',\n",
              " 'LoadBitmapA',\n",
              " 'GetMonitorInfoW',\n",
              " 'GetClassInfoA',\n",
              " 'Pie',\n",
              " 'UnregisterClassA',\n",
              " 'InflateRect',\n",
              " 'MsgWaitForMultipleObjects',\n",
              " 'SystemParametersInfoW',\n",
              " 'GetFileVersionInfoA',\n",
              " 'GetFileVersionInfoSizeA',\n",
              " 'RegEnumValueW',\n",
              " 'SetClassLongA',\n",
              " 'MonitorFromWindow',\n",
              " 'FileTimeToLocalFileTime',\n",
              " 'LoadIconW',\n",
              " 'GetFileVersionInfoSizeW',\n",
              " 'GetFileVersionInfoW',\n",
              " 'ResumeThread',\n",
              " 'GetCurrentThread',\n",
              " 'NetWkstaGetInfo',\n",
              " 'CompareStringA',\n",
              " 'CharUpperW',\n",
              " 'IsRectEmpty',\n",
              " 'FindWindowExW',\n",
              " 'CopyFileA',\n",
              " 'IntersectRect',\n",
              " 'SwitchToThread',\n",
              " 'Rectangle',\n",
              " 'FindResourceA',\n",
              " 'GetPrivateProfileStringA',\n",
              " 'GlobalHandle',\n",
              " 'GetClassInfoW',\n",
              " 'CharPrevA',\n",
              " 'SetFileTime',\n",
              " 'WritePrivateProfileStringA',\n",
              " 'GetKeyboardType',\n",
              " 'GetExitCodeThread',\n",
              " 'CharUpperBuffW',\n",
              " 'SetThreadPriority',\n",
              " 'SetClassLongW',\n",
              " 'GetDlgCtrlID',\n",
              " 'ExitWindowsEx',\n",
              " 'PostMessageA',\n",
              " 'GetDateFormatW',\n",
              " 'CreateEventA',\n",
              " 'GetTempPathW',\n",
              " 'EndDialog',\n",
              " 'CreateRectRgn',\n",
              " 'LoadIconA',\n",
              " 'GetTextExtentPoint32W',\n",
              " 'GetObjectA',\n",
              " 'VerSetConditionMask',\n",
              " 'EnumCalendarInfoW',\n",
              " 'FindWindowW',\n",
              " 'IsEqualGUID',\n",
              " 'GetDateFormatA',\n",
              " 'OleDraw',\n",
              " 'IsDialogMessageW',\n",
              " 'GetPropW',\n",
              " 'Polyline',\n",
              " 'SetPropW',\n",
              " 'VerifyVersionInfoW',\n",
              " 'SetWindowRgn',\n",
              " 'RoundRect',\n",
              " 'FindNextFileA',\n",
              " 'CreateProcessW',\n",
              " 'GetErrorInfo',\n",
              " 'GetWindowTextA',\n",
              " 'GetTimeZoneInformation',\n",
              " '_TrackMouseEvent',\n",
              " 'SuspendThread',\n",
              " 'GetTextMetricsW',\n",
              " 'GetClassNameA',\n",
              " 'SetHandleCount',\n",
              " 'GlobalReAlloc',\n",
              " 'QueryPerformanceFrequency',\n",
              " 'lstrcmpiA',\n",
              " 'Ellipse',\n",
              " 'GdiFlush',\n",
              " 'HideCaret',\n",
              " 'SetWindowsHookExW',\n",
              " 'GetClassLongW',\n",
              " 'SHGetSpecialFolderLocation',\n",
              " 'CopyImage',\n",
              " 'InterlockedCompareExchange',\n",
              " 'ExtTextOutW',\n",
              " 'SetPropA',\n",
              " 'IsClipboardFormatAvailable',\n",
              " 'GetPropA',\n",
              " 'FindWindowA',\n",
              " 'GetMenuItemInfoW',\n",
              " 'GetUserDefaultUILanguage',\n",
              " 'RegisterWindowMessageA',\n",
              " 'RegFlushKey',\n",
              " 'RemovePropW',\n",
              " 'MonitorFromPoint',\n",
              " 'ShowCaret',\n",
              " 'SleepEx',\n",
              " 'GetTextExtentPoint32A',\n",
              " 'RemovePropA',\n",
              " 'GlobalAddAtomA',\n",
              " 'GetRgnBox',\n",
              " 'GetThreadPriority',\n",
              " 'GetSystemDefaultUILanguage',\n",
              " 'CharLowerBuffW',\n",
              " 'MapVirtualKeyW',\n",
              " 'SetWindowsHookExA',\n",
              " 'GlobalAddAtomW',\n",
              " 'SetMenuItemInfoW',\n",
              " 'InsertMenuItemW',\n",
              " 'GetTextMetricsA',\n",
              " 'DeleteFileA',\n",
              " 'RegisterClipboardFormatW',\n",
              " 'TryEnterCriticalSection',\n",
              " 'GetMenuStringW',\n",
              " 'GlobalFindAtomA',\n",
              " 'EnumClipboardFormats',\n",
              " 'SetCursorPos',\n",
              " 'GlobalFindAtomW',\n",
              " 'GetFileAttributesA',\n",
              " 'CharToOemA',\n",
              " 'IsWindowUnicode',\n",
              " 'RegSaveKeyW',\n",
              " 'DrawTextExW',\n",
              " 'GetKeyNameTextW',\n",
              " 'CreateDCW',\n",
              " 'OemToCharA',\n",
              " 'wsprintfA',\n",
              " 'WinHelpA',\n",
              " 'RegisterClipboardFormatA',\n",
              " 'DragFinish',\n",
              " 'InsertMenuW',\n",
              " 'RegSetValueExA',\n",
              " 'ImageList_SetDragCursorImage',\n",
              " 'OpenPrinterW',\n",
              " 'Polygon',\n",
              " 'EnumDisplayMonitors',\n",
              " 'CharLowerW',\n",
              " 'StretchDIBits',\n",
              " 'WaitForMultipleObjectsEx',\n",
              " 'GetMenuItemInfoA',\n",
              " 'EnumResourceNamesW',\n",
              " 'InsertMenuA',\n",
              " 'MapVirtualKeyA',\n",
              " 'InsertMenuItemA',\n",
              " 'CharLowerA',\n",
              " 'GetKeyboardLayoutNameW',\n",
              " 'GetMenuStringA',\n",
              " 'DocumentPropertiesW',\n",
              " 'ImageList_GetIcon',\n",
              " 'VariantCopyInd',\n",
              " 'MsgWaitForMultipleObjectsEx',\n",
              " 'GetDCOrgEx',\n",
              " 'EnumCalendarInfoA',\n",
              " 'SetMenuItemInfoA',\n",
              " 'DefFrameProcA',\n",
              " 'CopyIcon',\n",
              " 'DefMDIChildProcA',\n",
              " 'AngleArc',\n",
              " 'ShowCursor',\n",
              " 'RegConnectRegistryW',\n",
              " 'VirtualQueryEx',\n",
              " 'GetKeyNameTextA',\n",
              " 'SetMapMode',\n",
              " 'EnumFontFamiliesExW',\n",
              " 'FrameRgn',\n",
              " 'GetStringTypeExA',\n",
              " 'FileTimeToDosDateTime',\n",
              " 'StringFromCLSID',\n",
              " 'MonitorFromRect',\n",
              " 'FlatSB_SetScrollProp',\n",
              " 'LoadKeyboardLayoutA',\n",
              " 'FlatSB_SetScrollPos',\n",
              " 'FlatSB_GetScrollPos',\n",
              " 'FlatSB_GetScrollInfo',\n",
              " 'ExtFloodFill',\n",
              " 'InitializeFlatSB',\n",
              " 'FlatSB_SetScrollInfo',\n",
              " 'DefFrameProcW',\n",
              " 'GetComputerNameW',\n",
              " 'RegLoadKeyW',\n",
              " 'DefMDIChildProcW',\n",
              " 'SetDIBits',\n",
              " 'ImageList_GetImageInfo',\n",
              " 'GetMessageExtraInfo',\n",
              " 'CreateDirectoryA',\n",
              " 'Arc',\n",
              " 'OpenProcessToken',\n",
              " 'GetTextExtentPointW',\n",
              " 'LoadKeyboardLayoutW',\n",
              " 'EndMenu',\n",
              " 'CopyEnhMetaFileW',\n",
              " 'GetCPInfoExW',\n",
              " 'PolyBezierTo',\n",
              " 'ImageList_Copy',\n",
              " 'ImageList_LoadImageW',\n",
              " 'ArcTo',\n",
              " 'PolyBezier',\n",
              " 'lstrcmpA',\n",
              " 'Chord',\n",
              " 'GetMessageTime',\n",
              " 'GetEnhMetaFileDescriptionW',\n",
              " 'StartDocW',\n",
              " 'ImageList_SetOverlayImage',\n",
              " 'RegUnLoadKeyW',\n",
              " 'SetEnvironmentVariableA',\n",
              " 'EnumFontsW',\n",
              " 'AbortDoc',\n",
              " 'RegRestoreKeyW',\n",
              " 'RegCreateKeyExA',\n",
              " 'EnumPrintersW',\n",
              " 'CreateICW',\n",
              " 'GetTempPathA',\n",
              " 'RegReplaceKeyW',\n",
              " 'SendDlgItemMessageA',\n",
              " 'GetDefaultPrinterW',\n",
              " 'CharLowerBuffA',\n",
              " 'GetOpenFileNameA',\n",
              " 'BringWindowToTop',\n",
              " 'OpenProcess',\n",
              " 'GetSystemDirectoryW',\n",
              " 'CopyEnhMetaFileA',\n",
              " 'CheckDlgButton',\n",
              " 'CreateProcessA',\n",
              " 'NetApiBufferFree',\n",
              " 'SetRectRgn',\n",
              " 'GetSaveFileNameA',\n",
              " 'DragAcceptFiles',\n",
              " 'lstrcpynW',\n",
              " 'ProgIDFromCLSID',\n",
              " 'VirtualProtectEx',\n",
              " 'ExpandEnvironmentStringsW',\n",
              " 'GetThreadContext',\n",
              " 'OpenPrinterA',\n",
              " 'GetStretchBltMode',\n",
              " 'GetActiveObject',\n",
              " 'LPtoDP',\n",
              " 'CompareFileTime',\n",
              " 'CreateDCA',\n",
              " 'GetAsyncKeyState',\n",
              " 'RemoveDirectoryA',\n",
              " 'TextOutA',\n",
              " 'CloseEnhMetaFile',\n",
              " 'DocumentPropertiesA',\n",
              " 'SetCurrentDirectoryW',\n",
              " 'OleSetMenuDescriptor',\n",
              " 'ShellExecuteA',\n",
              " 'SHGetFolderPathA',\n",
              " 'ImageList_AddMasked',\n",
              " 'GetWindowsDirectoryA',\n",
              " 'IsAccelerator',\n",
              " 'LresultFromObject',\n",
              " 'GetWindowsDirectoryW',\n",
              " 'CreateEnhMetaFileW',\n",
              " 'GetProfileStringA',\n",
              " 'GetTextExtentPointA',\n",
              " 'RegDeleteValueA',\n",
              " 'MoveFileW',\n",
              " 'DragQueryFileA',\n",
              " 'PrintDlgA',\n",
              " 'StartDocA',\n",
              " 'EnumPrintersA',\n",
              " 'CreateICA',\n",
              " 'memcpy',\n",
              " 'GetDCPenColor',\n",
              " 'FindTextA',\n",
              " 'ChooseFontA',\n",
              " 'lstrcatA',\n",
              " 'OleRegEnumVerbs',\n",
              " 'ReplaceTextA',\n",
              " 'PageSetupDlgA',\n",
              " 'RegDeleteKeyA',\n",
              " 'sndPlaySoundW',\n",
              " 'GetProfileIntA',\n",
              " 'WaitForMultipleObjects',\n",
              " 'GetSystemDirectoryA',\n",
              " 'RegEnumKeyA',\n",
              " 'RegEnumValueA',\n",
              " 'AdjustTokenPrivileges',\n",
              " 'SetFileAttributesA',\n",
              " 'GetSystemTime',\n",
              " 'FileTimeToSystemTime',\n",
              " 'SetCurrentDirectoryA',\n",
              " 'ExpandEnvironmentStringsA',\n",
              " 'SHGetPathFromIDListW',\n",
              " 'SafeArrayAccessData',\n",
              " 'SafeArrayUnaccessData',\n",
              " 'ReleaseMutex',\n",
              " 'GetConsoleOutputCP',\n",
              " 'SetErrorInfo',\n",
              " 'UnmapViewOfFile',\n",
              " 'CopyFileW',\n",
              " 'CreateErrorInfo',\n",
              " 'LoadImageW',\n",
              " 'CreateMutexW',\n",
              " 'wsprintfW',\n",
              " 'HeapSetInformation',\n",
              " 'LookupPrivilegeValueW',\n",
              " 'GetTempFileNameA',\n",
              " 'PathFileExistsW',\n",
              " 'SystemTimeToFileTime',\n",
              " 'SHBrowseForFolderW',\n",
              " 'MoveFileA',\n",
              " 'lstrcpyW',\n",
              " 'SetDlgItemTextA',\n",
              " 'CreateFileMappingW',\n",
              " 'MoveFileExW',\n",
              " 'AllocateAndInitializeSid',\n",
              " 'SHGetPathFromIDListA',\n",
              " 'LoadImageA',\n",
              " '_CorExeMain',\n",
              " 'GetShortPathNameA',\n",
              " 'WSAStartup',\n",
              " 'DialogBoxParamA',\n",
              " 'NotifyWinEvent',\n",
              " 'DrawStateW',\n",
              " 'LCMapStringA',\n",
              " 'GetUserNameW',\n",
              " 'GetDlgItemTextA',\n",
              " 'AppendMenuA',\n",
              " 'memset',\n",
              " 'DuplicateHandle',\n",
              " 'SelectClipRgn',\n",
              " 'SHBrowseForFolderA',\n",
              " 'SetDCPenColor',\n",
              " 'GetStringTypeA',\n",
              " 'CreateDialogParamA',\n",
              " 'FindWindowExA',\n",
              " 'SHGetFileInfoA',\n",
              " 'ChildWindowFromPoint',\n",
              " 'SHFileOperationA',\n",
              " 'GetScrollBarInfo',\n",
              " 'SafeArrayPutElement',\n",
              " 'SafeArrayGetElement',\n",
              " 'SHFileOperationW',\n",
              " 'SendMessageTimeoutA',\n",
              " 'SearchPathA',\n",
              " 'GetTempFileNameW',\n",
              " 'NtUnmapViewOfSection',\n",
              " 'MapViewOfFile',\n",
              " 'WSACleanup',\n",
              " 'lstrcatW',\n",
              " 'closesocket',\n",
              " 'MessageBoxIndirectA',\n",
              " 'GetShortPathNameW',\n",
              " 'SHGetFileInfoW',\n",
              " 'DialogBoxParamW',\n",
              " 'GetCurrentDirectoryW',\n",
              " 'AddAce',\n",
              " 'InternetReadFile',\n",
              " 'GetTokenInformation',\n",
              " 'GetUserDefaultLangID',\n",
              " 'WritePrivateProfileStringW',\n",
              " 'InitializeSecurityDescriptor',\n",
              " 'GetPrivateProfileStringW',\n",
              " 'CharPrevW',\n",
              " 'SetEnvironmentVariableW',\n",
              " 'CopySid',\n",
              " 'SetDlgItemTextW',\n",
              " 'FreeEnvironmentStringsA',\n",
              " 'GetEnvironmentStrings',\n",
              " 'CreateToolhelp32Snapshot',\n",
              " 'LookupPrivilegeValueA',\n",
              " 'SysAllocStringByteLen',\n",
              " 'LocalFileTimeToFileTime',\n",
              " 'TerminateThread',\n",
              " 'SetSecurityDescriptorDacl',\n",
              " 'DuplicateTokenEx',\n",
              " 'WSAGetLastError',\n",
              " 'htons',\n",
              " 'socket',\n",
              " 'send',\n",
              " 'AppendMenuW',\n",
              " 'DeregisterEventSource',\n",
              " '__set_app_type',\n",
              " 'SysStringByteLen',\n",
              " 'ReleaseSemaphore',\n",
              " 'SHGetMalloc',\n",
              " 'GetVolumeInformationW',\n",
              " 'CreateDialogParamW',\n",
              " 'DispCallFunc',\n",
              " 'SendMessageTimeoutW',\n",
              " 'CombineRgn',\n",
              " 'DebugBreak',\n",
              " 'exit',\n",
              " 'recv',\n",
              " 'GetDriveTypeW',\n",
              " 'GetDlgItemTextW',\n",
              " 'ioctlsocket',\n",
              " 'IsDlgButtonChecked',\n",
              " 'DeviceIoControl',\n",
              " 'GetAce',\n",
              " 'EqualSid',\n",
              " 'connect',\n",
              " 'setsockopt',\n",
              " 'GetLengthSid',\n",
              " 'FindFirstFileExA',\n",
              " 'WriteConsoleA',\n",
              " 'CreateRoundRectRgn',\n",
              " 'GetFileTime',\n",
              " '__p__fmode',\n",
              " 'timeGetTime',\n",
              " 'LookupPrivilegeNameW',\n",
              " 'CreateProcessAsUserW',\n",
              " 'ConvertToAutoInheritPrivateObjectSecurity',\n",
              " 'InitCommonControlsEx',\n",
              " 'AddAccessAllowedAce',\n",
              " 'Process32NextW',\n",
              " 'GetEnvironmentVariableA',\n",
              " 'Process32FirstW',\n",
              " 'CopyRect',\n",
              " 'GetFileInformationByHandle',\n",
              " '_initterm',\n",
              " 'FreeSid',\n",
              " 'EnumSystemLocalesA',\n",
              " 'AddAccessAllowedObjectAce',\n",
              " '__setusermatherr',\n",
              " '__vbaExceptHandler',\n",
              " 'AccessCheckByTypeResultListAndAuditAlarmW',\n",
              " 'EVENT_SINK_QueryInterface',\n",
              " 'EVENT_SINK_AddRef',\n",
              " 'EVENT_SINK_Release',\n",
              " 'AccessCheckByTypeResultList',\n",
              " 'AccessCheckByTypeAndAuditAlarmW',\n",
              " '_exit',\n",
              " '_allmul',\n",
              " 'AddAccessAllowedAceEx',\n",
              " '_CIsqrt',\n",
              " 'OpenSCManagerW',\n",
              " 'GetConsoleWindow',\n",
              " '_CIsin',\n",
              " 'GetCurrentDirectoryA',\n",
              " 'SearchPathW',\n",
              " '_CIcos',\n",
              " 'DllFunctionCall',\n",
              " '_CIlog',\n",
              " 'CreatePen',\n",
              " 'CloseServiceHandle',\n",
              " 'SignalObjectAndWait',\n",
              " '_CIatan',\n",
              " '_CIexp',\n",
              " 'SHGetSpecialFolderPathW',\n",
              " 'AddAuditAccessAceEx',\n",
              " '_CItan',\n",
              " '_adj_fprem',\n",
              " '_adj_fdivr_m32',\n",
              " '_adj_fptan',\n",
              " '_adj_fprem1',\n",
              " '_adj_fdiv_m32',\n",
              " '_adj_fdivr_m64',\n",
              " '_adj_fdiv_m32i',\n",
              " '_adj_fdivr_m32i',\n",
              " '_adj_fdiv_r',\n",
              " '_adj_fdiv_m64',\n",
              " '_adj_fdivr_m16i',\n",
              " '__vbaChkstk',\n",
              " '__vbaFPException',\n",
              " '_adj_fdiv_m16i',\n",
              " '_adj_fpatan',\n",
              " 'AddAuditAccessAce',\n",
              " 'AccessCheckByTypeResultListAndAuditAlarmA',\n",
              " 'AddAuditAccessObjectAce',\n",
              " '__getmainargs',\n",
              " 'AdjustTokenGroups',\n",
              " 'wvsprintfW',\n",
              " 'CloseEventLog',\n",
              " 'select',\n",
              " '__vbaFreeVar',\n",
              " 'AddAccessDeniedAceEx',\n",
              " 'AddAccessDeniedObjectAce',\n",
              " 'RegisterEventSourceW',\n",
              " 'RegOpenKeyW',\n",
              " '__vbaHresultCheckObj',\n",
              " '__vbaFreeStr',\n",
              " 'GetMenuCheckMarkDimensions',\n",
              " 'GetAclInformation',\n",
              " 'free',\n",
              " 'AccessCheck',\n",
              " 'ntohs',\n",
              " 'CreateMutexA',\n",
              " 'gethostbyname',\n",
              " '__vbaStrMove',\n",
              " 'AreAllAccessesGranted',\n",
              " 'BackupEventLogW',\n",
              " '__vbaNew2',\n",
              " 'AllocateLocallyUniqueId',\n",
              " '__vbaSetSystemError',\n",
              " '_cexit',\n",
              " 'AreAnyAccessesGranted',\n",
              " 'GetWindowModuleFileNameW',\n",
              " 'GetMessageA',\n",
              " 'malloc',\n",
              " '_XcptFilter',\n",
              " '__vbaFreeVarList',\n",
              " 'CoInitializeEx',\n",
              " 'GetTextColor',\n",
              " 'GetUserNameA',\n",
              " 'listen',\n",
              " 'inet_addr',\n",
              " 'TextOutW',\n",
              " '__p__commode',\n",
              " 'IsValidAcl',\n",
              " 'gethostname',\n",
              " 'PostThreadMessageW',\n",
              " 'ReportEventW',\n",
              " '__vbaFreeObj',\n",
              " 'CreateFileMappingA',\n",
              " 'DragQueryFileW',\n",
              " '_onexit',\n",
              " 'ImpersonateLoggedOnUser',\n",
              " 'InitializeAcl',\n",
              " 'MessageBoxIndirectW',\n",
              " 'SendDlgItemMessageW',\n",
              " '__vbaVarMove',\n",
              " 'GetDriveTypeA',\n",
              " 'GetCurrentObject',\n",
              " 'GetNearestPaletteIndex',\n",
              " 'DosDateTimeToFileTime',\n",
              " 'FreeConsole',\n",
              " 'SetFileSecurityA',\n",
              " 'DuplicateToken',\n",
              " 'bind',\n",
              " 'RegEnumKeyExA',\n",
              " 'WinHttpOpen',\n",
              " '_controlfp',\n",
              " 'WinExec',\n",
              " ...]"
            ]
          },
          "metadata": {
            "tags": []
          },
          "execution_count": 28
        }
      ]
    },
    {
      "cell_type": "code",
      "metadata": {
        "id": "V1Rp4-SUvges"
      },
      "source": [
        "dot_data = StringIO()  \n",
        "export_graphviz(dclf_f, out_file=dot_data,feature_names=features,filled=True,rounded=True)\n",
        "\n",
        "graph = pydot.graph_from_dot_data(dot_data.getvalue())  \n",
        "Image(graph[0].create_png())  "
      ],
      "execution_count": null,
      "outputs": []
    },
    {
      "cell_type": "code",
      "metadata": {
        "colab": {
          "base_uri": "https://localhost:8080/"
        },
        "id": "3uUkBLHRsILG",
        "outputId": "4845d295-00c8-4e69-9fcf-17866293ec2f"
      },
      "source": [
        "print(\"F1-Score: %.4f\" % (f1_score(y1_test,y_pred_dclf_f))) \n",
        "print(\"Precision Score: %.4f\" %(precision_score(y1_test, y_pred_dclf_f)))\n",
        "print(\"Recall core: %.4f\" %(recall_score(y1_test, y_pred_dclf_f)))\n",
        "print(\"Accuracy Score: %.4f\" %(accuracy_score(y1_test, y_pred_dclf_f)))\n",
        "print(\"Balanced Accurarcy Score: %.4f\" %(balanced_accuracy_score(y1_test, y_pred_dclf_f)))\n",
        "print(\"Matthews Corrcoef: %.4f\" %(matthews_corrcoef(y1_test, y_pred_dclf_f)))\n",
        "print(\"Average Precision Score: %.4f\" %(average_precision_score(y1_test, y_pred_dclf_f)))"
      ],
      "execution_count": null,
      "outputs": [
        {
          "output_type": "stream",
          "text": [
            "F1-Score: 0.9224\n",
            "Precision Score: 0.8954\n",
            "Recall core: 0.9511\n",
            "Accuracy Score: 0.9958\n",
            "Balanced Accurarcy Score: 0.9741\n",
            "Matthews Corrcoef: 0.9207\n",
            "Average Precision Score: 0.8529\n"
          ],
          "name": "stdout"
        }
      ]
    },
    {
      "cell_type": "code",
      "metadata": {
        "id": "09aa-aIURvMZ"
      },
      "source": [
        "average_precision = average_precision_score(y1_test, y_pred_dclf_f) "
      ],
      "execution_count": null,
      "outputs": []
    },
    {
      "cell_type": "code",
      "metadata": {
        "colab": {
          "base_uri": "https://localhost:8080/",
          "height": 313
        },
        "id": "Ddl8IHrXRAWS",
        "outputId": "051c259d-e4bf-4f88-efb6-9c503e86e786"
      },
      "source": [
        "disp = plot_precision_recall_curve(dclf_f, x1_test, y1_test)\n",
        "disp.ax_.set_title('Precision-Recall curve: '\n",
        "                   'Average Precision={0:0.2f}'.format(average_precision)) "
      ],
      "execution_count": null,
      "outputs": [
        {
          "output_type": "execute_result",
          "data": {
            "text/plain": [
              "Text(0.5, 1.0, 'Precision-Recall curve: Average Precision=0.85')"
            ]
          },
          "metadata": {
            "tags": []
          },
          "execution_count": 32
        },
        {
          "output_type": "display_data",
          "data": {
            "image/png": "[encoded data removed]",
            "text/plain": [
              "<Figure size 432x288 with 1 Axes>"
            ]
          },
          "metadata": {
            "tags": []
          }
        }
      ]
    },
    {
      "cell_type": "code",
      "metadata": {
        "colab": {
          "base_uri": "https://localhost:8080/",
          "height": 458
        },
        "id": "6ktikWxVTgDW",
        "outputId": "82239528-3404-49e4-e8ba-2961e04b267d"
      },
      "source": [
        "tn, fp, fn, tp = confusion_matrix(y1_test, y_pred_dclf_f ).ravel()\n",
        "skplt.metrics.plot_confusion_matrix(y1_test, y_pred_dclf_f)\n",
        "plt.show()\n",
        "print(classification_report(y1_test,y_pred_dclf_f))\n"
      ],
      "execution_count": null,
      "outputs": [
        {
          "output_type": "display_data",
          "data": {
            "image/png": "[encoded data removed]",
            "text/plain": [
              "<Figure size 432x288 with 2 Axes>"
            ]
          },
          "metadata": {
            "tags": []
          }
        },
        {
          "output_type": "stream",
          "text": [
            "              precision    recall  f1-score   support\n",
            "\n",
            "           0       1.00      1.00      1.00      8409\n",
            "           1       0.90      0.95      0.92       225\n",
            "\n",
            "    accuracy                           1.00      8634\n",
            "   macro avg       0.95      0.97      0.96      8634\n",
            "weighted avg       1.00      1.00      1.00      8634\n",
            "\n"
          ],
          "name": "stdout"
        }
      ]
    },
    {
      "cell_type": "code",
      "metadata": {
        "colab": {
          "base_uri": "https://localhost:8080/"
        },
        "id": "doDrSrAwDwH_",
        "outputId": "beb701b3-6a73-4bb5-ebf4-b5ee2bb3f45e"
      },
      "source": [
        "from sklearn.metrics import roc_auc_score\n",
        "roc_auc_score(y1_test, y_pred_dclf_f)"
      ],
      "execution_count": null,
      "outputs": [
        {
          "output_type": "execute_result",
          "data": {
            "text/plain": [
              "0.9740690529987711"
            ]
          },
          "metadata": {
            "tags": []
          },
          "execution_count": 34
        }
      ]
    },
    {
      "cell_type": "code",
      "metadata": {
        "colab": {
          "base_uri": "https://localhost:8080/",
          "height": 295
        },
        "id": "vKLeH0NmvbJk",
        "outputId": "daf757ad-3781-405f-ab8a-4565d3f9215b"
      },
      "source": [
        "from sklearn.metrics import auc\n",
        "fpr, tpr, thresholds = roc_curve(y1_test, y_pred_dclf_f)\n",
        "roc_auc = auc(fpr, tpr)\n",
        "\n",
        "\n",
        "plt.figure()\n",
        "plt.plot(fpr, tpr, color='red', label='ROC curve (area = %0.2f)' % roc_auc)\n",
        "plt.plot([0, 1], [0, 1], color='navy', lw=2, linestyle='--')\n",
        "plt.xlim([0.0, 1.0])\n",
        "plt.ylim([0.0, 1.05])\n",
        "plt.xlabel('False Positive Rate')\n",
        "plt.ylabel('True Positive Rate')\n",
        "plt.title('Receiver operating characteristic')\n",
        "plt.legend(loc=\"lower right\")\n",
        "plt.show()"
      ],
      "execution_count": null,
      "outputs": [
        {
          "output_type": "display_data",
          "data": {
            "image/png": "[encoded data removed]",
            "text/plain": [
              "<Figure size 432x288 with 1 Axes>"
            ]
          },
          "metadata": {
            "tags": []
          }
        }
      ]
    },
    {
      "cell_type": "markdown",
      "metadata": {
        "id": "5PjM3T8RuWPp"
      },
      "source": [
        ""
      ]
    },
    {
      "cell_type": "code",
      "metadata": {
        "id": "N0jq19YVrtwn"
      },
      "source": [
        "train_sizes, train_scores, test_scores = learning_curve(dclf_f, X, y)\n",
        "train_mean = np.mean(train_scores, axis = 1)\n",
        "train_std = np.std(train_scores, axis = 1)\n",
        "test_mean = np.mean(test_scores, axis = 1)\n",
        "test_std = np.std(test_scores, axis = 1)"
      ],
      "execution_count": null,
      "outputs": []
    },
    {
      "cell_type": "code",
      "metadata": {
        "colab": {
          "base_uri": "https://localhost:8080/",
          "height": 295
        },
        "id": "A_yn4Mh0vltA",
        "outputId": "f90b5e88-c889-4626-c02c-6adfbe75482e"
      },
      "source": [
        "plt.plot(train_sizes, train_mean, label = \"Training Score\")\n",
        "plt.plot(train_sizes, test_mean, label = \"Cross-Validation Score\")\n",
        "\n",
        "plt.fill_between(train_sizes, train_mean-train_std, train_mean+train_std, color=\"#DDDDDD\")\n",
        "plt.fill_between(train_sizes, test_mean-test_std, test_mean+test_std, color=\"#DDDDDD\")\n",
        "\n",
        "plt.title(\"Learning Curve DecisionTreeClassifier\")\n",
        "plt.xlabel(\"Training Size\")\n",
        "plt.ylabel(\"Accuracy Score\")\n",
        "plt.legend(loc = \"best\")\n",
        "plt.show()"
      ],
      "execution_count": null,
      "outputs": [
        {
          "output_type": "display_data",
          "data": {
            "image/png": "[encoded data removed]",
            "text/plain": [
              "<Figure size 432x288 with 1 Axes>"
            ]
          },
          "metadata": {
            "tags": []
          }
        }
      ]
    },
    {
      "cell_type": "code",
      "metadata": {
        "id": "k-tavi7PrUn2"
      },
      "source": [
        "rfc=RandomForestClassifier(random_state=42)"
      ],
      "execution_count": null,
      "outputs": []
    },
    {
      "cell_type": "code",
      "metadata": {
        "id": "SIGFrpAKnoOR"
      },
      "source": [
        "rfc_f= rfc.fit(X1_res, y1_res)"
      ],
      "execution_count": null,
      "outputs": []
    },
    {
      "cell_type": "code",
      "metadata": {
        "id": "v-NMSAQhrVOe"
      },
      "source": [
        "y_pred_rfc = rfc_f.predict(x1_test)\n",
        "rfc_predict_proba = rfc_f.predict_proba(x1_test)"
      ],
      "execution_count": null,
      "outputs": []
    },
    {
      "cell_type": "code",
      "metadata": {
        "colab": {
          "base_uri": "https://localhost:8080/"
        },
        "id": "ny7oU3_Yz5rh",
        "outputId": "55f1f59f-d906-44fe-94e4-91982b15b08b"
      },
      "source": [
        "f1_score(y1_test,y_pred_rfc)"
      ],
      "execution_count": null,
      "outputs": [
        {
          "output_type": "execute_result",
          "data": {
            "text/plain": [
              "0.9589041095890412"
            ]
          },
          "metadata": {
            "tags": []
          },
          "execution_count": 41
        }
      ]
    },
    {
      "cell_type": "code",
      "metadata": {
        "colab": {
          "base_uri": "https://localhost:8080/"
        },
        "id": "VD7ynZqj0FNo",
        "outputId": "80afc6e0-71d2-489f-c135-59469d83c313"
      },
      "source": [
        "accuracy_score(y1_test, y_pred_rfc)"
      ],
      "execution_count": null,
      "outputs": [
        {
          "output_type": "execute_result",
          "data": {
            "text/plain": [
              "0.9979152189020153"
            ]
          },
          "metadata": {
            "tags": []
          },
          "execution_count": 42
        }
      ]
    },
    {
      "cell_type": "code",
      "metadata": {
        "colab": {
          "base_uri": "https://localhost:8080/"
        },
        "id": "J_paNTqFrVDC",
        "outputId": "0fd93352-a0cb-4a64-dcf3-e0b0d32a95c2"
      },
      "source": [
        "balanced_accuracy_score(y1_test, y_pred_rfc)"
      ],
      "execution_count": null,
      "outputs": [
        {
          "output_type": "execute_result",
          "data": {
            "text/plain": [
              "0.9664882863598525"
            ]
          },
          "metadata": {
            "tags": []
          },
          "execution_count": 43
        }
      ]
    },
    {
      "cell_type": "code",
      "metadata": {
        "colab": {
          "base_uri": "https://localhost:8080/"
        },
        "id": "66EuKblzMtWB",
        "outputId": "96957032-94c2-4dca-f235-494bb30d76ff"
      },
      "source": [
        "precision_score(y1_test, y_pred_rfc ) "
      ],
      "execution_count": null,
      "outputs": [
        {
          "output_type": "execute_result",
          "data": {
            "text/plain": [
              "0.9859154929577465"
            ]
          },
          "metadata": {
            "tags": []
          },
          "execution_count": 44
        }
      ]
    },
    {
      "cell_type": "code",
      "metadata": {
        "colab": {
          "base_uri": "https://localhost:8080/"
        },
        "id": "oEEVLdyZNMed",
        "outputId": "83c3d846-edde-4d60-9932-7c1aeab693a5"
      },
      "source": [
        "recall_score(y1_test, y_pred_rfc) "
      ],
      "execution_count": null,
      "outputs": [
        {
          "output_type": "execute_result",
          "data": {
            "text/plain": [
              "0.9333333333333333"
            ]
          },
          "metadata": {
            "tags": []
          },
          "execution_count": 45
        }
      ]
    },
    {
      "cell_type": "code",
      "metadata": {
        "colab": {
          "base_uri": "https://localhost:8080/"
        },
        "id": "Yf88UJXI-NNt",
        "outputId": "11d180ec-4acc-4c53-a0ac-ace213151f1d"
      },
      "source": [
        "matthews_corrcoef(y1_test, y_pred_rfc)"
      ],
      "execution_count": null,
      "outputs": [
        {
          "output_type": "execute_result",
          "data": {
            "text/plain": [
              "0.9582140589159093"
            ]
          },
          "metadata": {
            "tags": []
          },
          "execution_count": 46
        }
      ]
    },
    {
      "cell_type": "code",
      "metadata": {
        "colab": {
          "base_uri": "https://localhost:8080/"
        },
        "id": "OGmZzL0rNMvE",
        "outputId": "8abc9417-3cc5-45c7-8d6a-24ed4b6c6e6a"
      },
      "source": [
        "average_precision_score(y1_test, y_pred_rfc) "
      ],
      "execution_count": null,
      "outputs": [
        {
          "output_type": "execute_result",
          "data": {
            "text/plain": [
              "0.9219251110088841"
            ]
          },
          "metadata": {
            "tags": []
          },
          "execution_count": 47
        }
      ]
    },
    {
      "cell_type": "code",
      "metadata": {
        "id": "yuEH0v-QNq12"
      },
      "source": [
        "average_precision = average_precision_score(y1_test, y_pred_rfc) "
      ],
      "execution_count": null,
      "outputs": []
    },
    {
      "cell_type": "code",
      "metadata": {
        "colab": {
          "base_uri": "https://localhost:8080/",
          "height": 313
        },
        "id": "U6P2BVrVNrFP",
        "outputId": "285753d3-2fe4-43d7-a112-c2cb8bec637d"
      },
      "source": [
        "disp = plot_precision_recall_curve(rfc_f, x1_test, y_pred_rfc)\n",
        "disp.ax_.set_title('Precision-Recall curve: '\n",
        "                   'Average Precision={0:0.2f}'.format(average_precision))  "
      ],
      "execution_count": null,
      "outputs": [
        {
          "output_type": "execute_result",
          "data": {
            "text/plain": [
              "Text(0.5, 1.0, 'Precision-Recall curve: Average Precision=0.92')"
            ]
          },
          "metadata": {
            "tags": []
          },
          "execution_count": 49
        },
        {
          "output_type": "display_data",
          "data": {
            "image/png": "[encoded data removed]",
            "text/plain": [
              "<Figure size 432x288 with 1 Axes>"
            ]
          },
          "metadata": {
            "tags": []
          }
        }
      ]
    },
    {
      "cell_type": "code",
      "metadata": {
        "colab": {
          "base_uri": "https://localhost:8080/",
          "height": 458
        },
        "id": "yYv5sm3XJiaR",
        "outputId": "39370559-4afd-4a4e-9975-79e4eaaec2f8"
      },
      "source": [
        "tn, fp, fn, tp = confusion_matrix(y1_test, y_pred_rfc ).ravel()\n",
        "skplt.metrics.plot_confusion_matrix(y1_test, y_pred_rfc, normalize=False)\n",
        "plt.show()\n",
        "print(classification_report(y1_test,y_pred_rfc))"
      ],
      "execution_count": null,
      "outputs": [
        {
          "output_type": "display_data",
          "data": {
            "image/png": "[encoded data removed]",
            "text/plain": [
              "<Figure size 432x288 with 2 Axes>"
            ]
          },
          "metadata": {
            "tags": []
          }
        },
        {
          "output_type": "stream",
          "text": [
            "              precision    recall  f1-score   support\n",
            "\n",
            "           0       1.00      1.00      1.00      8409\n",
            "           1       0.99      0.93      0.96       225\n",
            "\n",
            "    accuracy                           1.00      8634\n",
            "   macro avg       0.99      0.97      0.98      8634\n",
            "weighted avg       1.00      1.00      1.00      8634\n",
            "\n"
          ],
          "name": "stdout"
        }
      ]
    },
    {
      "cell_type": "code",
      "metadata": {
        "colab": {
          "base_uri": "https://localhost:8080/"
        },
        "id": "xprQw94JOZae",
        "outputId": "4cb3170d-7a66-45ef-fb2d-bf28181c549a"
      },
      "source": [
        "from sklearn.metrics import roc_auc_score\n",
        "roc_auc_score(y1_test, y_pred_rfc)"
      ],
      "execution_count": null,
      "outputs": [
        {
          "output_type": "execute_result",
          "data": {
            "text/plain": [
              "0.9664882863598526"
            ]
          },
          "metadata": {
            "tags": []
          },
          "execution_count": 51
        }
      ]
    },
    {
      "cell_type": "code",
      "metadata": {
        "colab": {
          "base_uri": "https://localhost:8080/",
          "height": 295
        },
        "id": "UbKvhSKVOZua",
        "outputId": "8607f118-4584-478b-a00b-2045425d81ee"
      },
      "source": [
        "from sklearn.metrics import auc\n",
        "fpr, tpr, thresholds = roc_curve(y1_test, y_pred_rfc)\n",
        "roc_auc = auc(fpr, tpr)\n",
        "\n",
        "\n",
        "plt.figure()\n",
        "plt.plot(fpr, tpr, color='red', label='ROC curve (area = %0.2f)' % roc_auc)\n",
        "plt.plot([0, 1], [0, 1], color='navy', lw=2, linestyle='--')\n",
        "plt.xlim([0.0, 1.0])\n",
        "plt.ylim([0.0, 1.05])\n",
        "plt.xlabel('False Positive Rate')\n",
        "plt.ylabel('True Positive Rate')\n",
        "plt.title('Receiver operating characteristic')\n",
        "plt.legend(loc=\"lower right\")\n",
        "plt.show()"
      ],
      "execution_count": null,
      "outputs": [
        {
          "output_type": "display_data",
          "data": {
            "image/png": "[encoded data removed]",
            "text/plain": [
              "<Figure size 432x288 with 1 Axes>"
            ]
          },
          "metadata": {
            "tags": []
          }
        }
      ]
    },
    {
      "cell_type": "code",
      "metadata": {
        "id": "JE-GgRkUrU6R"
      },
      "source": [
        "train_sizes, train_scores, test_scores = learning_curve(rfc, X, y, cv=10)\n",
        "train_mean = np.mean(train_scores, axis = 1)\n",
        "train_mean = np.mean(train_scores, axis = 1)\n",
        "train_std = np.std(train_scores, axis = 1)\n",
        "test_mean = np.mean(test_scores, axis = 1)\n",
        "test_std = np.std(test_scores, axis = 1)"
      ],
      "execution_count": null,
      "outputs": []
    },
    {
      "cell_type": "code",
      "metadata": {
        "colab": {
          "base_uri": "https://localhost:8080/",
          "height": 55
        },
        "id": "R1kCbnK0rU0c",
        "outputId": "b0233a9e-1606-482e-b296-52c95d23b73a"
      },
      "source": [
        "plt.plot(train_sizes, train_mean, label = \"Training Score\")\n",
        "plt.plot(train_sizes, test_mean, label = \"Cross-Validation Score\")\n",
        "\n",
        "plt.fill_between(train_sizes, train_mean-train_std, train_mean+train_std, color=\"#DDDDDD\")\n",
        "plt.fill_between(train_sizes, test_mean-test_std, test_mean+test_std, color=\"#DDDDDD\")\n",
        "\n",
        "plt.title(\"Learning Curve RandomForestClassifier\")\n",
        "plt.xlabel(\"Training Size\")\n",
        "plt.ylabel(\"Accuracy Score\")\n",
        "plt.legend(loc = \"best\")\n",
        "plt.show()"
      ],
      "execution_count": null,
      "outputs": [
        {
          "output_type": "display_data",
          "data": {
            "image/png": "[encoded data removed]",
            "text/plain": [
              "<Figure size 432x288 with 1 Axes>"
            ]
          },
          "metadata": {
            "tags": []
          }
        }
      ]
    },
    {
      "cell_type": "code",
      "metadata": {
        "id": "ZHFlPMmmD3O6"
      },
      "source": [
        "xgb = XGBClassifier()"
      ],
      "execution_count": null,
      "outputs": []
    },
    {
      "cell_type": "code",
      "metadata": {
        "id": "Zjm6R1fuD3GU"
      },
      "source": [
        "xgb_f = xgb.fit(X1_res, y1_res)\n",
        "y_pred_xgb = xgb_f.predict(x1_test)"
      ],
      "execution_count": null,
      "outputs": []
    },
    {
      "cell_type": "code",
      "metadata": {
        "colab": {
          "base_uri": "https://localhost:8080/"
        },
        "id": "JHbiguUBEO0F",
        "outputId": "788ac845-c01b-4aa8-e99f-bcc3cf850003"
      },
      "source": [
        "print(\"F1-Score: %.4f\" % (f1_score(y1_test,y_pred_xgb))) \n",
        "print(\"Precision Score: %.4f\" %(precision_score(y1_test, y_pred_xgb)))\n",
        "print(\"Recall core: %.4f\" %(recall_score(y1_test, y_pred_xgb)))\n",
        "print(\"Accuracy Score: %.4f\" %(accuracy_score(y1_test, y_pred_xgb)))\n",
        "print(\"Balanced Accurarcy Score: %.4f\" %(balanced_accuracy_score(y1_test, y_pred_xgb)))\n",
        "print(\"Matthews Corrcoef: %.4f\" %(matthews_corrcoef(y1_test, y_pred_xgb)))\n",
        "print(\"Average Precision Score: %.4f\" %(average_precision_score(y1_test, y_pred_xgb)))"
      ],
      "execution_count": null,
      "outputs": [
        {
          "output_type": "stream",
          "text": [
            "F1-Score: 0.9254\n",
            "Precision Score: 0.9134\n",
            "Recall core: 0.9378\n",
            "Accuracy Score: 0.9961\n",
            "Balanced Accurarcy Score: 0.9677\n",
            "Matthews Corrcoef: 0.9235\n",
            "Average Precision Score: 0.8582\n"
          ],
          "name": "stdout"
        }
      ]
    },
    {
      "cell_type": "code",
      "metadata": {
        "id": "oF8rycHFEjhj"
      },
      "source": [
        "average_precision = average_precision_score(y1_test, y_pred_xgb) "
      ],
      "execution_count": null,
      "outputs": []
    },
    {
      "cell_type": "code",
      "metadata": {
        "colab": {
          "base_uri": "https://localhost:8080/",
          "height": 73
        },
        "id": "17Ltbf1_EjU_",
        "outputId": "24dcf9ca-6c1a-4605-ea3b-91c916d805f9"
      },
      "source": [
        "disp = plot_precision_recall_curve(xgb_f, x1_test, y1_test)\n",
        "disp.ax_.set_title('Precision-Recall curve: '\n",
        "                   'Average Precision={0:0.2f}'.format(average_precision)) "
      ],
      "execution_count": null,
      "outputs": [
        {
          "output_type": "execute_result",
          "data": {
            "text/plain": [
              "Text(0.5, 1.0, 'Precision-Recall curve: Average Precision=0.86')"
            ]
          },
          "metadata": {
            "tags": []
          },
          "execution_count": 60
        },
        {
          "output_type": "display_data",
          "data": {
            "image/png": "[encoded data removed]",
            "text/plain": [
              "<Figure size 432x288 with 1 Axes>"
            ]
          },
          "metadata": {
            "tags": []
          }
        }
      ]
    },
    {
      "cell_type": "code",
      "metadata": {
        "colab": {
          "base_uri": "https://localhost:8080/",
          "height": 218
        },
        "id": "kgR516eEE0Bw",
        "outputId": "5e691a03-798b-42e5-e006-656857b7e7e4"
      },
      "source": [
        "tn, fp, fn, tp = confusion_matrix(y1_test,y_pred_xgb).ravel()\n",
        "skplt.metrics.plot_confusion_matrix(y1_test,y_pred_xgb, normalize=False)\n",
        "plt.show()\n",
        "print(classification_report(y1_test,y_pred_xgb))"
      ],
      "execution_count": null,
      "outputs": [
        {
          "output_type": "display_data",
          "data": {
            "image/png": "[encoded data removed]",
            "text/plain": [
              "<Figure size 432x288 with 2 Axes>"
            ]
          },
          "metadata": {
            "tags": []
          }
        },
        {
          "output_type": "stream",
          "text": [
            "              precision    recall  f1-score   support\n",
            "\n",
            "           0       1.00      1.00      1.00      8409\n",
            "           1       0.91      0.94      0.93       225\n",
            "\n",
            "    accuracy                           1.00      8634\n",
            "   macro avg       0.96      0.97      0.96      8634\n",
            "weighted avg       1.00      1.00      1.00      8634\n",
            "\n"
          ],
          "name": "stdout"
        }
      ]
    },
    {
      "cell_type": "code",
      "metadata": {
        "id": "_-WAevaMEz6w"
      },
      "source": [
        "train_sizes, train_scores, test_scores = learning_curve(xgb, X, y)\n",
        "train_mean = np.mean(train_scores, axis = 1)\n",
        "train_std = np.std(train_scores, axis = 1)\n",
        "test_mean = np.mean(test_scores, axis = 1)\n",
        "test_std = np.std(test_scores, axis = 1)"
      ],
      "execution_count": null,
      "outputs": []
    },
    {
      "cell_type": "code",
      "metadata": {
        "colab": {
          "base_uri": "https://localhost:8080/",
          "height": 55
        },
        "id": "1J0zi6_uEzvo",
        "outputId": "cccce657-3316-4ddc-d764-f9cee4067680"
      },
      "source": [
        "plt.plot(train_sizes, train_mean, label = \"Training score\")\n",
        "plt.plot(train_sizes, test_mean, label = \"Cross-validation score\")\n",
        "\n",
        "plt.fill_between(train_sizes, train_mean-train_std, train_mean+train_std, color=\"#DDDDDD\")\n",
        "plt.fill_between(train_sizes, test_mean-test_std, test_mean+test_std, color=\"#DDDDDD\")\n",
        "\n",
        "plt.title(\"Learning Curve XGBoost\")\n",
        "plt.xlabel(\"Training Size\")\n",
        "plt.ylabel(\"Accuracy Score\")\n",
        "plt.legend(loc = \"best\")\n",
        "plt.show()"
      ],
      "execution_count": null,
      "outputs": [
        {
          "output_type": "display_data",
          "data": {
            "image/png": "[encoded data removed]",
            "text/plain": [
              "<Figure size 432x288 with 1 Axes>"
            ]
          },
          "metadata": {
            "tags": []
          }
        }
      ]
    },
    {
      "cell_type": "code",
      "metadata": {
        "colab": {
          "base_uri": "https://localhost:8080/"
        },
        "id": "8CVMPGsp04Bi",
        "outputId": "c8f62b74-e61a-48c9-863f-8362f8ab3531"
      },
      "source": [
        "!pip install catboost"
      ],
      "execution_count": null,
      "outputs": [
        {
          "output_type": "stream",
          "text": [
            "Collecting catboost\n",
            "\u001b[?25l  Downloading https://files.pythonhosted.org/packages/5a/41/24e14322b9986cf72a8763e0a0a69cc256cf963cf9502c8f0044a62c1ae8/catboost-0.26-cp37-none-manylinux1_x86_64.whl (69.2MB)\n",
            "\u001b[K     |████████████████████████████████| 69.2MB 95kB/s \n",
            "\u001b[?25hRequirement already satisfied: matplotlib in /usr/local/lib/python3.7/dist-packages (from catboost) (3.2.2)\n",
            "Requirement already satisfied: plotly in /usr/local/lib/python3.7/dist-packages (from catboost) (4.4.1)\n",
            "Requirement already satisfied: graphviz in /usr/local/lib/python3.7/dist-packages (from catboost) (0.10.1)\n",
            "Requirement already satisfied: scipy in /usr/local/lib/python3.7/dist-packages (from catboost) (1.4.1)\n",
            "Requirement already satisfied: six in /usr/local/lib/python3.7/dist-packages (from catboost) (1.15.0)\n",
            "Requirement already satisfied: numpy>=1.16.0 in /usr/local/lib/python3.7/dist-packages (from catboost) (1.19.5)\n",
            "Requirement already satisfied: pandas>=0.24.0 in /usr/local/lib/python3.7/dist-packages (from catboost) (1.1.5)\n",
            "Requirement already satisfied: pyparsing!=2.0.4,!=2.1.2,!=2.1.6,>=2.0.1 in /usr/local/lib/python3.7/dist-packages (from matplotlib->catboost) (2.4.7)\n",
            "Requirement already satisfied: python-dateutil>=2.1 in /usr/local/lib/python3.7/dist-packages (from matplotlib->catboost) (2.8.1)\n",
            "Requirement already satisfied: kiwisolver>=1.0.1 in /usr/local/lib/python3.7/dist-packages (from matplotlib->catboost) (1.3.1)\n",
            "Requirement already satisfied: cycler>=0.10 in /usr/local/lib/python3.7/dist-packages (from matplotlib->catboost) (0.10.0)\n",
            "Requirement already satisfied: retrying>=1.3.3 in /usr/local/lib/python3.7/dist-packages (from plotly->catboost) (1.3.3)\n",
            "Requirement already satisfied: pytz>=2017.2 in /usr/local/lib/python3.7/dist-packages (from pandas>=0.24.0->catboost) (2018.9)\n",
            "Installing collected packages: catboost\n",
            "Successfully installed catboost-0.26\n"
          ],
          "name": "stdout"
        }
      ]
    },
    {
      "cell_type": "code",
      "metadata": {
        "id": "l_bVOcMh0zm-"
      },
      "source": [
        "from catboost import CatBoostClassifier, Pool, cv"
      ],
      "execution_count": null,
      "outputs": []
    },
    {
      "cell_type": "code",
      "metadata": {
        "colab": {
          "background_save": true,
          "base_uri": "https://localhost:8080/"
        },
        "id": "0j-oRnkw0tI1",
        "outputId": "5a1deeb8-67ef-487e-a37c-dbd3eeba8571"
      },
      "source": [
        "model = CatBoostClassifier(\n",
        "    custom_loss=['Accuracy'],\n",
        "    random_seed=42,\n",
        "    logging_level='Silent'\n",
        ")\n",
        "model.fit(\n",
        "    X1_res, y1_res,\n",
        "    eval_set=(X1_res, y1_res),\n",
        "    logging_level='Verbose',  \n",
        "    plot=False\n",
        ");\n"
      ],
      "execution_count": null,
      "outputs": [
        {
          "output_type": "stream",
          "text": [
            "Learning rate set to 0.089616\n",
            "0:\tlearn: 0.4746671\ttest: 0.4746671\tbest: 0.4746671 (0)\ttotal: 532ms\tremaining: 8m 51s\n",
            "1:\tlearn: 0.3327925\ttest: 0.3327925\tbest: 0.3327925 (1)\ttotal: 954ms\tremaining: 7m 56s\n",
            "2:\tlearn: 0.2411060\ttest: 0.2411060\tbest: 0.2411060 (2)\ttotal: 1.4s\tremaining: 7m 43s\n",
            "3:\tlearn: 0.1827720\ttest: 0.1827720\tbest: 0.1827720 (3)\ttotal: 1.83s\tremaining: 7m 35s\n",
            "4:\tlearn: 0.1385407\ttest: 0.1385407\tbest: 0.1385407 (4)\ttotal: 2.28s\tremaining: 7m 34s\n",
            "5:\tlearn: 0.1040606\ttest: 0.1040606\tbest: 0.1040606 (5)\ttotal: 2.72s\tremaining: 7m 31s\n",
            "6:\tlearn: 0.0899940\ttest: 0.0899940\tbest: 0.0899940 (6)\ttotal: 3.17s\tremaining: 7m 29s\n",
            "7:\tlearn: 0.0763950\ttest: 0.0763950\tbest: 0.0763950 (7)\ttotal: 3.59s\tremaining: 7m 24s\n",
            "8:\tlearn: 0.0666980\ttest: 0.0666980\tbest: 0.0666980 (8)\ttotal: 4.01s\tremaining: 7m 21s\n",
            "9:\tlearn: 0.0595647\ttest: 0.0595647\tbest: 0.0595647 (9)\ttotal: 4.42s\tremaining: 7m 18s\n",
            "10:\tlearn: 0.0518899\ttest: 0.0518899\tbest: 0.0518899 (10)\ttotal: 4.88s\tremaining: 7m 18s\n",
            "11:\tlearn: 0.0446216\ttest: 0.0446216\tbest: 0.0446216 (11)\ttotal: 5.33s\tremaining: 7m 19s\n",
            "12:\tlearn: 0.0389506\ttest: 0.0389506\tbest: 0.0389506 (12)\ttotal: 5.73s\tremaining: 7m 15s\n",
            "13:\tlearn: 0.0342898\ttest: 0.0342898\tbest: 0.0342898 (13)\ttotal: 6.18s\tremaining: 7m 15s\n",
            "14:\tlearn: 0.0322541\ttest: 0.0322541\tbest: 0.0322541 (14)\ttotal: 6.61s\tremaining: 7m 13s\n",
            "15:\tlearn: 0.0301983\ttest: 0.0301983\tbest: 0.0301983 (15)\ttotal: 7.01s\tremaining: 7m 11s\n",
            "16:\tlearn: 0.0285988\ttest: 0.0285988\tbest: 0.0285988 (16)\ttotal: 7.38s\tremaining: 7m 6s\n",
            "17:\tlearn: 0.0265197\ttest: 0.0265197\tbest: 0.0265197 (17)\ttotal: 7.8s\tremaining: 7m 5s\n",
            "18:\tlearn: 0.0244574\ttest: 0.0244574\tbest: 0.0244574 (18)\ttotal: 8.21s\tremaining: 7m 4s\n",
            "19:\tlearn: 0.0231186\ttest: 0.0231186\tbest: 0.0231186 (19)\ttotal: 8.64s\tremaining: 7m 3s\n",
            "20:\tlearn: 0.0221275\ttest: 0.0221275\tbest: 0.0221275 (20)\ttotal: 9.03s\tremaining: 7m 1s\n",
            "21:\tlearn: 0.0213172\ttest: 0.0213172\tbest: 0.0213172 (21)\ttotal: 9.46s\tremaining: 7m\n",
            "22:\tlearn: 0.0198283\ttest: 0.0198283\tbest: 0.0198283 (22)\ttotal: 9.89s\tremaining: 7m\n",
            "23:\tlearn: 0.0183729\ttest: 0.0183729\tbest: 0.0183729 (23)\ttotal: 10.3s\tremaining: 6m 58s\n",
            "24:\tlearn: 0.0174294\ttest: 0.0174294\tbest: 0.0174294 (24)\ttotal: 10.7s\tremaining: 6m 58s\n",
            "25:\tlearn: 0.0164921\ttest: 0.0164921\tbest: 0.0164921 (25)\ttotal: 11.2s\tremaining: 6m 58s\n",
            "26:\tlearn: 0.0158022\ttest: 0.0158022\tbest: 0.0158022 (26)\ttotal: 11.6s\tremaining: 6m 56s\n",
            "27:\tlearn: 0.0150038\ttest: 0.0150038\tbest: 0.0150038 (27)\ttotal: 12s\tremaining: 6m 55s\n",
            "28:\tlearn: 0.0147701\ttest: 0.0147701\tbest: 0.0147701 (28)\ttotal: 12.3s\tremaining: 6m 52s\n",
            "29:\tlearn: 0.0143038\ttest: 0.0143038\tbest: 0.0143038 (29)\ttotal: 12.7s\tremaining: 6m 49s\n",
            "30:\tlearn: 0.0137567\ttest: 0.0137567\tbest: 0.0137567 (30)\ttotal: 13s\tremaining: 6m 47s\n",
            "31:\tlearn: 0.0127471\ttest: 0.0127471\tbest: 0.0127471 (31)\ttotal: 13.5s\tremaining: 6m 47s\n",
            "32:\tlearn: 0.0123569\ttest: 0.0123569\tbest: 0.0123569 (32)\ttotal: 13.9s\tremaining: 6m 46s\n",
            "33:\tlearn: 0.0120603\ttest: 0.0120603\tbest: 0.0120603 (33)\ttotal: 14.3s\tremaining: 6m 45s\n",
            "34:\tlearn: 0.0118249\ttest: 0.0118249\tbest: 0.0118249 (34)\ttotal: 14.6s\tremaining: 6m 43s\n",
            "35:\tlearn: 0.0115103\ttest: 0.0115103\tbest: 0.0115103 (35)\ttotal: 15s\tremaining: 6m 42s\n",
            "36:\tlearn: 0.0111926\ttest: 0.0111926\tbest: 0.0111926 (36)\ttotal: 15.5s\tremaining: 6m 43s\n",
            "37:\tlearn: 0.0106856\ttest: 0.0106856\tbest: 0.0106856 (37)\ttotal: 15.9s\tremaining: 6m 41s\n",
            "38:\tlearn: 0.0103849\ttest: 0.0103849\tbest: 0.0103849 (38)\ttotal: 16.3s\tremaining: 6m 40s\n",
            "39:\tlearn: 0.0101658\ttest: 0.0101658\tbest: 0.0101658 (39)\ttotal: 16.7s\tremaining: 6m 40s\n",
            "40:\tlearn: 0.0099159\ttest: 0.0099159\tbest: 0.0099159 (40)\ttotal: 17.1s\tremaining: 6m 39s\n",
            "41:\tlearn: 0.0097874\ttest: 0.0097874\tbest: 0.0097874 (41)\ttotal: 17.5s\tremaining: 6m 38s\n",
            "42:\tlearn: 0.0095671\ttest: 0.0095671\tbest: 0.0095671 (42)\ttotal: 17.9s\tremaining: 6m 37s\n",
            "43:\tlearn: 0.0094172\ttest: 0.0094172\tbest: 0.0094172 (43)\ttotal: 18.2s\tremaining: 6m 36s\n",
            "44:\tlearn: 0.0090329\ttest: 0.0090329\tbest: 0.0090329 (44)\ttotal: 18.6s\tremaining: 6m 35s\n",
            "45:\tlearn: 0.0088359\ttest: 0.0088359\tbest: 0.0088359 (45)\ttotal: 19s\tremaining: 6m 34s\n",
            "46:\tlearn: 0.0086308\ttest: 0.0086308\tbest: 0.0086308 (46)\ttotal: 19.4s\tremaining: 6m 33s\n",
            "47:\tlearn: 0.0084186\ttest: 0.0084186\tbest: 0.0084186 (47)\ttotal: 19.8s\tremaining: 6m 33s\n",
            "48:\tlearn: 0.0082448\ttest: 0.0082448\tbest: 0.0082448 (48)\ttotal: 20.2s\tremaining: 6m 32s\n",
            "49:\tlearn: 0.0079800\ttest: 0.0079800\tbest: 0.0079800 (49)\ttotal: 20.6s\tremaining: 6m 31s\n",
            "50:\tlearn: 0.0078738\ttest: 0.0078738\tbest: 0.0078738 (50)\ttotal: 21s\tremaining: 6m 30s\n",
            "51:\tlearn: 0.0076849\ttest: 0.0076849\tbest: 0.0076849 (51)\ttotal: 21.4s\tremaining: 6m 30s\n",
            "52:\tlearn: 0.0075400\ttest: 0.0075400\tbest: 0.0075400 (52)\ttotal: 21.8s\tremaining: 6m 29s\n",
            "53:\tlearn: 0.0074659\ttest: 0.0074659\tbest: 0.0074659 (53)\ttotal: 22.1s\tremaining: 6m 27s\n",
            "54:\tlearn: 0.0073383\ttest: 0.0073383\tbest: 0.0073383 (54)\ttotal: 22.5s\tremaining: 6m 27s\n",
            "55:\tlearn: 0.0071919\ttest: 0.0071919\tbest: 0.0071919 (55)\ttotal: 22.9s\tremaining: 6m 26s\n",
            "56:\tlearn: 0.0070538\ttest: 0.0070538\tbest: 0.0070538 (56)\ttotal: 23.3s\tremaining: 6m 25s\n",
            "57:\tlearn: 0.0068955\ttest: 0.0068955\tbest: 0.0068955 (57)\ttotal: 23.7s\tremaining: 6m 24s\n",
            "58:\tlearn: 0.0067979\ttest: 0.0067979\tbest: 0.0067979 (58)\ttotal: 24s\tremaining: 6m 23s\n",
            "59:\tlearn: 0.0066519\ttest: 0.0066519\tbest: 0.0066519 (59)\ttotal: 24.4s\tremaining: 6m 22s\n",
            "60:\tlearn: 0.0064476\ttest: 0.0064476\tbest: 0.0064476 (60)\ttotal: 24.9s\tremaining: 6m 22s\n",
            "61:\tlearn: 0.0062862\ttest: 0.0062862\tbest: 0.0062862 (61)\ttotal: 25.2s\tremaining: 6m 21s\n",
            "62:\tlearn: 0.0061846\ttest: 0.0061846\tbest: 0.0061846 (62)\ttotal: 25.6s\tremaining: 6m 20s\n",
            "63:\tlearn: 0.0060927\ttest: 0.0060927\tbest: 0.0060927 (63)\ttotal: 26s\tremaining: 6m 19s\n",
            "64:\tlearn: 0.0059843\ttest: 0.0059843\tbest: 0.0059843 (64)\ttotal: 26.3s\tremaining: 6m 18s\n",
            "65:\tlearn: 0.0058171\ttest: 0.0058171\tbest: 0.0058171 (65)\ttotal: 26.7s\tremaining: 6m 18s\n",
            "66:\tlearn: 0.0056874\ttest: 0.0056874\tbest: 0.0056874 (66)\ttotal: 27.2s\tremaining: 6m 18s\n",
            "67:\tlearn: 0.0056125\ttest: 0.0056125\tbest: 0.0056125 (67)\ttotal: 27.6s\tremaining: 6m 17s\n",
            "68:\tlearn: 0.0055784\ttest: 0.0055784\tbest: 0.0055784 (68)\ttotal: 27.9s\tremaining: 6m 17s\n",
            "69:\tlearn: 0.0054784\ttest: 0.0054784\tbest: 0.0054784 (69)\ttotal: 28.3s\tremaining: 6m 16s\n",
            "70:\tlearn: 0.0054560\ttest: 0.0054560\tbest: 0.0054560 (70)\ttotal: 28.7s\tremaining: 6m 15s\n",
            "71:\tlearn: 0.0054167\ttest: 0.0054167\tbest: 0.0054167 (71)\ttotal: 29.1s\tremaining: 6m 15s\n",
            "72:\tlearn: 0.0053900\ttest: 0.0053900\tbest: 0.0053900 (72)\ttotal: 29.5s\tremaining: 6m 14s\n",
            "73:\tlearn: 0.0053281\ttest: 0.0053281\tbest: 0.0053281 (73)\ttotal: 29.9s\tremaining: 6m 14s\n",
            "74:\tlearn: 0.0052434\ttest: 0.0052434\tbest: 0.0052434 (74)\ttotal: 30.3s\tremaining: 6m 13s\n",
            "75:\tlearn: 0.0051729\ttest: 0.0051729\tbest: 0.0051729 (75)\ttotal: 30.7s\tremaining: 6m 13s\n",
            "76:\tlearn: 0.0051487\ttest: 0.0051487\tbest: 0.0051487 (76)\ttotal: 31.1s\tremaining: 6m 12s\n",
            "77:\tlearn: 0.0049532\ttest: 0.0049532\tbest: 0.0049532 (77)\ttotal: 31.5s\tremaining: 6m 12s\n",
            "78:\tlearn: 0.0049052\ttest: 0.0049052\tbest: 0.0049052 (78)\ttotal: 31.9s\tremaining: 6m 11s\n",
            "79:\tlearn: 0.0048586\ttest: 0.0048586\tbest: 0.0048586 (79)\ttotal: 32.3s\tremaining: 6m 11s\n",
            "80:\tlearn: 0.0048216\ttest: 0.0048216\tbest: 0.0048216 (80)\ttotal: 32.7s\tremaining: 6m 10s\n",
            "81:\tlearn: 0.0047603\ttest: 0.0047603\tbest: 0.0047603 (81)\ttotal: 33s\tremaining: 6m 9s\n",
            "82:\tlearn: 0.0047150\ttest: 0.0047150\tbest: 0.0047150 (82)\ttotal: 33.4s\tremaining: 6m 9s\n",
            "83:\tlearn: 0.0046884\ttest: 0.0046884\tbest: 0.0046884 (83)\ttotal: 33.8s\tremaining: 6m 8s\n",
            "84:\tlearn: 0.0046636\ttest: 0.0046636\tbest: 0.0046636 (84)\ttotal: 34.2s\tremaining: 6m 7s\n",
            "85:\tlearn: 0.0046213\ttest: 0.0046213\tbest: 0.0046213 (85)\ttotal: 34.6s\tremaining: 6m 7s\n",
            "86:\tlearn: 0.0045634\ttest: 0.0045634\tbest: 0.0045634 (86)\ttotal: 34.9s\tremaining: 6m 6s\n",
            "87:\tlearn: 0.0044929\ttest: 0.0044929\tbest: 0.0044929 (87)\ttotal: 35.3s\tremaining: 6m 5s\n",
            "88:\tlearn: 0.0044537\ttest: 0.0044537\tbest: 0.0044537 (88)\ttotal: 35.7s\tremaining: 6m 5s\n",
            "89:\tlearn: 0.0044345\ttest: 0.0044345\tbest: 0.0044345 (89)\ttotal: 36.1s\tremaining: 6m 4s\n",
            "90:\tlearn: 0.0043937\ttest: 0.0043937\tbest: 0.0043937 (90)\ttotal: 36.5s\tremaining: 6m 4s\n",
            "91:\tlearn: 0.0043244\ttest: 0.0043244\tbest: 0.0043244 (91)\ttotal: 36.9s\tremaining: 6m 3s\n",
            "92:\tlearn: 0.0042658\ttest: 0.0042658\tbest: 0.0042658 (92)\ttotal: 37.2s\tremaining: 6m 2s\n",
            "93:\tlearn: 0.0041878\ttest: 0.0041878\tbest: 0.0041878 (93)\ttotal: 37.6s\tremaining: 6m 2s\n",
            "94:\tlearn: 0.0041346\ttest: 0.0041346\tbest: 0.0041346 (94)\ttotal: 38s\tremaining: 6m 2s\n",
            "95:\tlearn: 0.0041069\ttest: 0.0041069\tbest: 0.0041069 (95)\ttotal: 38.4s\tremaining: 6m 1s\n",
            "96:\tlearn: 0.0040600\ttest: 0.0040600\tbest: 0.0040600 (96)\ttotal: 38.8s\tremaining: 6m 1s\n",
            "97:\tlearn: 0.0039977\ttest: 0.0039977\tbest: 0.0039977 (97)\ttotal: 39.2s\tremaining: 6m\n",
            "98:\tlearn: 0.0039644\ttest: 0.0039644\tbest: 0.0039644 (98)\ttotal: 39.6s\tremaining: 6m\n",
            "99:\tlearn: 0.0038937\ttest: 0.0038937\tbest: 0.0038937 (99)\ttotal: 40s\tremaining: 6m\n",
            "100:\tlearn: 0.0038617\ttest: 0.0038617\tbest: 0.0038617 (100)\ttotal: 40.4s\tremaining: 5m 59s\n",
            "101:\tlearn: 0.0038236\ttest: 0.0038236\tbest: 0.0038236 (101)\ttotal: 40.9s\tremaining: 5m 59s\n",
            "102:\tlearn: 0.0037767\ttest: 0.0037767\tbest: 0.0037767 (102)\ttotal: 41.2s\tremaining: 5m 58s\n",
            "103:\tlearn: 0.0037624\ttest: 0.0037624\tbest: 0.0037624 (103)\ttotal: 41.6s\tremaining: 5m 58s\n",
            "104:\tlearn: 0.0037305\ttest: 0.0037305\tbest: 0.0037305 (104)\ttotal: 42s\tremaining: 5m 58s\n",
            "105:\tlearn: 0.0036803\ttest: 0.0036803\tbest: 0.0036803 (105)\ttotal: 42.4s\tremaining: 5m 57s\n",
            "106:\tlearn: 0.0036557\ttest: 0.0036557\tbest: 0.0036557 (106)\ttotal: 42.8s\tremaining: 5m 56s\n",
            "107:\tlearn: 0.0036302\ttest: 0.0036302\tbest: 0.0036302 (107)\ttotal: 43.1s\tremaining: 5m 56s\n",
            "108:\tlearn: 0.0036127\ttest: 0.0036127\tbest: 0.0036127 (108)\ttotal: 43.5s\tremaining: 5m 55s\n",
            "109:\tlearn: 0.0035577\ttest: 0.0035577\tbest: 0.0035577 (109)\ttotal: 44s\tremaining: 5m 55s\n",
            "110:\tlearn: 0.0035141\ttest: 0.0035141\tbest: 0.0035141 (110)\ttotal: 44.4s\tremaining: 5m 55s\n",
            "111:\tlearn: 0.0034989\ttest: 0.0034989\tbest: 0.0034989 (111)\ttotal: 44.8s\tremaining: 5m 55s\n",
            "112:\tlearn: 0.0033833\ttest: 0.0033833\tbest: 0.0033833 (112)\ttotal: 45.2s\tremaining: 5m 55s\n",
            "113:\tlearn: 0.0033297\ttest: 0.0033297\tbest: 0.0033297 (113)\ttotal: 45.6s\tremaining: 5m 54s\n",
            "114:\tlearn: 0.0033053\ttest: 0.0033053\tbest: 0.0033053 (114)\ttotal: 46s\tremaining: 5m 53s\n",
            "115:\tlearn: 0.0032205\ttest: 0.0032205\tbest: 0.0032205 (115)\ttotal: 46.4s\tremaining: 5m 53s\n",
            "116:\tlearn: 0.0031869\ttest: 0.0031869\tbest: 0.0031869 (116)\ttotal: 46.8s\tremaining: 5m 53s\n",
            "117:\tlearn: 0.0031378\ttest: 0.0031378\tbest: 0.0031378 (117)\ttotal: 47.2s\tremaining: 5m 52s\n",
            "118:\tlearn: 0.0030787\ttest: 0.0030787\tbest: 0.0030787 (118)\ttotal: 47.6s\tremaining: 5m 52s\n",
            "119:\tlearn: 0.0030543\ttest: 0.0030543\tbest: 0.0030543 (119)\ttotal: 48.1s\tremaining: 5m 52s\n",
            "120:\tlearn: 0.0030277\ttest: 0.0030277\tbest: 0.0030277 (120)\ttotal: 48.4s\tremaining: 5m 51s\n",
            "121:\tlearn: 0.0029797\ttest: 0.0029797\tbest: 0.0029797 (121)\ttotal: 48.8s\tremaining: 5m 51s\n",
            "122:\tlearn: 0.0029698\ttest: 0.0029698\tbest: 0.0029698 (122)\ttotal: 49.2s\tremaining: 5m 50s\n",
            "123:\tlearn: 0.0029526\ttest: 0.0029526\tbest: 0.0029526 (123)\ttotal: 49.6s\tremaining: 5m 50s\n",
            "124:\tlearn: 0.0029302\ttest: 0.0029302\tbest: 0.0029302 (124)\ttotal: 50s\tremaining: 5m 49s\n",
            "125:\tlearn: 0.0029199\ttest: 0.0029199\tbest: 0.0029199 (125)\ttotal: 50.4s\tremaining: 5m 49s\n",
            "126:\tlearn: 0.0028900\ttest: 0.0028900\tbest: 0.0028900 (126)\ttotal: 50.7s\tremaining: 5m 48s\n",
            "127:\tlearn: 0.0028507\ttest: 0.0028507\tbest: 0.0028507 (127)\ttotal: 51.1s\tremaining: 5m 48s\n",
            "128:\tlearn: 0.0028507\ttest: 0.0028507\tbest: 0.0028507 (127)\ttotal: 51.5s\tremaining: 5m 47s\n",
            "129:\tlearn: 0.0028334\ttest: 0.0028334\tbest: 0.0028334 (129)\ttotal: 51.9s\tremaining: 5m 47s\n",
            "130:\tlearn: 0.0027835\ttest: 0.0027835\tbest: 0.0027835 (130)\ttotal: 52.3s\tremaining: 5m 47s\n",
            "131:\tlearn: 0.0027713\ttest: 0.0027713\tbest: 0.0027713 (131)\ttotal: 52.7s\tremaining: 5m 46s\n",
            "132:\tlearn: 0.0027472\ttest: 0.0027472\tbest: 0.0027472 (132)\ttotal: 53.1s\tremaining: 5m 46s\n",
            "133:\tlearn: 0.0027305\ttest: 0.0027305\tbest: 0.0027305 (133)\ttotal: 53.5s\tremaining: 5m 45s\n",
            "134:\tlearn: 0.0027243\ttest: 0.0027243\tbest: 0.0027243 (134)\ttotal: 53.9s\tremaining: 5m 45s\n",
            "135:\tlearn: 0.0027145\ttest: 0.0027145\tbest: 0.0027145 (135)\ttotal: 54.3s\tremaining: 5m 44s\n",
            "136:\tlearn: 0.0026952\ttest: 0.0026952\tbest: 0.0026952 (136)\ttotal: 54.6s\tremaining: 5m 44s\n",
            "137:\tlearn: 0.0026623\ttest: 0.0026623\tbest: 0.0026623 (137)\ttotal: 55.1s\tremaining: 5m 43s\n",
            "138:\tlearn: 0.0026498\ttest: 0.0026498\tbest: 0.0026498 (138)\ttotal: 55.5s\tremaining: 5m 43s\n",
            "139:\tlearn: 0.0026498\ttest: 0.0026498\tbest: 0.0026498 (139)\ttotal: 55.8s\tremaining: 5m 42s\n",
            "140:\tlearn: 0.0026402\ttest: 0.0026402\tbest: 0.0026402 (140)\ttotal: 56.2s\tremaining: 5m 42s\n",
            "141:\tlearn: 0.0026175\ttest: 0.0026175\tbest: 0.0026175 (141)\ttotal: 56.6s\tremaining: 5m 42s\n",
            "142:\tlearn: 0.0025898\ttest: 0.0025898\tbest: 0.0025898 (142)\ttotal: 57s\tremaining: 5m 41s\n",
            "143:\tlearn: 0.0025779\ttest: 0.0025779\tbest: 0.0025779 (143)\ttotal: 57.4s\tremaining: 5m 41s\n",
            "144:\tlearn: 0.0025624\ttest: 0.0025624\tbest: 0.0025624 (144)\ttotal: 57.9s\tremaining: 5m 41s\n",
            "145:\tlearn: 0.0025624\ttest: 0.0025624\tbest: 0.0025624 (145)\ttotal: 58.2s\tremaining: 5m 40s\n",
            "146:\tlearn: 0.0025425\ttest: 0.0025425\tbest: 0.0025425 (146)\ttotal: 58.6s\tremaining: 5m 39s\n",
            "147:\tlearn: 0.0025425\ttest: 0.0025425\tbest: 0.0025425 (147)\ttotal: 58.9s\tremaining: 5m 39s\n",
            "148:\tlearn: 0.0025351\ttest: 0.0025351\tbest: 0.0025351 (148)\ttotal: 59.3s\tremaining: 5m 38s\n",
            "149:\tlearn: 0.0025350\ttest: 0.0025350\tbest: 0.0025350 (149)\ttotal: 59.6s\tremaining: 5m 37s\n",
            "150:\tlearn: 0.0025134\ttest: 0.0025134\tbest: 0.0025134 (150)\ttotal: 60s\tremaining: 5m 37s\n",
            "151:\tlearn: 0.0024941\ttest: 0.0024941\tbest: 0.0024941 (151)\ttotal: 1m\tremaining: 5m 36s\n",
            "152:\tlearn: 0.0024707\ttest: 0.0024707\tbest: 0.0024707 (152)\ttotal: 1m\tremaining: 5m 36s\n",
            "153:\tlearn: 0.0024707\ttest: 0.0024707\tbest: 0.0024707 (153)\ttotal: 1m 1s\tremaining: 5m 35s\n",
            "154:\tlearn: 0.0024626\ttest: 0.0024626\tbest: 0.0024626 (154)\ttotal: 1m 1s\tremaining: 5m 34s\n",
            "155:\tlearn: 0.0024625\ttest: 0.0024625\tbest: 0.0024625 (155)\ttotal: 1m 1s\tremaining: 5m 34s\n",
            "156:\tlearn: 0.0024537\ttest: 0.0024537\tbest: 0.0024537 (156)\ttotal: 1m 2s\tremaining: 5m 34s\n",
            "157:\tlearn: 0.0024333\ttest: 0.0024333\tbest: 0.0024333 (157)\ttotal: 1m 2s\tremaining: 5m 33s\n",
            "158:\tlearn: 0.0024069\ttest: 0.0024069\tbest: 0.0024069 (158)\ttotal: 1m 2s\tremaining: 5m 33s\n",
            "159:\tlearn: 0.0024033\ttest: 0.0024033\tbest: 0.0024033 (159)\ttotal: 1m 3s\tremaining: 5m 32s\n",
            "160:\tlearn: 0.0024033\ttest: 0.0024033\tbest: 0.0024033 (160)\ttotal: 1m 3s\tremaining: 5m 31s\n",
            "161:\tlearn: 0.0024033\ttest: 0.0024033\tbest: 0.0024033 (160)\ttotal: 1m 4s\tremaining: 5m 31s\n",
            "162:\tlearn: 0.0024033\ttest: 0.0024033\tbest: 0.0024033 (160)\ttotal: 1m 4s\tremaining: 5m 30s\n",
            "163:\tlearn: 0.0023939\ttest: 0.0023939\tbest: 0.0023939 (163)\ttotal: 1m 4s\tremaining: 5m 30s\n",
            "164:\tlearn: 0.0023842\ttest: 0.0023842\tbest: 0.0023842 (164)\ttotal: 1m 5s\tremaining: 5m 30s\n",
            "165:\tlearn: 0.0023842\ttest: 0.0023842\tbest: 0.0023842 (164)\ttotal: 1m 5s\tremaining: 5m 30s\n",
            "166:\tlearn: 0.0023842\ttest: 0.0023842\tbest: 0.0023842 (166)\ttotal: 1m 6s\tremaining: 5m 29s\n",
            "167:\tlearn: 0.0023842\ttest: 0.0023842\tbest: 0.0023842 (167)\ttotal: 1m 6s\tremaining: 5m 29s\n",
            "168:\tlearn: 0.0023841\ttest: 0.0023841\tbest: 0.0023841 (168)\ttotal: 1m 6s\tremaining: 5m 28s\n",
            "169:\tlearn: 0.0023841\ttest: 0.0023841\tbest: 0.0023841 (169)\ttotal: 1m 7s\tremaining: 5m 28s\n",
            "170:\tlearn: 0.0023841\ttest: 0.0023841\tbest: 0.0023841 (170)\ttotal: 1m 7s\tremaining: 5m 27s\n",
            "171:\tlearn: 0.0023840\ttest: 0.0023840\tbest: 0.0023840 (171)\ttotal: 1m 7s\tremaining: 5m 27s\n",
            "172:\tlearn: 0.0023840\ttest: 0.0023840\tbest: 0.0023840 (172)\ttotal: 1m 8s\tremaining: 5m 26s\n",
            "173:\tlearn: 0.0023840\ttest: 0.0023840\tbest: 0.0023840 (173)\ttotal: 1m 8s\tremaining: 5m 26s\n",
            "174:\tlearn: 0.0023839\ttest: 0.0023839\tbest: 0.0023839 (174)\ttotal: 1m 9s\tremaining: 5m 26s\n",
            "175:\tlearn: 0.0023839\ttest: 0.0023839\tbest: 0.0023839 (175)\ttotal: 1m 9s\tremaining: 5m 25s\n",
            "176:\tlearn: 0.0023839\ttest: 0.0023839\tbest: 0.0023839 (176)\ttotal: 1m 9s\tremaining: 5m 24s\n",
            "177:\tlearn: 0.0023839\ttest: 0.0023839\tbest: 0.0023839 (177)\ttotal: 1m 10s\tremaining: 5m 24s\n",
            "178:\tlearn: 0.0023839\ttest: 0.0023839\tbest: 0.0023839 (177)\ttotal: 1m 10s\tremaining: 5m 23s\n",
            "179:\tlearn: 0.0023839\ttest: 0.0023839\tbest: 0.0023839 (179)\ttotal: 1m 10s\tremaining: 5m 23s\n",
            "180:\tlearn: 0.0023839\ttest: 0.0023839\tbest: 0.0023839 (180)\ttotal: 1m 11s\tremaining: 5m 22s\n",
            "181:\tlearn: 0.0023839\ttest: 0.0023839\tbest: 0.0023839 (181)\ttotal: 1m 11s\tremaining: 5m 22s\n",
            "182:\tlearn: 0.0023838\ttest: 0.0023838\tbest: 0.0023838 (182)\ttotal: 1m 12s\tremaining: 5m 21s\n",
            "183:\tlearn: 0.0023838\ttest: 0.0023838\tbest: 0.0023838 (183)\ttotal: 1m 12s\tremaining: 5m 21s\n",
            "184:\tlearn: 0.0023727\ttest: 0.0023727\tbest: 0.0023727 (184)\ttotal: 1m 12s\tremaining: 5m 20s\n",
            "185:\tlearn: 0.0023308\ttest: 0.0023308\tbest: 0.0023308 (185)\ttotal: 1m 13s\tremaining: 5m 19s\n",
            "186:\tlearn: 0.0023113\ttest: 0.0023113\tbest: 0.0023113 (186)\ttotal: 1m 13s\tremaining: 5m 19s\n",
            "187:\tlearn: 0.0022993\ttest: 0.0022993\tbest: 0.0022993 (187)\ttotal: 1m 13s\tremaining: 5m 19s\n",
            "188:\tlearn: 0.0022905\ttest: 0.0022905\tbest: 0.0022905 (188)\ttotal: 1m 14s\tremaining: 5m 18s\n",
            "189:\tlearn: 0.0022827\ttest: 0.0022827\tbest: 0.0022827 (189)\ttotal: 1m 14s\tremaining: 5m 18s\n",
            "190:\tlearn: 0.0022695\ttest: 0.0022695\tbest: 0.0022695 (190)\ttotal: 1m 15s\tremaining: 5m 17s\n",
            "191:\tlearn: 0.0022695\ttest: 0.0022695\tbest: 0.0022695 (191)\ttotal: 1m 15s\tremaining: 5m 17s\n",
            "192:\tlearn: 0.0022529\ttest: 0.0022529\tbest: 0.0022529 (192)\ttotal: 1m 15s\tremaining: 5m 17s\n",
            "193:\tlearn: 0.0022528\ttest: 0.0022528\tbest: 0.0022528 (193)\ttotal: 1m 16s\tremaining: 5m 16s\n",
            "194:\tlearn: 0.0022526\ttest: 0.0022526\tbest: 0.0022526 (194)\ttotal: 1m 16s\tremaining: 5m 16s\n",
            "195:\tlearn: 0.0022526\ttest: 0.0022526\tbest: 0.0022526 (195)\ttotal: 1m 17s\tremaining: 5m 15s\n",
            "196:\tlearn: 0.0022526\ttest: 0.0022526\tbest: 0.0022526 (196)\ttotal: 1m 17s\tremaining: 5m 15s\n",
            "197:\tlearn: 0.0022526\ttest: 0.0022526\tbest: 0.0022526 (197)\ttotal: 1m 17s\tremaining: 5m 15s\n",
            "198:\tlearn: 0.0022525\ttest: 0.0022525\tbest: 0.0022525 (198)\ttotal: 1m 18s\tremaining: 5m 14s\n",
            "199:\tlearn: 0.0022525\ttest: 0.0022525\tbest: 0.0022525 (199)\ttotal: 1m 18s\tremaining: 5m 14s\n",
            "200:\tlearn: 0.0022524\ttest: 0.0022524\tbest: 0.0022524 (200)\ttotal: 1m 18s\tremaining: 5m 13s\n",
            "201:\tlearn: 0.0022524\ttest: 0.0022524\tbest: 0.0022524 (201)\ttotal: 1m 19s\tremaining: 5m 13s\n",
            "202:\tlearn: 0.0022524\ttest: 0.0022524\tbest: 0.0022524 (201)\ttotal: 1m 19s\tremaining: 5m 13s\n",
            "203:\tlearn: 0.0022524\ttest: 0.0022524\tbest: 0.0022524 (201)\ttotal: 1m 20s\tremaining: 5m 12s\n",
            "204:\tlearn: 0.0022524\ttest: 0.0022524\tbest: 0.0022524 (201)\ttotal: 1m 20s\tremaining: 5m 12s\n",
            "205:\tlearn: 0.0022524\ttest: 0.0022524\tbest: 0.0022524 (201)\ttotal: 1m 20s\tremaining: 5m 11s\n",
            "206:\tlearn: 0.0022524\ttest: 0.0022524\tbest: 0.0022524 (201)\ttotal: 1m 21s\tremaining: 5m 11s\n",
            "207:\tlearn: 0.0022524\ttest: 0.0022524\tbest: 0.0022524 (201)\ttotal: 1m 21s\tremaining: 5m 11s\n",
            "208:\tlearn: 0.0022524\ttest: 0.0022524\tbest: 0.0022524 (201)\ttotal: 1m 22s\tremaining: 5m 10s\n",
            "209:\tlearn: 0.0022524\ttest: 0.0022524\tbest: 0.0022524 (201)\ttotal: 1m 22s\tremaining: 5m 10s\n",
            "210:\tlearn: 0.0022524\ttest: 0.0022524\tbest: 0.0022524 (201)\ttotal: 1m 22s\tremaining: 5m 9s\n",
            "211:\tlearn: 0.0022524\ttest: 0.0022524\tbest: 0.0022524 (201)\ttotal: 1m 23s\tremaining: 5m 9s\n",
            "212:\tlearn: 0.0022524\ttest: 0.0022524\tbest: 0.0022524 (201)\ttotal: 1m 23s\tremaining: 5m 8s\n",
            "213:\tlearn: 0.0022524\ttest: 0.0022524\tbest: 0.0022524 (201)\ttotal: 1m 24s\tremaining: 5m 8s\n",
            "214:\tlearn: 0.0022524\ttest: 0.0022524\tbest: 0.0022524 (201)\ttotal: 1m 24s\tremaining: 5m 8s\n",
            "215:\tlearn: 0.0022524\ttest: 0.0022524\tbest: 0.0022524 (201)\ttotal: 1m 24s\tremaining: 5m 7s\n",
            "216:\tlearn: 0.0022524\ttest: 0.0022524\tbest: 0.0022524 (201)\ttotal: 1m 25s\tremaining: 5m 7s\n",
            "217:\tlearn: 0.0022524\ttest: 0.0022524\tbest: 0.0022524 (201)\ttotal: 1m 25s\tremaining: 5m 6s\n",
            "218:\tlearn: 0.0022524\ttest: 0.0022524\tbest: 0.0022524 (201)\ttotal: 1m 25s\tremaining: 5m 6s\n",
            "219:\tlearn: 0.0022524\ttest: 0.0022524\tbest: 0.0022524 (201)\ttotal: 1m 26s\tremaining: 5m 6s\n",
            "220:\tlearn: 0.0022524\ttest: 0.0022524\tbest: 0.0022524 (201)\ttotal: 1m 26s\tremaining: 5m 5s\n",
            "221:\tlearn: 0.0022524\ttest: 0.0022524\tbest: 0.0022524 (201)\ttotal: 1m 27s\tremaining: 5m 5s\n",
            "222:\tlearn: 0.0022524\ttest: 0.0022524\tbest: 0.0022524 (201)\ttotal: 1m 27s\tremaining: 5m 4s\n",
            "223:\tlearn: 0.0022524\ttest: 0.0022524\tbest: 0.0022524 (201)\ttotal: 1m 27s\tremaining: 5m 4s\n",
            "224:\tlearn: 0.0022524\ttest: 0.0022524\tbest: 0.0022524 (201)\ttotal: 1m 28s\tremaining: 5m 3s\n",
            "225:\tlearn: 0.0022524\ttest: 0.0022524\tbest: 0.0022524 (201)\ttotal: 1m 28s\tremaining: 5m 3s\n",
            "226:\tlearn: 0.0022524\ttest: 0.0022524\tbest: 0.0022524 (201)\ttotal: 1m 29s\tremaining: 5m 3s\n",
            "227:\tlearn: 0.0022524\ttest: 0.0022524\tbest: 0.0022524 (201)\ttotal: 1m 29s\tremaining: 5m 2s\n",
            "228:\tlearn: 0.0022524\ttest: 0.0022524\tbest: 0.0022524 (201)\ttotal: 1m 29s\tremaining: 5m 2s\n",
            "229:\tlearn: 0.0022524\ttest: 0.0022524\tbest: 0.0022524 (201)\ttotal: 1m 30s\tremaining: 5m 2s\n",
            "230:\tlearn: 0.0022524\ttest: 0.0022524\tbest: 0.0022524 (201)\ttotal: 1m 30s\tremaining: 5m 1s\n",
            "231:\tlearn: 0.0022524\ttest: 0.0022524\tbest: 0.0022524 (201)\ttotal: 1m 31s\tremaining: 5m 1s\n",
            "232:\tlearn: 0.0022524\ttest: 0.0022524\tbest: 0.0022524 (201)\ttotal: 1m 31s\tremaining: 5m\n",
            "233:\tlearn: 0.0022263\ttest: 0.0022263\tbest: 0.0022263 (233)\ttotal: 1m 31s\tremaining: 5m\n",
            "234:\tlearn: 0.0022263\ttest: 0.0022263\tbest: 0.0022263 (233)\ttotal: 1m 32s\tremaining: 4m 59s\n",
            "235:\tlearn: 0.0022263\ttest: 0.0022263\tbest: 0.0022263 (235)\ttotal: 1m 32s\tremaining: 4m 59s\n",
            "236:\tlearn: 0.0022263\ttest: 0.0022263\tbest: 0.0022263 (236)\ttotal: 1m 32s\tremaining: 4m 59s\n",
            "237:\tlearn: 0.0022263\ttest: 0.0022263\tbest: 0.0022263 (237)\ttotal: 1m 33s\tremaining: 4m 58s\n",
            "238:\tlearn: 0.0022261\ttest: 0.0022261\tbest: 0.0022261 (238)\ttotal: 1m 33s\tremaining: 4m 58s\n",
            "239:\tlearn: 0.0022261\ttest: 0.0022261\tbest: 0.0022261 (239)\ttotal: 1m 34s\tremaining: 4m 57s\n",
            "240:\tlearn: 0.0022261\ttest: 0.0022261\tbest: 0.0022261 (240)\ttotal: 1m 34s\tremaining: 4m 57s\n",
            "241:\tlearn: 0.0022261\ttest: 0.0022261\tbest: 0.0022261 (240)\ttotal: 1m 34s\tremaining: 4m 57s\n",
            "242:\tlearn: 0.0022261\ttest: 0.0022261\tbest: 0.0022261 (240)\ttotal: 1m 35s\tremaining: 4m 56s\n",
            "243:\tlearn: 0.0022261\ttest: 0.0022261\tbest: 0.0022261 (240)\ttotal: 1m 35s\tremaining: 4m 56s\n",
            "244:\tlearn: 0.0022184\ttest: 0.0022184\tbest: 0.0022184 (244)\ttotal: 1m 36s\tremaining: 4m 55s\n",
            "245:\tlearn: 0.0022183\ttest: 0.0022183\tbest: 0.0022183 (245)\ttotal: 1m 36s\tremaining: 4m 55s\n",
            "246:\tlearn: 0.0022183\ttest: 0.0022183\tbest: 0.0022183 (246)\ttotal: 1m 36s\tremaining: 4m 54s\n",
            "247:\tlearn: 0.0022183\ttest: 0.0022183\tbest: 0.0022183 (247)\ttotal: 1m 37s\tremaining: 4m 54s\n",
            "248:\tlearn: 0.0022183\ttest: 0.0022183\tbest: 0.0022183 (248)\ttotal: 1m 37s\tremaining: 4m 54s\n",
            "249:\tlearn: 0.0022183\ttest: 0.0022183\tbest: 0.0022183 (248)\ttotal: 1m 37s\tremaining: 4m 53s\n",
            "250:\tlearn: 0.0022183\ttest: 0.0022183\tbest: 0.0022183 (250)\ttotal: 1m 38s\tremaining: 4m 53s\n",
            "251:\tlearn: 0.0022182\ttest: 0.0022182\tbest: 0.0022182 (251)\ttotal: 1m 38s\tremaining: 4m 53s\n",
            "252:\tlearn: 0.0022181\ttest: 0.0022181\tbest: 0.0022181 (252)\ttotal: 1m 39s\tremaining: 4m 52s\n",
            "253:\tlearn: 0.0022179\ttest: 0.0022179\tbest: 0.0022179 (253)\ttotal: 1m 39s\tremaining: 4m 52s\n",
            "254:\tlearn: 0.0022179\ttest: 0.0022179\tbest: 0.0022179 (254)\ttotal: 1m 39s\tremaining: 4m 51s\n",
            "255:\tlearn: 0.0022179\ttest: 0.0022179\tbest: 0.0022179 (255)\ttotal: 1m 40s\tremaining: 4m 51s\n",
            "256:\tlearn: 0.0022178\ttest: 0.0022178\tbest: 0.0022178 (256)\ttotal: 1m 40s\tremaining: 4m 50s\n",
            "257:\tlearn: 0.0021831\ttest: 0.0021831\tbest: 0.0021831 (257)\ttotal: 1m 41s\tremaining: 4m 50s\n",
            "258:\tlearn: 0.0021830\ttest: 0.0021830\tbest: 0.0021830 (258)\ttotal: 1m 41s\tremaining: 4m 49s\n",
            "259:\tlearn: 0.0021830\ttest: 0.0021830\tbest: 0.0021830 (259)\ttotal: 1m 41s\tremaining: 4m 49s\n",
            "260:\tlearn: 0.0021830\ttest: 0.0021830\tbest: 0.0021830 (260)\ttotal: 1m 42s\tremaining: 4m 49s\n",
            "261:\tlearn: 0.0021829\ttest: 0.0021829\tbest: 0.0021829 (261)\ttotal: 1m 42s\tremaining: 4m 48s\n",
            "262:\tlearn: 0.0021829\ttest: 0.0021829\tbest: 0.0021829 (262)\ttotal: 1m 42s\tremaining: 4m 48s\n",
            "263:\tlearn: 0.0021829\ttest: 0.0021829\tbest: 0.0021829 (263)\ttotal: 1m 43s\tremaining: 4m 47s\n",
            "264:\tlearn: 0.0021829\ttest: 0.0021829\tbest: 0.0021829 (264)\ttotal: 1m 43s\tremaining: 4m 47s\n",
            "265:\tlearn: 0.0021829\ttest: 0.0021829\tbest: 0.0021829 (265)\ttotal: 1m 44s\tremaining: 4m 47s\n",
            "266:\tlearn: 0.0021828\ttest: 0.0021828\tbest: 0.0021828 (266)\ttotal: 1m 44s\tremaining: 4m 46s\n",
            "267:\tlearn: 0.0021828\ttest: 0.0021828\tbest: 0.0021828 (267)\ttotal: 1m 44s\tremaining: 4m 46s\n",
            "268:\tlearn: 0.0021828\ttest: 0.0021828\tbest: 0.0021828 (267)\ttotal: 1m 45s\tremaining: 4m 45s\n",
            "269:\tlearn: 0.0021828\ttest: 0.0021828\tbest: 0.0021828 (267)\ttotal: 1m 45s\tremaining: 4m 45s\n",
            "270:\tlearn: 0.0021828\ttest: 0.0021828\tbest: 0.0021828 (267)\ttotal: 1m 45s\tremaining: 4m 45s\n",
            "271:\tlearn: 0.0021828\ttest: 0.0021828\tbest: 0.0021828 (271)\ttotal: 1m 46s\tremaining: 4m 44s\n",
            "272:\tlearn: 0.0021828\ttest: 0.0021828\tbest: 0.0021828 (272)\ttotal: 1m 46s\tremaining: 4m 44s\n",
            "273:\tlearn: 0.0021828\ttest: 0.0021828\tbest: 0.0021828 (272)\ttotal: 1m 47s\tremaining: 4m 43s\n",
            "274:\tlearn: 0.0021828\ttest: 0.0021828\tbest: 0.0021828 (274)\ttotal: 1m 47s\tremaining: 4m 43s\n",
            "275:\tlearn: 0.0021828\ttest: 0.0021828\tbest: 0.0021828 (275)\ttotal: 1m 47s\tremaining: 4m 42s\n",
            "276:\tlearn: 0.0021828\ttest: 0.0021828\tbest: 0.0021828 (276)\ttotal: 1m 48s\tremaining: 4m 42s\n",
            "277:\tlearn: 0.0021828\ttest: 0.0021828\tbest: 0.0021828 (277)\ttotal: 1m 48s\tremaining: 4m 42s\n",
            "278:\tlearn: 0.0021828\ttest: 0.0021828\tbest: 0.0021828 (278)\ttotal: 1m 49s\tremaining: 4m 41s\n",
            "279:\tlearn: 0.0021827\ttest: 0.0021827\tbest: 0.0021827 (279)\ttotal: 1m 49s\tremaining: 4m 41s\n",
            "280:\tlearn: 0.0021827\ttest: 0.0021827\tbest: 0.0021827 (280)\ttotal: 1m 49s\tremaining: 4m 41s\n",
            "281:\tlearn: 0.0021827\ttest: 0.0021827\tbest: 0.0021827 (280)\ttotal: 1m 50s\tremaining: 4m 40s\n",
            "282:\tlearn: 0.0021827\ttest: 0.0021827\tbest: 0.0021827 (282)\ttotal: 1m 50s\tremaining: 4m 40s\n",
            "283:\tlearn: 0.0021827\ttest: 0.0021827\tbest: 0.0021827 (283)\ttotal: 1m 51s\tremaining: 4m 39s\n",
            "284:\tlearn: 0.0021827\ttest: 0.0021827\tbest: 0.0021827 (283)\ttotal: 1m 51s\tremaining: 4m 39s\n",
            "285:\tlearn: 0.0021827\ttest: 0.0021827\tbest: 0.0021827 (283)\ttotal: 1m 51s\tremaining: 4m 39s\n",
            "286:\tlearn: 0.0021827\ttest: 0.0021827\tbest: 0.0021827 (283)\ttotal: 1m 52s\tremaining: 4m 38s\n",
            "287:\tlearn: 0.0021827\ttest: 0.0021827\tbest: 0.0021827 (283)\ttotal: 1m 52s\tremaining: 4m 38s\n",
            "288:\tlearn: 0.0021827\ttest: 0.0021827\tbest: 0.0021827 (283)\ttotal: 1m 52s\tremaining: 4m 37s\n",
            "289:\tlearn: 0.0021827\ttest: 0.0021827\tbest: 0.0021827 (283)\ttotal: 1m 53s\tremaining: 4m 37s\n",
            "290:\tlearn: 0.0021827\ttest: 0.0021827\tbest: 0.0021827 (283)\ttotal: 1m 53s\tremaining: 4m 37s\n",
            "291:\tlearn: 0.0021827\ttest: 0.0021827\tbest: 0.0021827 (283)\ttotal: 1m 54s\tremaining: 4m 36s\n",
            "292:\tlearn: 0.0021827\ttest: 0.0021827\tbest: 0.0021827 (283)\ttotal: 1m 54s\tremaining: 4m 36s\n",
            "293:\tlearn: 0.0021827\ttest: 0.0021827\tbest: 0.0021827 (283)\ttotal: 1m 54s\tremaining: 4m 35s\n",
            "294:\tlearn: 0.0021827\ttest: 0.0021827\tbest: 0.0021827 (283)\ttotal: 1m 55s\tremaining: 4m 35s\n",
            "295:\tlearn: 0.0021827\ttest: 0.0021827\tbest: 0.0021827 (283)\ttotal: 1m 55s\tremaining: 4m 35s\n",
            "296:\tlearn: 0.0021827\ttest: 0.0021827\tbest: 0.0021827 (283)\ttotal: 1m 56s\tremaining: 4m 34s\n",
            "297:\tlearn: 0.0021827\ttest: 0.0021827\tbest: 0.0021827 (283)\ttotal: 1m 56s\tremaining: 4m 34s\n",
            "298:\tlearn: 0.0021827\ttest: 0.0021827\tbest: 0.0021827 (283)\ttotal: 1m 56s\tremaining: 4m 33s\n",
            "299:\tlearn: 0.0021827\ttest: 0.0021827\tbest: 0.0021827 (283)\ttotal: 1m 57s\tremaining: 4m 33s\n",
            "300:\tlearn: 0.0021827\ttest: 0.0021827\tbest: 0.0021827 (283)\ttotal: 1m 57s\tremaining: 4m 33s\n",
            "301:\tlearn: 0.0021611\ttest: 0.0021611\tbest: 0.0021611 (301)\ttotal: 1m 57s\tremaining: 4m 32s\n",
            "302:\tlearn: 0.0021610\ttest: 0.0021610\tbest: 0.0021610 (302)\ttotal: 1m 58s\tremaining: 4m 32s\n",
            "303:\tlearn: 0.0021610\ttest: 0.0021610\tbest: 0.0021610 (303)\ttotal: 1m 58s\tremaining: 4m 31s\n",
            "304:\tlearn: 0.0021610\ttest: 0.0021610\tbest: 0.0021610 (304)\ttotal: 1m 59s\tremaining: 4m 31s\n",
            "305:\tlearn: 0.0021610\ttest: 0.0021610\tbest: 0.0021610 (305)\ttotal: 1m 59s\tremaining: 4m 31s\n",
            "306:\tlearn: 0.0021610\ttest: 0.0021610\tbest: 0.0021610 (305)\ttotal: 1m 59s\tremaining: 4m 30s\n",
            "307:\tlearn: 0.0021610\ttest: 0.0021610\tbest: 0.0021610 (305)\ttotal: 2m\tremaining: 4m 30s\n",
            "308:\tlearn: 0.0021610\ttest: 0.0021610\tbest: 0.0021610 (305)\ttotal: 2m\tremaining: 4m 29s\n",
            "309:\tlearn: 0.0021610\ttest: 0.0021610\tbest: 0.0021610 (305)\ttotal: 2m 1s\tremaining: 4m 29s\n",
            "310:\tlearn: 0.0021610\ttest: 0.0021610\tbest: 0.0021610 (305)\ttotal: 2m 1s\tremaining: 4m 29s\n",
            "311:\tlearn: 0.0021610\ttest: 0.0021610\tbest: 0.0021610 (305)\ttotal: 2m 1s\tremaining: 4m 28s\n",
            "312:\tlearn: 0.0021610\ttest: 0.0021610\tbest: 0.0021610 (305)\ttotal: 2m 2s\tremaining: 4m 28s\n",
            "313:\tlearn: 0.0021610\ttest: 0.0021610\tbest: 0.0021610 (305)\ttotal: 2m 2s\tremaining: 4m 27s\n",
            "314:\tlearn: 0.0021610\ttest: 0.0021610\tbest: 0.0021610 (305)\ttotal: 2m 3s\tremaining: 4m 27s\n",
            "315:\tlearn: 0.0021610\ttest: 0.0021610\tbest: 0.0021610 (305)\ttotal: 2m 3s\tremaining: 4m 27s\n",
            "316:\tlearn: 0.0021610\ttest: 0.0021610\tbest: 0.0021610 (305)\ttotal: 2m 3s\tremaining: 4m 26s\n",
            "317:\tlearn: 0.0021610\ttest: 0.0021610\tbest: 0.0021610 (305)\ttotal: 2m 4s\tremaining: 4m 26s\n",
            "318:\tlearn: 0.0021610\ttest: 0.0021610\tbest: 0.0021610 (305)\ttotal: 2m 4s\tremaining: 4m 26s\n",
            "319:\tlearn: 0.0021610\ttest: 0.0021610\tbest: 0.0021610 (305)\ttotal: 2m 4s\tremaining: 4m 25s\n",
            "320:\tlearn: 0.0021610\ttest: 0.0021610\tbest: 0.0021610 (305)\ttotal: 2m 5s\tremaining: 4m 25s\n",
            "321:\tlearn: 0.0021610\ttest: 0.0021610\tbest: 0.0021610 (305)\ttotal: 2m 5s\tremaining: 4m 24s\n",
            "322:\tlearn: 0.0021610\ttest: 0.0021610\tbest: 0.0021610 (305)\ttotal: 2m 6s\tremaining: 4m 24s\n",
            "323:\tlearn: 0.0021610\ttest: 0.0021610\tbest: 0.0021610 (305)\ttotal: 2m 6s\tremaining: 4m 24s\n",
            "324:\tlearn: 0.0021610\ttest: 0.0021610\tbest: 0.0021610 (305)\ttotal: 2m 6s\tremaining: 4m 23s\n",
            "325:\tlearn: 0.0021610\ttest: 0.0021610\tbest: 0.0021610 (305)\ttotal: 2m 7s\tremaining: 4m 23s\n",
            "326:\tlearn: 0.0021610\ttest: 0.0021610\tbest: 0.0021610 (305)\ttotal: 2m 7s\tremaining: 4m 22s\n",
            "327:\tlearn: 0.0021610\ttest: 0.0021610\tbest: 0.0021610 (305)\ttotal: 2m 8s\tremaining: 4m 22s\n",
            "328:\tlearn: 0.0021610\ttest: 0.0021610\tbest: 0.0021610 (305)\ttotal: 2m 8s\tremaining: 4m 22s\n",
            "329:\tlearn: 0.0021610\ttest: 0.0021610\tbest: 0.0021610 (305)\ttotal: 2m 8s\tremaining: 4m 21s\n",
            "330:\tlearn: 0.0021610\ttest: 0.0021610\tbest: 0.0021610 (305)\ttotal: 2m 9s\tremaining: 4m 21s\n",
            "331:\tlearn: 0.0021610\ttest: 0.0021610\tbest: 0.0021610 (305)\ttotal: 2m 9s\tremaining: 4m 20s\n",
            "332:\tlearn: 0.0021610\ttest: 0.0021610\tbest: 0.0021610 (305)\ttotal: 2m 9s\tremaining: 4m 20s\n",
            "333:\tlearn: 0.0021610\ttest: 0.0021610\tbest: 0.0021610 (305)\ttotal: 2m 10s\tremaining: 4m 20s\n",
            "334:\tlearn: 0.0021610\ttest: 0.0021610\tbest: 0.0021610 (305)\ttotal: 2m 10s\tremaining: 4m 19s\n",
            "335:\tlearn: 0.0021610\ttest: 0.0021610\tbest: 0.0021610 (305)\ttotal: 2m 11s\tremaining: 4m 19s\n",
            "336:\tlearn: 0.0021610\ttest: 0.0021610\tbest: 0.0021610 (305)\ttotal: 2m 11s\tremaining: 4m 18s\n",
            "337:\tlearn: 0.0021610\ttest: 0.0021610\tbest: 0.0021610 (305)\ttotal: 2m 11s\tremaining: 4m 18s\n",
            "338:\tlearn: 0.0021610\ttest: 0.0021610\tbest: 0.0021610 (305)\ttotal: 2m 12s\tremaining: 4m 18s\n",
            "339:\tlearn: 0.0021610\ttest: 0.0021610\tbest: 0.0021610 (305)\ttotal: 2m 12s\tremaining: 4m 17s\n",
            "340:\tlearn: 0.0021610\ttest: 0.0021610\tbest: 0.0021610 (305)\ttotal: 2m 13s\tremaining: 4m 17s\n",
            "341:\tlearn: 0.0021610\ttest: 0.0021610\tbest: 0.0021610 (305)\ttotal: 2m 13s\tremaining: 4m 16s\n",
            "342:\tlearn: 0.0021610\ttest: 0.0021610\tbest: 0.0021610 (305)\ttotal: 2m 13s\tremaining: 4m 16s\n",
            "343:\tlearn: 0.0021610\ttest: 0.0021610\tbest: 0.0021610 (305)\ttotal: 2m 14s\tremaining: 4m 16s\n",
            "344:\tlearn: 0.0021610\ttest: 0.0021610\tbest: 0.0021610 (305)\ttotal: 2m 14s\tremaining: 4m 15s\n",
            "345:\tlearn: 0.0021610\ttest: 0.0021610\tbest: 0.0021610 (305)\ttotal: 2m 15s\tremaining: 4m 15s\n",
            "346:\tlearn: 0.0021610\ttest: 0.0021610\tbest: 0.0021610 (305)\ttotal: 2m 15s\tremaining: 4m 14s\n",
            "347:\tlearn: 0.0021610\ttest: 0.0021610\tbest: 0.0021610 (305)\ttotal: 2m 15s\tremaining: 4m 14s\n",
            "348:\tlearn: 0.0021610\ttest: 0.0021610\tbest: 0.0021610 (305)\ttotal: 2m 16s\tremaining: 4m 14s\n",
            "349:\tlearn: 0.0021610\ttest: 0.0021610\tbest: 0.0021610 (305)\ttotal: 2m 16s\tremaining: 4m 13s\n",
            "350:\tlearn: 0.0021610\ttest: 0.0021610\tbest: 0.0021610 (305)\ttotal: 2m 17s\tremaining: 4m 13s\n",
            "351:\tlearn: 0.0021610\ttest: 0.0021610\tbest: 0.0021610 (305)\ttotal: 2m 17s\tremaining: 4m 12s\n",
            "352:\tlearn: 0.0021610\ttest: 0.0021610\tbest: 0.0021610 (305)\ttotal: 2m 17s\tremaining: 4m 12s\n",
            "353:\tlearn: 0.0021610\ttest: 0.0021610\tbest: 0.0021610 (305)\ttotal: 2m 18s\tremaining: 4m 12s\n",
            "354:\tlearn: 0.0021610\ttest: 0.0021610\tbest: 0.0021610 (305)\ttotal: 2m 18s\tremaining: 4m 11s\n",
            "355:\tlearn: 0.0021610\ttest: 0.0021610\tbest: 0.0021610 (305)\ttotal: 2m 18s\tremaining: 4m 11s\n",
            "356:\tlearn: 0.0021610\ttest: 0.0021610\tbest: 0.0021610 (305)\ttotal: 2m 19s\tremaining: 4m 11s\n",
            "357:\tlearn: 0.0021610\ttest: 0.0021610\tbest: 0.0021610 (305)\ttotal: 2m 19s\tremaining: 4m 10s\n",
            "358:\tlearn: 0.0021610\ttest: 0.0021610\tbest: 0.0021610 (305)\ttotal: 2m 20s\tremaining: 4m 10s\n",
            "359:\tlearn: 0.0021610\ttest: 0.0021610\tbest: 0.0021610 (305)\ttotal: 2m 20s\tremaining: 4m 9s\n",
            "360:\tlearn: 0.0021610\ttest: 0.0021610\tbest: 0.0021610 (305)\ttotal: 2m 20s\tremaining: 4m 9s\n",
            "361:\tlearn: 0.0021610\ttest: 0.0021610\tbest: 0.0021610 (305)\ttotal: 2m 21s\tremaining: 4m 9s\n",
            "362:\tlearn: 0.0021610\ttest: 0.0021610\tbest: 0.0021610 (305)\ttotal: 2m 21s\tremaining: 4m 8s\n",
            "363:\tlearn: 0.0021610\ttest: 0.0021610\tbest: 0.0021610 (305)\ttotal: 2m 22s\tremaining: 4m 8s\n",
            "364:\tlearn: 0.0021610\ttest: 0.0021610\tbest: 0.0021610 (305)\ttotal: 2m 22s\tremaining: 4m 7s\n",
            "365:\tlearn: 0.0021610\ttest: 0.0021610\tbest: 0.0021610 (305)\ttotal: 2m 22s\tremaining: 4m 7s\n",
            "366:\tlearn: 0.0021610\ttest: 0.0021610\tbest: 0.0021610 (305)\ttotal: 2m 23s\tremaining: 4m 7s\n",
            "367:\tlearn: 0.0021610\ttest: 0.0021610\tbest: 0.0021610 (305)\ttotal: 2m 23s\tremaining: 4m 6s\n",
            "368:\tlearn: 0.0021610\ttest: 0.0021610\tbest: 0.0021610 (305)\ttotal: 2m 24s\tremaining: 4m 6s\n",
            "369:\tlearn: 0.0021610\ttest: 0.0021610\tbest: 0.0021610 (305)\ttotal: 2m 24s\tremaining: 4m 5s\n",
            "370:\tlearn: 0.0021610\ttest: 0.0021610\tbest: 0.0021610 (305)\ttotal: 2m 24s\tremaining: 4m 5s\n",
            "371:\tlearn: 0.0021610\ttest: 0.0021610\tbest: 0.0021610 (305)\ttotal: 2m 25s\tremaining: 4m 5s\n",
            "372:\tlearn: 0.0021610\ttest: 0.0021610\tbest: 0.0021610 (305)\ttotal: 2m 25s\tremaining: 4m 4s\n",
            "373:\tlearn: 0.0021610\ttest: 0.0021610\tbest: 0.0021610 (305)\ttotal: 2m 25s\tremaining: 4m 4s\n",
            "374:\tlearn: 0.0021610\ttest: 0.0021610\tbest: 0.0021610 (305)\ttotal: 2m 26s\tremaining: 4m 3s\n",
            "375:\tlearn: 0.0021610\ttest: 0.0021610\tbest: 0.0021610 (305)\ttotal: 2m 26s\tremaining: 4m 3s\n",
            "376:\tlearn: 0.0021610\ttest: 0.0021610\tbest: 0.0021610 (305)\ttotal: 2m 27s\tremaining: 4m 3s\n",
            "377:\tlearn: 0.0021610\ttest: 0.0021610\tbest: 0.0021610 (305)\ttotal: 2m 27s\tremaining: 4m 2s\n",
            "378:\tlearn: 0.0021610\ttest: 0.0021610\tbest: 0.0021610 (305)\ttotal: 2m 27s\tremaining: 4m 2s\n",
            "379:\tlearn: 0.0021610\ttest: 0.0021610\tbest: 0.0021610 (305)\ttotal: 2m 28s\tremaining: 4m 1s\n",
            "380:\tlearn: 0.0021610\ttest: 0.0021610\tbest: 0.0021610 (305)\ttotal: 2m 28s\tremaining: 4m 1s\n",
            "381:\tlearn: 0.0021610\ttest: 0.0021610\tbest: 0.0021610 (305)\ttotal: 2m 29s\tremaining: 4m 1s\n",
            "382:\tlearn: 0.0021610\ttest: 0.0021610\tbest: 0.0021610 (305)\ttotal: 2m 29s\tremaining: 4m\n",
            "383:\tlearn: 0.0021610\ttest: 0.0021610\tbest: 0.0021610 (305)\ttotal: 2m 29s\tremaining: 4m\n",
            "384:\tlearn: 0.0021610\ttest: 0.0021610\tbest: 0.0021610 (305)\ttotal: 2m 30s\tremaining: 3m 59s\n",
            "385:\tlearn: 0.0021610\ttest: 0.0021610\tbest: 0.0021610 (305)\ttotal: 2m 30s\tremaining: 3m 59s\n",
            "386:\tlearn: 0.0021610\ttest: 0.0021610\tbest: 0.0021610 (305)\ttotal: 2m 30s\tremaining: 3m 59s\n",
            "387:\tlearn: 0.0021610\ttest: 0.0021610\tbest: 0.0021610 (305)\ttotal: 2m 31s\tremaining: 3m 58s\n",
            "388:\tlearn: 0.0021610\ttest: 0.0021610\tbest: 0.0021610 (305)\ttotal: 2m 31s\tremaining: 3m 58s\n",
            "389:\tlearn: 0.0021610\ttest: 0.0021610\tbest: 0.0021610 (305)\ttotal: 2m 32s\tremaining: 3m 57s\n",
            "390:\tlearn: 0.0021610\ttest: 0.0021610\tbest: 0.0021610 (305)\ttotal: 2m 32s\tremaining: 3m 57s\n",
            "391:\tlearn: 0.0021610\ttest: 0.0021610\tbest: 0.0021610 (305)\ttotal: 2m 32s\tremaining: 3m 57s\n",
            "392:\tlearn: 0.0021610\ttest: 0.0021610\tbest: 0.0021610 (305)\ttotal: 2m 33s\tremaining: 3m 56s\n",
            "393:\tlearn: 0.0021610\ttest: 0.0021610\tbest: 0.0021610 (305)\ttotal: 2m 33s\tremaining: 3m 56s\n",
            "394:\tlearn: 0.0021610\ttest: 0.0021610\tbest: 0.0021610 (305)\ttotal: 2m 33s\tremaining: 3m 55s\n",
            "395:\tlearn: 0.0021610\ttest: 0.0021610\tbest: 0.0021610 (305)\ttotal: 2m 34s\tremaining: 3m 55s\n",
            "396:\tlearn: 0.0021610\ttest: 0.0021610\tbest: 0.0021610 (305)\ttotal: 2m 34s\tremaining: 3m 55s\n",
            "397:\tlearn: 0.0021610\ttest: 0.0021610\tbest: 0.0021610 (305)\ttotal: 2m 35s\tremaining: 3m 54s\n",
            "398:\tlearn: 0.0021610\ttest: 0.0021610\tbest: 0.0021610 (305)\ttotal: 2m 35s\tremaining: 3m 54s\n",
            "399:\tlearn: 0.0021610\ttest: 0.0021610\tbest: 0.0021610 (305)\ttotal: 2m 35s\tremaining: 3m 53s\n",
            "400:\tlearn: 0.0021610\ttest: 0.0021610\tbest: 0.0021610 (305)\ttotal: 2m 36s\tremaining: 3m 53s\n",
            "401:\tlearn: 0.0021610\ttest: 0.0021610\tbest: 0.0021610 (305)\ttotal: 2m 36s\tremaining: 3m 52s\n",
            "402:\tlearn: 0.0021610\ttest: 0.0021610\tbest: 0.0021610 (305)\ttotal: 2m 36s\tremaining: 3m 52s\n",
            "403:\tlearn: 0.0021610\ttest: 0.0021610\tbest: 0.0021610 (305)\ttotal: 2m 37s\tremaining: 3m 52s\n",
            "404:\tlearn: 0.0021610\ttest: 0.0021610\tbest: 0.0021610 (305)\ttotal: 2m 37s\tremaining: 3m 51s\n",
            "405:\tlearn: 0.0021610\ttest: 0.0021610\tbest: 0.0021610 (305)\ttotal: 2m 38s\tremaining: 3m 51s\n",
            "406:\tlearn: 0.0021610\ttest: 0.0021610\tbest: 0.0021610 (305)\ttotal: 2m 38s\tremaining: 3m 50s\n",
            "407:\tlearn: 0.0021610\ttest: 0.0021610\tbest: 0.0021610 (305)\ttotal: 2m 38s\tremaining: 3m 50s\n",
            "408:\tlearn: 0.0021610\ttest: 0.0021610\tbest: 0.0021610 (305)\ttotal: 2m 39s\tremaining: 3m 50s\n",
            "409:\tlearn: 0.0021610\ttest: 0.0021610\tbest: 0.0021610 (305)\ttotal: 2m 39s\tremaining: 3m 49s\n",
            "410:\tlearn: 0.0021610\ttest: 0.0021610\tbest: 0.0021610 (305)\ttotal: 2m 39s\tremaining: 3m 49s\n",
            "411:\tlearn: 0.0021610\ttest: 0.0021610\tbest: 0.0021610 (305)\ttotal: 2m 40s\tremaining: 3m 48s\n",
            "412:\tlearn: 0.0021610\ttest: 0.0021610\tbest: 0.0021610 (305)\ttotal: 2m 40s\tremaining: 3m 48s\n",
            "413:\tlearn: 0.0021610\ttest: 0.0021610\tbest: 0.0021610 (305)\ttotal: 2m 41s\tremaining: 3m 48s\n",
            "414:\tlearn: 0.0021610\ttest: 0.0021610\tbest: 0.0021610 (305)\ttotal: 2m 41s\tremaining: 3m 47s\n",
            "415:\tlearn: 0.0021610\ttest: 0.0021610\tbest: 0.0021610 (305)\ttotal: 2m 41s\tremaining: 3m 47s\n",
            "416:\tlearn: 0.0021610\ttest: 0.0021610\tbest: 0.0021610 (305)\ttotal: 2m 42s\tremaining: 3m 46s\n",
            "417:\tlearn: 0.0021610\ttest: 0.0021610\tbest: 0.0021610 (305)\ttotal: 2m 42s\tremaining: 3m 46s\n",
            "418:\tlearn: 0.0021610\ttest: 0.0021610\tbest: 0.0021610 (305)\ttotal: 2m 43s\tremaining: 3m 46s\n",
            "419:\tlearn: 0.0021610\ttest: 0.0021610\tbest: 0.0021610 (305)\ttotal: 2m 43s\tremaining: 3m 45s\n",
            "420:\tlearn: 0.0021610\ttest: 0.0021610\tbest: 0.0021610 (305)\ttotal: 2m 43s\tremaining: 3m 45s\n",
            "421:\tlearn: 0.0021610\ttest: 0.0021610\tbest: 0.0021610 (305)\ttotal: 2m 44s\tremaining: 3m 44s\n",
            "422:\tlearn: 0.0021610\ttest: 0.0021610\tbest: 0.0021610 (305)\ttotal: 2m 44s\tremaining: 3m 44s\n",
            "423:\tlearn: 0.0021610\ttest: 0.0021610\tbest: 0.0021610 (305)\ttotal: 2m 44s\tremaining: 3m 44s\n",
            "424:\tlearn: 0.0021610\ttest: 0.0021610\tbest: 0.0021610 (305)\ttotal: 2m 45s\tremaining: 3m 43s\n",
            "425:\tlearn: 0.0021610\ttest: 0.0021610\tbest: 0.0021610 (305)\ttotal: 2m 45s\tremaining: 3m 43s\n",
            "426:\tlearn: 0.0021610\ttest: 0.0021610\tbest: 0.0021610 (305)\ttotal: 2m 46s\tremaining: 3m 42s\n",
            "427:\tlearn: 0.0021610\ttest: 0.0021610\tbest: 0.0021610 (305)\ttotal: 2m 46s\tremaining: 3m 42s\n",
            "428:\tlearn: 0.0021610\ttest: 0.0021610\tbest: 0.0021610 (305)\ttotal: 2m 46s\tremaining: 3m 42s\n",
            "429:\tlearn: 0.0021610\ttest: 0.0021610\tbest: 0.0021610 (305)\ttotal: 2m 47s\tremaining: 3m 41s\n",
            "430:\tlearn: 0.0021610\ttest: 0.0021610\tbest: 0.0021610 (305)\ttotal: 2m 47s\tremaining: 3m 41s\n",
            "431:\tlearn: 0.0021610\ttest: 0.0021610\tbest: 0.0021610 (305)\ttotal: 2m 47s\tremaining: 3m 40s\n",
            "432:\tlearn: 0.0021610\ttest: 0.0021610\tbest: 0.0021610 (305)\ttotal: 2m 48s\tremaining: 3m 40s\n",
            "433:\tlearn: 0.0021610\ttest: 0.0021610\tbest: 0.0021610 (305)\ttotal: 2m 48s\tremaining: 3m 39s\n",
            "434:\tlearn: 0.0021610\ttest: 0.0021610\tbest: 0.0021610 (305)\ttotal: 2m 49s\tremaining: 3m 39s\n",
            "435:\tlearn: 0.0021610\ttest: 0.0021610\tbest: 0.0021610 (305)\ttotal: 2m 49s\tremaining: 3m 39s\n",
            "436:\tlearn: 0.0021610\ttest: 0.0021610\tbest: 0.0021610 (305)\ttotal: 2m 49s\tremaining: 3m 38s\n",
            "437:\tlearn: 0.0021610\ttest: 0.0021610\tbest: 0.0021610 (305)\ttotal: 2m 50s\tremaining: 3m 38s\n",
            "438:\tlearn: 0.0021610\ttest: 0.0021610\tbest: 0.0021610 (305)\ttotal: 2m 50s\tremaining: 3m 38s\n",
            "439:\tlearn: 0.0021610\ttest: 0.0021610\tbest: 0.0021610 (305)\ttotal: 2m 50s\tremaining: 3m 37s\n",
            "440:\tlearn: 0.0021610\ttest: 0.0021610\tbest: 0.0021610 (305)\ttotal: 2m 51s\tremaining: 3m 37s\n",
            "441:\tlearn: 0.0021610\ttest: 0.0021610\tbest: 0.0021610 (305)\ttotal: 2m 51s\tremaining: 3m 36s\n",
            "442:\tlearn: 0.0021610\ttest: 0.0021610\tbest: 0.0021610 (305)\ttotal: 2m 52s\tremaining: 3m 36s\n",
            "443:\tlearn: 0.0021610\ttest: 0.0021610\tbest: 0.0021610 (305)\ttotal: 2m 52s\tremaining: 3m 35s\n",
            "444:\tlearn: 0.0021610\ttest: 0.0021610\tbest: 0.0021610 (305)\ttotal: 2m 52s\tremaining: 3m 35s\n",
            "445:\tlearn: 0.0021516\ttest: 0.0021516\tbest: 0.0021516 (445)\ttotal: 2m 53s\tremaining: 3m 35s\n",
            "446:\tlearn: 0.0021516\ttest: 0.0021516\tbest: 0.0021516 (446)\ttotal: 2m 53s\tremaining: 3m 34s\n",
            "447:\tlearn: 0.0021516\ttest: 0.0021516\tbest: 0.0021516 (447)\ttotal: 2m 54s\tremaining: 3m 34s\n",
            "448:\tlearn: 0.0021516\ttest: 0.0021516\tbest: 0.0021516 (448)\ttotal: 2m 54s\tremaining: 3m 34s\n",
            "449:\tlearn: 0.0021515\ttest: 0.0021515\tbest: 0.0021515 (449)\ttotal: 2m 54s\tremaining: 3m 33s\n",
            "450:\tlearn: 0.0021515\ttest: 0.0021515\tbest: 0.0021515 (450)\ttotal: 2m 55s\tremaining: 3m 33s\n",
            "451:\tlearn: 0.0021515\ttest: 0.0021515\tbest: 0.0021515 (451)\ttotal: 2m 55s\tremaining: 3m 32s\n",
            "452:\tlearn: 0.0021515\ttest: 0.0021515\tbest: 0.0021515 (452)\ttotal: 2m 55s\tremaining: 3m 32s\n",
            "453:\tlearn: 0.0021515\ttest: 0.0021515\tbest: 0.0021515 (453)\ttotal: 2m 56s\tremaining: 3m 32s\n",
            "454:\tlearn: 0.0021515\ttest: 0.0021515\tbest: 0.0021515 (454)\ttotal: 2m 56s\tremaining: 3m 31s\n",
            "455:\tlearn: 0.0021515\ttest: 0.0021515\tbest: 0.0021515 (455)\ttotal: 2m 57s\tremaining: 3m 31s\n",
            "456:\tlearn: 0.0021515\ttest: 0.0021515\tbest: 0.0021515 (455)\ttotal: 2m 57s\tremaining: 3m 30s\n",
            "457:\tlearn: 0.0021515\ttest: 0.0021515\tbest: 0.0021515 (455)\ttotal: 2m 57s\tremaining: 3m 30s\n",
            "458:\tlearn: 0.0021515\ttest: 0.0021515\tbest: 0.0021515 (455)\ttotal: 2m 58s\tremaining: 3m 30s\n",
            "459:\tlearn: 0.0021515\ttest: 0.0021515\tbest: 0.0021515 (455)\ttotal: 2m 58s\tremaining: 3m 29s\n",
            "460:\tlearn: 0.0021515\ttest: 0.0021515\tbest: 0.0021515 (455)\ttotal: 2m 59s\tremaining: 3m 29s\n",
            "461:\tlearn: 0.0021515\ttest: 0.0021515\tbest: 0.0021515 (455)\ttotal: 2m 59s\tremaining: 3m 29s\n",
            "462:\tlearn: 0.0021515\ttest: 0.0021515\tbest: 0.0021515 (455)\ttotal: 2m 59s\tremaining: 3m 28s\n",
            "463:\tlearn: 0.0021515\ttest: 0.0021515\tbest: 0.0021515 (455)\ttotal: 3m\tremaining: 3m 28s\n",
            "464:\tlearn: 0.0021515\ttest: 0.0021515\tbest: 0.0021515 (455)\ttotal: 3m\tremaining: 3m 27s\n",
            "465:\tlearn: 0.0021515\ttest: 0.0021515\tbest: 0.0021515 (455)\ttotal: 3m 1s\tremaining: 3m 27s\n",
            "466:\tlearn: 0.0021515\ttest: 0.0021515\tbest: 0.0021515 (455)\ttotal: 3m 1s\tremaining: 3m 27s\n",
            "467:\tlearn: 0.0021515\ttest: 0.0021515\tbest: 0.0021515 (455)\ttotal: 3m 1s\tremaining: 3m 26s\n",
            "468:\tlearn: 0.0021515\ttest: 0.0021515\tbest: 0.0021515 (455)\ttotal: 3m 2s\tremaining: 3m 26s\n",
            "469:\tlearn: 0.0021515\ttest: 0.0021515\tbest: 0.0021515 (469)\ttotal: 3m 2s\tremaining: 3m 25s\n",
            "470:\tlearn: 0.0021515\ttest: 0.0021515\tbest: 0.0021515 (470)\ttotal: 3m 3s\tremaining: 3m 25s\n",
            "471:\tlearn: 0.0021514\ttest: 0.0021514\tbest: 0.0021514 (471)\ttotal: 3m 3s\tremaining: 3m 25s\n",
            "472:\tlearn: 0.0021514\ttest: 0.0021514\tbest: 0.0021514 (472)\ttotal: 3m 3s\tremaining: 3m 24s\n",
            "473:\tlearn: 0.0021514\ttest: 0.0021514\tbest: 0.0021514 (473)\ttotal: 3m 4s\tremaining: 3m 24s\n",
            "474:\tlearn: 0.0021514\ttest: 0.0021514\tbest: 0.0021514 (474)\ttotal: 3m 4s\tremaining: 3m 23s\n",
            "475:\tlearn: 0.0021514\ttest: 0.0021514\tbest: 0.0021514 (475)\ttotal: 3m 4s\tremaining: 3m 23s\n",
            "476:\tlearn: 0.0021514\ttest: 0.0021514\tbest: 0.0021514 (476)\ttotal: 3m 5s\tremaining: 3m 23s\n",
            "477:\tlearn: 0.0021514\ttest: 0.0021514\tbest: 0.0021514 (477)\ttotal: 3m 5s\tremaining: 3m 22s\n",
            "478:\tlearn: 0.0021514\ttest: 0.0021514\tbest: 0.0021514 (478)\ttotal: 3m 6s\tremaining: 3m 22s\n",
            "479:\tlearn: 0.0021514\ttest: 0.0021514\tbest: 0.0021514 (479)\ttotal: 3m 6s\tremaining: 3m 22s\n",
            "480:\tlearn: 0.0021514\ttest: 0.0021514\tbest: 0.0021514 (480)\ttotal: 3m 6s\tremaining: 3m 21s\n",
            "481:\tlearn: 0.0021513\ttest: 0.0021513\tbest: 0.0021513 (481)\ttotal: 3m 7s\tremaining: 3m 21s\n",
            "482:\tlearn: 0.0021513\ttest: 0.0021513\tbest: 0.0021513 (482)\ttotal: 3m 7s\tremaining: 3m 20s\n",
            "483:\tlearn: 0.0021513\ttest: 0.0021513\tbest: 0.0021513 (483)\ttotal: 3m 8s\tremaining: 3m 20s\n",
            "484:\tlearn: 0.0021513\ttest: 0.0021513\tbest: 0.0021513 (484)\ttotal: 3m 8s\tremaining: 3m 20s\n",
            "485:\tlearn: 0.0021513\ttest: 0.0021513\tbest: 0.0021513 (485)\ttotal: 3m 8s\tremaining: 3m 19s\n",
            "486:\tlearn: 0.0021513\ttest: 0.0021513\tbest: 0.0021513 (485)\ttotal: 3m 9s\tremaining: 3m 19s\n",
            "487:\tlearn: 0.0021513\ttest: 0.0021513\tbest: 0.0021513 (487)\ttotal: 3m 9s\tremaining: 3m 18s\n",
            "488:\tlearn: 0.0021513\ttest: 0.0021513\tbest: 0.0021513 (488)\ttotal: 3m 9s\tremaining: 3m 18s\n",
            "489:\tlearn: 0.0021513\ttest: 0.0021513\tbest: 0.0021513 (489)\ttotal: 3m 10s\tremaining: 3m 18s\n",
            "490:\tlearn: 0.0021513\ttest: 0.0021513\tbest: 0.0021513 (489)\ttotal: 3m 10s\tremaining: 3m 17s\n",
            "491:\tlearn: 0.0021513\ttest: 0.0021513\tbest: 0.0021513 (489)\ttotal: 3m 11s\tremaining: 3m 17s\n",
            "492:\tlearn: 0.0021513\ttest: 0.0021513\tbest: 0.0021513 (492)\ttotal: 3m 11s\tremaining: 3m 16s\n",
            "493:\tlearn: 0.0021513\ttest: 0.0021513\tbest: 0.0021513 (492)\ttotal: 3m 11s\tremaining: 3m 16s\n",
            "494:\tlearn: 0.0021513\ttest: 0.0021513\tbest: 0.0021513 (494)\ttotal: 3m 12s\tremaining: 3m 16s\n",
            "495:\tlearn: 0.0021513\ttest: 0.0021513\tbest: 0.0021513 (494)\ttotal: 3m 12s\tremaining: 3m 15s\n",
            "496:\tlearn: 0.0021513\ttest: 0.0021513\tbest: 0.0021513 (494)\ttotal: 3m 13s\tremaining: 3m 15s\n",
            "497:\tlearn: 0.0021513\ttest: 0.0021513\tbest: 0.0021513 (494)\ttotal: 3m 13s\tremaining: 3m 14s\n",
            "498:\tlearn: 0.0021272\ttest: 0.0021272\tbest: 0.0021272 (498)\ttotal: 3m 13s\tremaining: 3m 14s\n",
            "499:\tlearn: 0.0021269\ttest: 0.0021269\tbest: 0.0021269 (499)\ttotal: 3m 14s\tremaining: 3m 14s\n",
            "500:\tlearn: 0.0021156\ttest: 0.0021156\tbest: 0.0021156 (500)\ttotal: 3m 14s\tremaining: 3m 13s\n",
            "501:\tlearn: 0.0021156\ttest: 0.0021156\tbest: 0.0021156 (501)\ttotal: 3m 14s\tremaining: 3m 13s\n",
            "502:\tlearn: 0.0021156\ttest: 0.0021156\tbest: 0.0021156 (502)\ttotal: 3m 15s\tremaining: 3m 13s\n",
            "503:\tlearn: 0.0021156\ttest: 0.0021156\tbest: 0.0021156 (503)\ttotal: 3m 15s\tremaining: 3m 12s\n",
            "504:\tlearn: 0.0021156\ttest: 0.0021156\tbest: 0.0021156 (504)\ttotal: 3m 16s\tremaining: 3m 12s\n",
            "505:\tlearn: 0.0021155\ttest: 0.0021155\tbest: 0.0021155 (505)\ttotal: 3m 16s\tremaining: 3m 11s\n",
            "506:\tlearn: 0.0021155\ttest: 0.0021155\tbest: 0.0021155 (505)\ttotal: 3m 16s\tremaining: 3m 11s\n",
            "507:\tlearn: 0.0021155\ttest: 0.0021155\tbest: 0.0021155 (505)\ttotal: 3m 17s\tremaining: 3m 11s\n",
            "508:\tlearn: 0.0021155\ttest: 0.0021155\tbest: 0.0021155 (505)\ttotal: 3m 17s\tremaining: 3m 10s\n",
            "509:\tlearn: 0.0021155\ttest: 0.0021155\tbest: 0.0021155 (505)\ttotal: 3m 18s\tremaining: 3m 10s\n",
            "510:\tlearn: 0.0021155\ttest: 0.0021155\tbest: 0.0021155 (505)\ttotal: 3m 18s\tremaining: 3m 9s\n",
            "511:\tlearn: 0.0021155\ttest: 0.0021155\tbest: 0.0021155 (505)\ttotal: 3m 18s\tremaining: 3m 9s\n",
            "512:\tlearn: 0.0021155\ttest: 0.0021155\tbest: 0.0021155 (505)\ttotal: 3m 19s\tremaining: 3m 9s\n",
            "513:\tlearn: 0.0021155\ttest: 0.0021155\tbest: 0.0021155 (505)\ttotal: 3m 19s\tremaining: 3m 8s\n",
            "514:\tlearn: 0.0021155\ttest: 0.0021155\tbest: 0.0021155 (505)\ttotal: 3m 19s\tremaining: 3m 8s\n",
            "515:\tlearn: 0.0021155\ttest: 0.0021155\tbest: 0.0021155 (505)\ttotal: 3m 20s\tremaining: 3m 7s\n",
            "516:\tlearn: 0.0021155\ttest: 0.0021155\tbest: 0.0021155 (505)\ttotal: 3m 20s\tremaining: 3m 7s\n",
            "517:\tlearn: 0.0021155\ttest: 0.0021155\tbest: 0.0021155 (505)\ttotal: 3m 21s\tremaining: 3m 7s\n",
            "518:\tlearn: 0.0021155\ttest: 0.0021155\tbest: 0.0021155 (505)\ttotal: 3m 21s\tremaining: 3m 6s\n",
            "519:\tlearn: 0.0021155\ttest: 0.0021155\tbest: 0.0021155 (505)\ttotal: 3m 21s\tremaining: 3m 6s\n",
            "520:\tlearn: 0.0021155\ttest: 0.0021155\tbest: 0.0021155 (505)\ttotal: 3m 22s\tremaining: 3m 5s\n",
            "521:\tlearn: 0.0021155\ttest: 0.0021155\tbest: 0.0021155 (505)\ttotal: 3m 22s\tremaining: 3m 5s\n",
            "522:\tlearn: 0.0021155\ttest: 0.0021155\tbest: 0.0021155 (505)\ttotal: 3m 23s\tremaining: 3m 5s\n",
            "523:\tlearn: 0.0021155\ttest: 0.0021155\tbest: 0.0021155 (505)\ttotal: 3m 23s\tremaining: 3m 4s\n",
            "524:\tlearn: 0.0021155\ttest: 0.0021155\tbest: 0.0021155 (505)\ttotal: 3m 23s\tremaining: 3m 4s\n",
            "525:\tlearn: 0.0021155\ttest: 0.0021155\tbest: 0.0021155 (505)\ttotal: 3m 24s\tremaining: 3m 3s\n",
            "526:\tlearn: 0.0021155\ttest: 0.0021155\tbest: 0.0021155 (505)\ttotal: 3m 24s\tremaining: 3m 3s\n",
            "527:\tlearn: 0.0021155\ttest: 0.0021155\tbest: 0.0021155 (505)\ttotal: 3m 24s\tremaining: 3m 3s\n",
            "528:\tlearn: 0.0021155\ttest: 0.0021155\tbest: 0.0021155 (505)\ttotal: 3m 25s\tremaining: 3m 2s\n",
            "529:\tlearn: 0.0021155\ttest: 0.0021155\tbest: 0.0021155 (505)\ttotal: 3m 25s\tremaining: 3m 2s\n",
            "530:\tlearn: 0.0021155\ttest: 0.0021155\tbest: 0.0021155 (505)\ttotal: 3m 26s\tremaining: 3m 2s\n",
            "531:\tlearn: 0.0021155\ttest: 0.0021155\tbest: 0.0021155 (505)\ttotal: 3m 26s\tremaining: 3m 1s\n",
            "532:\tlearn: 0.0021155\ttest: 0.0021155\tbest: 0.0021155 (505)\ttotal: 3m 26s\tremaining: 3m 1s\n",
            "533:\tlearn: 0.0021155\ttest: 0.0021155\tbest: 0.0021155 (505)\ttotal: 3m 27s\tremaining: 3m\n",
            "534:\tlearn: 0.0021155\ttest: 0.0021155\tbest: 0.0021155 (505)\ttotal: 3m 27s\tremaining: 3m\n",
            "535:\tlearn: 0.0021155\ttest: 0.0021155\tbest: 0.0021155 (505)\ttotal: 3m 28s\tremaining: 3m\n",
            "536:\tlearn: 0.0021155\ttest: 0.0021155\tbest: 0.0021155 (505)\ttotal: 3m 28s\tremaining: 2m 59s\n",
            "537:\tlearn: 0.0021155\ttest: 0.0021155\tbest: 0.0021155 (505)\ttotal: 3m 28s\tremaining: 2m 59s\n",
            "538:\tlearn: 0.0021155\ttest: 0.0021155\tbest: 0.0021155 (505)\ttotal: 3m 29s\tremaining: 2m 58s\n",
            "539:\tlearn: 0.0021155\ttest: 0.0021155\tbest: 0.0021155 (505)\ttotal: 3m 29s\tremaining: 2m 58s\n",
            "540:\tlearn: 0.0021155\ttest: 0.0021155\tbest: 0.0021155 (505)\ttotal: 3m 30s\tremaining: 2m 58s\n",
            "541:\tlearn: 0.0021155\ttest: 0.0021155\tbest: 0.0021155 (505)\ttotal: 3m 30s\tremaining: 2m 57s\n",
            "542:\tlearn: 0.0021155\ttest: 0.0021155\tbest: 0.0021155 (505)\ttotal: 3m 30s\tremaining: 2m 57s\n",
            "543:\tlearn: 0.0021155\ttest: 0.0021155\tbest: 0.0021155 (505)\ttotal: 3m 31s\tremaining: 2m 57s\n",
            "544:\tlearn: 0.0021155\ttest: 0.0021155\tbest: 0.0021155 (505)\ttotal: 3m 31s\tremaining: 2m 56s\n",
            "545:\tlearn: 0.0021155\ttest: 0.0021155\tbest: 0.0021155 (505)\ttotal: 3m 31s\tremaining: 2m 56s\n",
            "546:\tlearn: 0.0021155\ttest: 0.0021155\tbest: 0.0021155 (505)\ttotal: 3m 32s\tremaining: 2m 55s\n",
            "547:\tlearn: 0.0021155\ttest: 0.0021155\tbest: 0.0021155 (505)\ttotal: 3m 32s\tremaining: 2m 55s\n",
            "548:\tlearn: 0.0021155\ttest: 0.0021155\tbest: 0.0021155 (505)\ttotal: 3m 33s\tremaining: 2m 55s\n",
            "549:\tlearn: 0.0021155\ttest: 0.0021155\tbest: 0.0021155 (505)\ttotal: 3m 33s\tremaining: 2m 54s\n",
            "550:\tlearn: 0.0021155\ttest: 0.0021155\tbest: 0.0021155 (505)\ttotal: 3m 33s\tremaining: 2m 54s\n",
            "551:\tlearn: 0.0021155\ttest: 0.0021155\tbest: 0.0021155 (505)\ttotal: 3m 34s\tremaining: 2m 53s\n",
            "552:\tlearn: 0.0021155\ttest: 0.0021155\tbest: 0.0021155 (505)\ttotal: 3m 34s\tremaining: 2m 53s\n",
            "553:\tlearn: 0.0021155\ttest: 0.0021155\tbest: 0.0021155 (505)\ttotal: 3m 35s\tremaining: 2m 53s\n",
            "554:\tlearn: 0.0021155\ttest: 0.0021155\tbest: 0.0021155 (505)\ttotal: 3m 35s\tremaining: 2m 52s\n",
            "555:\tlearn: 0.0021155\ttest: 0.0021155\tbest: 0.0021155 (505)\ttotal: 3m 35s\tremaining: 2m 52s\n",
            "556:\tlearn: 0.0021155\ttest: 0.0021155\tbest: 0.0021155 (505)\ttotal: 3m 36s\tremaining: 2m 51s\n",
            "557:\tlearn: 0.0021155\ttest: 0.0021155\tbest: 0.0021155 (505)\ttotal: 3m 36s\tremaining: 2m 51s\n",
            "558:\tlearn: 0.0021155\ttest: 0.0021155\tbest: 0.0021155 (505)\ttotal: 3m 36s\tremaining: 2m 51s\n",
            "559:\tlearn: 0.0021155\ttest: 0.0021155\tbest: 0.0021155 (505)\ttotal: 3m 37s\tremaining: 2m 50s\n",
            "560:\tlearn: 0.0021155\ttest: 0.0021155\tbest: 0.0021155 (505)\ttotal: 3m 37s\tremaining: 2m 50s\n",
            "561:\tlearn: 0.0021155\ttest: 0.0021155\tbest: 0.0021155 (505)\ttotal: 3m 38s\tremaining: 2m 49s\n",
            "562:\tlearn: 0.0021155\ttest: 0.0021155\tbest: 0.0021155 (505)\ttotal: 3m 38s\tremaining: 2m 49s\n",
            "563:\tlearn: 0.0021155\ttest: 0.0021155\tbest: 0.0021155 (505)\ttotal: 3m 38s\tremaining: 2m 49s\n",
            "564:\tlearn: 0.0021155\ttest: 0.0021155\tbest: 0.0021155 (505)\ttotal: 3m 39s\tremaining: 2m 48s\n",
            "565:\tlearn: 0.0021155\ttest: 0.0021155\tbest: 0.0021155 (505)\ttotal: 3m 39s\tremaining: 2m 48s\n",
            "566:\tlearn: 0.0021155\ttest: 0.0021155\tbest: 0.0021155 (505)\ttotal: 3m 39s\tremaining: 2m 47s\n",
            "567:\tlearn: 0.0021155\ttest: 0.0021155\tbest: 0.0021155 (505)\ttotal: 3m 40s\tremaining: 2m 47s\n",
            "568:\tlearn: 0.0021155\ttest: 0.0021155\tbest: 0.0021155 (505)\ttotal: 3m 40s\tremaining: 2m 47s\n",
            "569:\tlearn: 0.0021155\ttest: 0.0021155\tbest: 0.0021155 (505)\ttotal: 3m 41s\tremaining: 2m 46s\n",
            "570:\tlearn: 0.0021155\ttest: 0.0021155\tbest: 0.0021155 (505)\ttotal: 3m 41s\tremaining: 2m 46s\n",
            "571:\tlearn: 0.0020888\ttest: 0.0020888\tbest: 0.0020888 (571)\ttotal: 3m 41s\tremaining: 2m 46s\n",
            "572:\tlearn: 0.0020529\ttest: 0.0020529\tbest: 0.0020529 (572)\ttotal: 3m 42s\tremaining: 2m 45s\n",
            "573:\tlearn: 0.0020353\ttest: 0.0020353\tbest: 0.0020353 (573)\ttotal: 3m 42s\tremaining: 2m 45s\n",
            "574:\tlearn: 0.0020115\ttest: 0.0020115\tbest: 0.0020115 (574)\ttotal: 3m 43s\tremaining: 2m 44s\n",
            "575:\tlearn: 0.0020115\ttest: 0.0020115\tbest: 0.0020115 (574)\ttotal: 3m 43s\tremaining: 2m 44s\n",
            "576:\tlearn: 0.0020115\ttest: 0.0020115\tbest: 0.0020115 (576)\ttotal: 3m 43s\tremaining: 2m 44s\n",
            "577:\tlearn: 0.0019970\ttest: 0.0019970\tbest: 0.0019970 (577)\ttotal: 3m 44s\tremaining: 2m 43s\n",
            "578:\tlearn: 0.0019970\ttest: 0.0019970\tbest: 0.0019970 (578)\ttotal: 3m 44s\tremaining: 2m 43s\n",
            "579:\tlearn: 0.0019796\ttest: 0.0019796\tbest: 0.0019796 (579)\ttotal: 3m 45s\tremaining: 2m 42s\n",
            "580:\tlearn: 0.0019733\ttest: 0.0019733\tbest: 0.0019733 (580)\ttotal: 3m 45s\tremaining: 2m 42s\n",
            "581:\tlearn: 0.0019733\ttest: 0.0019733\tbest: 0.0019733 (581)\ttotal: 3m 45s\tremaining: 2m 42s\n",
            "582:\tlearn: 0.0019733\ttest: 0.0019733\tbest: 0.0019733 (581)\ttotal: 3m 46s\tremaining: 2m 41s\n",
            "583:\tlearn: 0.0019733\ttest: 0.0019733\tbest: 0.0019733 (583)\ttotal: 3m 46s\tremaining: 2m 41s\n",
            "584:\tlearn: 0.0019733\ttest: 0.0019733\tbest: 0.0019733 (584)\ttotal: 3m 46s\tremaining: 2m 40s\n",
            "585:\tlearn: 0.0019733\ttest: 0.0019733\tbest: 0.0019733 (584)\ttotal: 3m 47s\tremaining: 2m 40s\n",
            "586:\tlearn: 0.0019733\ttest: 0.0019733\tbest: 0.0019733 (584)\ttotal: 3m 47s\tremaining: 2m 40s\n",
            "587:\tlearn: 0.0019733\ttest: 0.0019733\tbest: 0.0019733 (584)\ttotal: 3m 48s\tremaining: 2m 39s\n",
            "588:\tlearn: 0.0019733\ttest: 0.0019733\tbest: 0.0019733 (584)\ttotal: 3m 48s\tremaining: 2m 39s\n",
            "589:\tlearn: 0.0019733\ttest: 0.0019733\tbest: 0.0019733 (584)\ttotal: 3m 48s\tremaining: 2m 39s\n",
            "590:\tlearn: 0.0019733\ttest: 0.0019733\tbest: 0.0019733 (584)\ttotal: 3m 49s\tremaining: 2m 38s\n",
            "591:\tlearn: 0.0019733\ttest: 0.0019733\tbest: 0.0019733 (584)\ttotal: 3m 49s\tremaining: 2m 38s\n",
            "592:\tlearn: 0.0019733\ttest: 0.0019733\tbest: 0.0019733 (584)\ttotal: 3m 50s\tremaining: 2m 37s\n",
            "593:\tlearn: 0.0019733\ttest: 0.0019733\tbest: 0.0019733 (584)\ttotal: 3m 50s\tremaining: 2m 37s\n",
            "594:\tlearn: 0.0019733\ttest: 0.0019733\tbest: 0.0019733 (584)\ttotal: 3m 50s\tremaining: 2m 37s\n",
            "595:\tlearn: 0.0019733\ttest: 0.0019733\tbest: 0.0019733 (584)\ttotal: 3m 51s\tremaining: 2m 36s\n",
            "596:\tlearn: 0.0019733\ttest: 0.0019733\tbest: 0.0019733 (584)\ttotal: 3m 51s\tremaining: 2m 36s\n",
            "597:\tlearn: 0.0019733\ttest: 0.0019733\tbest: 0.0019733 (584)\ttotal: 3m 51s\tremaining: 2m 35s\n",
            "598:\tlearn: 0.0019733\ttest: 0.0019733\tbest: 0.0019733 (584)\ttotal: 3m 52s\tremaining: 2m 35s\n",
            "599:\tlearn: 0.0019733\ttest: 0.0019733\tbest: 0.0019733 (584)\ttotal: 3m 52s\tremaining: 2m 35s\n",
            "600:\tlearn: 0.0019733\ttest: 0.0019733\tbest: 0.0019733 (584)\ttotal: 3m 53s\tremaining: 2m 34s\n",
            "601:\tlearn: 0.0019733\ttest: 0.0019733\tbest: 0.0019733 (584)\ttotal: 3m 53s\tremaining: 2m 34s\n",
            "602:\tlearn: 0.0019733\ttest: 0.0019733\tbest: 0.0019733 (584)\ttotal: 3m 53s\tremaining: 2m 33s\n",
            "603:\tlearn: 0.0019733\ttest: 0.0019733\tbest: 0.0019733 (584)\ttotal: 3m 54s\tremaining: 2m 33s\n",
            "604:\tlearn: 0.0019733\ttest: 0.0019733\tbest: 0.0019733 (584)\ttotal: 3m 54s\tremaining: 2m 33s\n",
            "605:\tlearn: 0.0019733\ttest: 0.0019733\tbest: 0.0019733 (584)\ttotal: 3m 55s\tremaining: 2m 32s\n",
            "606:\tlearn: 0.0019733\ttest: 0.0019733\tbest: 0.0019733 (584)\ttotal: 3m 55s\tremaining: 2m 32s\n",
            "607:\tlearn: 0.0019733\ttest: 0.0019733\tbest: 0.0019733 (584)\ttotal: 3m 55s\tremaining: 2m 32s\n",
            "608:\tlearn: 0.0019733\ttest: 0.0019733\tbest: 0.0019733 (584)\ttotal: 3m 56s\tremaining: 2m 31s\n",
            "609:\tlearn: 0.0019733\ttest: 0.0019733\tbest: 0.0019733 (584)\ttotal: 3m 56s\tremaining: 2m 31s\n",
            "610:\tlearn: 0.0019733\ttest: 0.0019733\tbest: 0.0019733 (584)\ttotal: 3m 56s\tremaining: 2m 30s\n",
            "611:\tlearn: 0.0019733\ttest: 0.0019733\tbest: 0.0019733 (584)\ttotal: 3m 57s\tremaining: 2m 30s\n",
            "612:\tlearn: 0.0019733\ttest: 0.0019733\tbest: 0.0019733 (584)\ttotal: 3m 57s\tremaining: 2m 30s\n",
            "613:\tlearn: 0.0019733\ttest: 0.0019733\tbest: 0.0019733 (584)\ttotal: 3m 58s\tremaining: 2m 29s\n",
            "614:\tlearn: 0.0019733\ttest: 0.0019733\tbest: 0.0019733 (584)\ttotal: 3m 58s\tremaining: 2m 29s\n",
            "615:\tlearn: 0.0019733\ttest: 0.0019733\tbest: 0.0019733 (584)\ttotal: 3m 58s\tremaining: 2m 28s\n",
            "616:\tlearn: 0.0019733\ttest: 0.0019733\tbest: 0.0019733 (584)\ttotal: 3m 59s\tremaining: 2m 28s\n",
            "617:\tlearn: 0.0019733\ttest: 0.0019733\tbest: 0.0019733 (584)\ttotal: 3m 59s\tremaining: 2m 28s\n",
            "618:\tlearn: 0.0019733\ttest: 0.0019733\tbest: 0.0019733 (584)\ttotal: 4m\tremaining: 2m 27s\n",
            "619:\tlearn: 0.0019733\ttest: 0.0019733\tbest: 0.0019733 (584)\ttotal: 4m\tremaining: 2m 27s\n",
            "620:\tlearn: 0.0019733\ttest: 0.0019733\tbest: 0.0019733 (584)\ttotal: 4m\tremaining: 2m 26s\n",
            "621:\tlearn: 0.0019733\ttest: 0.0019733\tbest: 0.0019733 (584)\ttotal: 4m 1s\tremaining: 2m 26s\n",
            "622:\tlearn: 0.0019733\ttest: 0.0019733\tbest: 0.0019733 (584)\ttotal: 4m 1s\tremaining: 2m 26s\n",
            "623:\tlearn: 0.0019733\ttest: 0.0019733\tbest: 0.0019733 (584)\ttotal: 4m 1s\tremaining: 2m 25s\n",
            "624:\tlearn: 0.0019733\ttest: 0.0019733\tbest: 0.0019733 (584)\ttotal: 4m 2s\tremaining: 2m 25s\n",
            "625:\tlearn: 0.0019733\ttest: 0.0019733\tbest: 0.0019733 (584)\ttotal: 4m 2s\tremaining: 2m 25s\n",
            "626:\tlearn: 0.0019733\ttest: 0.0019733\tbest: 0.0019733 (584)\ttotal: 4m 3s\tremaining: 2m 24s\n",
            "627:\tlearn: 0.0019733\ttest: 0.0019733\tbest: 0.0019733 (584)\ttotal: 4m 3s\tremaining: 2m 24s\n",
            "628:\tlearn: 0.0019733\ttest: 0.0019733\tbest: 0.0019733 (584)\ttotal: 4m 3s\tremaining: 2m 23s\n",
            "629:\tlearn: 0.0019733\ttest: 0.0019733\tbest: 0.0019733 (584)\ttotal: 4m 4s\tremaining: 2m 23s\n",
            "630:\tlearn: 0.0019733\ttest: 0.0019733\tbest: 0.0019733 (584)\ttotal: 4m 4s\tremaining: 2m 23s\n",
            "631:\tlearn: 0.0019733\ttest: 0.0019733\tbest: 0.0019733 (584)\ttotal: 4m 5s\tremaining: 2m 22s\n",
            "632:\tlearn: 0.0019733\ttest: 0.0019733\tbest: 0.0019733 (584)\ttotal: 4m 5s\tremaining: 2m 22s\n",
            "633:\tlearn: 0.0019733\ttest: 0.0019733\tbest: 0.0019733 (584)\ttotal: 4m 5s\tremaining: 2m 21s\n",
            "634:\tlearn: 0.0019733\ttest: 0.0019733\tbest: 0.0019733 (584)\ttotal: 4m 6s\tremaining: 2m 21s\n",
            "635:\tlearn: 0.0019733\ttest: 0.0019733\tbest: 0.0019733 (584)\ttotal: 4m 6s\tremaining: 2m 21s\n",
            "636:\tlearn: 0.0019733\ttest: 0.0019733\tbest: 0.0019733 (584)\ttotal: 4m 6s\tremaining: 2m 20s\n",
            "637:\tlearn: 0.0019733\ttest: 0.0019733\tbest: 0.0019733 (584)\ttotal: 4m 7s\tremaining: 2m 20s\n",
            "638:\tlearn: 0.0019733\ttest: 0.0019733\tbest: 0.0019733 (584)\ttotal: 4m 7s\tremaining: 2m 19s\n",
            "639:\tlearn: 0.0019733\ttest: 0.0019733\tbest: 0.0019733 (584)\ttotal: 4m 8s\tremaining: 2m 19s\n",
            "640:\tlearn: 0.0019733\ttest: 0.0019733\tbest: 0.0019733 (584)\ttotal: 4m 8s\tremaining: 2m 19s\n",
            "641:\tlearn: 0.0019733\ttest: 0.0019733\tbest: 0.0019733 (584)\ttotal: 4m 8s\tremaining: 2m 18s\n",
            "642:\tlearn: 0.0019733\ttest: 0.0019733\tbest: 0.0019733 (584)\ttotal: 4m 9s\tremaining: 2m 18s\n",
            "643:\tlearn: 0.0019733\ttest: 0.0019733\tbest: 0.0019733 (584)\ttotal: 4m 9s\tremaining: 2m 18s\n",
            "644:\tlearn: 0.0019733\ttest: 0.0019733\tbest: 0.0019733 (584)\ttotal: 4m 10s\tremaining: 2m 17s\n",
            "645:\tlearn: 0.0019733\ttest: 0.0019733\tbest: 0.0019733 (584)\ttotal: 4m 10s\tremaining: 2m 17s\n",
            "646:\tlearn: 0.0019733\ttest: 0.0019733\tbest: 0.0019733 (584)\ttotal: 4m 10s\tremaining: 2m 16s\n",
            "647:\tlearn: 0.0019733\ttest: 0.0019733\tbest: 0.0019733 (584)\ttotal: 4m 11s\tremaining: 2m 16s\n",
            "648:\tlearn: 0.0019733\ttest: 0.0019733\tbest: 0.0019733 (584)\ttotal: 4m 11s\tremaining: 2m 16s\n",
            "649:\tlearn: 0.0019733\ttest: 0.0019733\tbest: 0.0019733 (584)\ttotal: 4m 11s\tremaining: 2m 15s\n",
            "650:\tlearn: 0.0019733\ttest: 0.0019733\tbest: 0.0019733 (584)\ttotal: 4m 12s\tremaining: 2m 15s\n",
            "651:\tlearn: 0.0019733\ttest: 0.0019733\tbest: 0.0019733 (584)\ttotal: 4m 12s\tremaining: 2m 14s\n",
            "652:\tlearn: 0.0019733\ttest: 0.0019733\tbest: 0.0019733 (584)\ttotal: 4m 13s\tremaining: 2m 14s\n",
            "653:\tlearn: 0.0019733\ttest: 0.0019733\tbest: 0.0019733 (584)\ttotal: 4m 13s\tremaining: 2m 14s\n",
            "654:\tlearn: 0.0019733\ttest: 0.0019733\tbest: 0.0019733 (584)\ttotal: 4m 13s\tremaining: 2m 13s\n",
            "655:\tlearn: 0.0019733\ttest: 0.0019733\tbest: 0.0019733 (655)\ttotal: 4m 14s\tremaining: 2m 13s\n",
            "656:\tlearn: 0.0019733\ttest: 0.0019733\tbest: 0.0019733 (656)\ttotal: 4m 14s\tremaining: 2m 12s\n",
            "657:\tlearn: 0.0019732\ttest: 0.0019732\tbest: 0.0019732 (657)\ttotal: 4m 15s\tremaining: 2m 12s\n",
            "658:\tlearn: 0.0019732\ttest: 0.0019732\tbest: 0.0019732 (657)\ttotal: 4m 15s\tremaining: 2m 12s\n",
            "659:\tlearn: 0.0019732\ttest: 0.0019732\tbest: 0.0019732 (657)\ttotal: 4m 15s\tremaining: 2m 11s\n",
            "660:\tlearn: 0.0019732\ttest: 0.0019732\tbest: 0.0019732 (657)\ttotal: 4m 16s\tremaining: 2m 11s\n",
            "661:\tlearn: 0.0019732\ttest: 0.0019732\tbest: 0.0019732 (657)\ttotal: 4m 16s\tremaining: 2m 11s\n",
            "662:\tlearn: 0.0019732\ttest: 0.0019732\tbest: 0.0019732 (657)\ttotal: 4m 17s\tremaining: 2m 10s\n",
            "663:\tlearn: 0.0019732\ttest: 0.0019732\tbest: 0.0019732 (657)\ttotal: 4m 17s\tremaining: 2m 10s\n",
            "664:\tlearn: 0.0019732\ttest: 0.0019732\tbest: 0.0019732 (657)\ttotal: 4m 17s\tremaining: 2m 9s\n",
            "665:\tlearn: 0.0019732\ttest: 0.0019732\tbest: 0.0019732 (657)\ttotal: 4m 18s\tremaining: 2m 9s\n",
            "666:\tlearn: 0.0019732\ttest: 0.0019732\tbest: 0.0019732 (657)\ttotal: 4m 18s\tremaining: 2m 9s\n",
            "667:\tlearn: 0.0019732\ttest: 0.0019732\tbest: 0.0019732 (657)\ttotal: 4m 19s\tremaining: 2m 8s\n",
            "668:\tlearn: 0.0019732\ttest: 0.0019732\tbest: 0.0019732 (657)\ttotal: 4m 19s\tremaining: 2m 8s\n",
            "669:\tlearn: 0.0019732\ttest: 0.0019732\tbest: 0.0019732 (657)\ttotal: 4m 19s\tremaining: 2m 7s\n",
            "670:\tlearn: 0.0019732\ttest: 0.0019732\tbest: 0.0019732 (657)\ttotal: 4m 20s\tremaining: 2m 7s\n",
            "671:\tlearn: 0.0019732\ttest: 0.0019732\tbest: 0.0019732 (657)\ttotal: 4m 20s\tremaining: 2m 7s\n",
            "672:\tlearn: 0.0019732\ttest: 0.0019732\tbest: 0.0019732 (657)\ttotal: 4m 20s\tremaining: 2m 6s\n",
            "673:\tlearn: 0.0019732\ttest: 0.0019732\tbest: 0.0019732 (657)\ttotal: 4m 21s\tremaining: 2m 6s\n",
            "674:\tlearn: 0.0019732\ttest: 0.0019732\tbest: 0.0019732 (657)\ttotal: 4m 21s\tremaining: 2m 6s\n",
            "675:\tlearn: 0.0019732\ttest: 0.0019732\tbest: 0.0019732 (657)\ttotal: 4m 22s\tremaining: 2m 5s\n",
            "676:\tlearn: 0.0019732\ttest: 0.0019732\tbest: 0.0019732 (657)\ttotal: 4m 22s\tremaining: 2m 5s\n",
            "677:\tlearn: 0.0019732\ttest: 0.0019732\tbest: 0.0019732 (657)\ttotal: 4m 22s\tremaining: 2m 4s\n",
            "678:\tlearn: 0.0019732\ttest: 0.0019732\tbest: 0.0019732 (657)\ttotal: 4m 23s\tremaining: 2m 4s\n",
            "679:\tlearn: 0.0019732\ttest: 0.0019732\tbest: 0.0019732 (657)\ttotal: 4m 23s\tremaining: 2m 4s\n",
            "680:\tlearn: 0.0019732\ttest: 0.0019732\tbest: 0.0019732 (657)\ttotal: 4m 24s\tremaining: 2m 3s\n",
            "681:\tlearn: 0.0019732\ttest: 0.0019732\tbest: 0.0019732 (657)\ttotal: 4m 24s\tremaining: 2m 3s\n",
            "682:\tlearn: 0.0019732\ttest: 0.0019732\tbest: 0.0019732 (657)\ttotal: 4m 24s\tremaining: 2m 2s\n",
            "683:\tlearn: 0.0019732\ttest: 0.0019732\tbest: 0.0019732 (683)\ttotal: 4m 25s\tremaining: 2m 2s\n",
            "684:\tlearn: 0.0019729\ttest: 0.0019729\tbest: 0.0019729 (684)\ttotal: 4m 25s\tremaining: 2m 2s\n",
            "685:\tlearn: 0.0019725\ttest: 0.0019725\tbest: 0.0019725 (685)\ttotal: 4m 25s\tremaining: 2m 1s\n",
            "686:\tlearn: 0.0019725\ttest: 0.0019725\tbest: 0.0019725 (686)\ttotal: 4m 26s\tremaining: 2m 1s\n",
            "687:\tlearn: 0.0019725\ttest: 0.0019725\tbest: 0.0019725 (687)\ttotal: 4m 26s\tremaining: 2m\n",
            "688:\tlearn: 0.0019722\ttest: 0.0019722\tbest: 0.0019722 (688)\ttotal: 4m 27s\tremaining: 2m\n",
            "689:\tlearn: 0.0019618\ttest: 0.0019618\tbest: 0.0019618 (689)\ttotal: 4m 27s\tremaining: 2m\n",
            "690:\tlearn: 0.0019618\ttest: 0.0019618\tbest: 0.0019618 (689)\ttotal: 4m 27s\tremaining: 1m 59s\n",
            "691:\tlearn: 0.0019618\ttest: 0.0019618\tbest: 0.0019618 (689)\ttotal: 4m 28s\tremaining: 1m 59s\n",
            "692:\tlearn: 0.0019618\ttest: 0.0019618\tbest: 0.0019618 (689)\ttotal: 4m 28s\tremaining: 1m 58s\n",
            "693:\tlearn: 0.0019618\ttest: 0.0019618\tbest: 0.0019618 (689)\ttotal: 4m 28s\tremaining: 1m 58s\n",
            "694:\tlearn: 0.0019618\ttest: 0.0019618\tbest: 0.0019618 (689)\ttotal: 4m 29s\tremaining: 1m 58s\n",
            "695:\tlearn: 0.0019618\ttest: 0.0019618\tbest: 0.0019618 (689)\ttotal: 4m 29s\tremaining: 1m 57s\n",
            "696:\tlearn: 0.0019618\ttest: 0.0019618\tbest: 0.0019618 (696)\ttotal: 4m 30s\tremaining: 1m 57s\n",
            "697:\tlearn: 0.0019618\ttest: 0.0019618\tbest: 0.0019618 (697)\ttotal: 4m 30s\tremaining: 1m 57s\n",
            "698:\tlearn: 0.0019618\ttest: 0.0019618\tbest: 0.0019618 (698)\ttotal: 4m 30s\tremaining: 1m 56s\n",
            "699:\tlearn: 0.0019618\ttest: 0.0019618\tbest: 0.0019618 (698)\ttotal: 4m 31s\tremaining: 1m 56s\n",
            "700:\tlearn: 0.0019618\ttest: 0.0019618\tbest: 0.0019618 (698)\ttotal: 4m 31s\tremaining: 1m 55s\n",
            "701:\tlearn: 0.0019618\ttest: 0.0019618\tbest: 0.0019618 (698)\ttotal: 4m 31s\tremaining: 1m 55s\n",
            "702:\tlearn: 0.0019618\ttest: 0.0019618\tbest: 0.0019618 (702)\ttotal: 4m 32s\tremaining: 1m 55s\n",
            "703:\tlearn: 0.0019618\ttest: 0.0019618\tbest: 0.0019618 (703)\ttotal: 4m 32s\tremaining: 1m 54s\n",
            "704:\tlearn: 0.0019617\ttest: 0.0019617\tbest: 0.0019617 (704)\ttotal: 4m 33s\tremaining: 1m 54s\n",
            "705:\tlearn: 0.0019617\ttest: 0.0019617\tbest: 0.0019617 (704)\ttotal: 4m 33s\tremaining: 1m 53s\n",
            "706:\tlearn: 0.0019617\ttest: 0.0019617\tbest: 0.0019617 (704)\ttotal: 4m 33s\tremaining: 1m 53s\n",
            "707:\tlearn: 0.0019617\ttest: 0.0019617\tbest: 0.0019617 (704)\ttotal: 4m 34s\tremaining: 1m 53s\n",
            "708:\tlearn: 0.0019617\ttest: 0.0019617\tbest: 0.0019617 (704)\ttotal: 4m 34s\tremaining: 1m 52s\n",
            "709:\tlearn: 0.0019617\ttest: 0.0019617\tbest: 0.0019617 (704)\ttotal: 4m 34s\tremaining: 1m 52s\n",
            "710:\tlearn: 0.0019617\ttest: 0.0019617\tbest: 0.0019617 (704)\ttotal: 4m 35s\tremaining: 1m 51s\n",
            "711:\tlearn: 0.0019617\ttest: 0.0019617\tbest: 0.0019617 (704)\ttotal: 4m 35s\tremaining: 1m 51s\n",
            "712:\tlearn: 0.0019617\ttest: 0.0019617\tbest: 0.0019617 (704)\ttotal: 4m 36s\tremaining: 1m 51s\n",
            "713:\tlearn: 0.0019617\ttest: 0.0019617\tbest: 0.0019617 (704)\ttotal: 4m 36s\tremaining: 1m 50s\n",
            "714:\tlearn: 0.0019617\ttest: 0.0019617\tbest: 0.0019617 (704)\ttotal: 4m 36s\tremaining: 1m 50s\n",
            "715:\tlearn: 0.0019617\ttest: 0.0019617\tbest: 0.0019617 (704)\ttotal: 4m 37s\tremaining: 1m 49s\n",
            "716:\tlearn: 0.0019617\ttest: 0.0019617\tbest: 0.0019617 (704)\ttotal: 4m 37s\tremaining: 1m 49s\n",
            "717:\tlearn: 0.0019617\ttest: 0.0019617\tbest: 0.0019617 (704)\ttotal: 4m 38s\tremaining: 1m 49s\n",
            "718:\tlearn: 0.0019617\ttest: 0.0019617\tbest: 0.0019617 (704)\ttotal: 4m 38s\tremaining: 1m 48s\n",
            "719:\tlearn: 0.0019617\ttest: 0.0019617\tbest: 0.0019617 (704)\ttotal: 4m 38s\tremaining: 1m 48s\n",
            "720:\tlearn: 0.0019617\ttest: 0.0019617\tbest: 0.0019617 (704)\ttotal: 4m 39s\tremaining: 1m 48s\n",
            "721:\tlearn: 0.0019617\ttest: 0.0019617\tbest: 0.0019617 (704)\ttotal: 4m 39s\tremaining: 1m 47s\n",
            "722:\tlearn: 0.0019617\ttest: 0.0019617\tbest: 0.0019617 (704)\ttotal: 4m 39s\tremaining: 1m 47s\n",
            "723:\tlearn: 0.0019617\ttest: 0.0019617\tbest: 0.0019617 (704)\ttotal: 4m 40s\tremaining: 1m 46s\n",
            "724:\tlearn: 0.0019617\ttest: 0.0019617\tbest: 0.0019617 (704)\ttotal: 4m 40s\tremaining: 1m 46s\n",
            "725:\tlearn: 0.0019617\ttest: 0.0019617\tbest: 0.0019617 (704)\ttotal: 4m 41s\tremaining: 1m 46s\n",
            "726:\tlearn: 0.0019617\ttest: 0.0019617\tbest: 0.0019617 (704)\ttotal: 4m 41s\tremaining: 1m 45s\n",
            "727:\tlearn: 0.0019617\ttest: 0.0019617\tbest: 0.0019617 (704)\ttotal: 4m 41s\tremaining: 1m 45s\n",
            "728:\tlearn: 0.0019617\ttest: 0.0019617\tbest: 0.0019617 (704)\ttotal: 4m 42s\tremaining: 1m 44s\n",
            "729:\tlearn: 0.0019617\ttest: 0.0019617\tbest: 0.0019617 (704)\ttotal: 4m 42s\tremaining: 1m 44s\n",
            "730:\tlearn: 0.0019617\ttest: 0.0019617\tbest: 0.0019617 (704)\ttotal: 4m 42s\tremaining: 1m 44s\n",
            "731:\tlearn: 0.0019617\ttest: 0.0019617\tbest: 0.0019617 (704)\ttotal: 4m 43s\tremaining: 1m 43s\n",
            "732:\tlearn: 0.0019617\ttest: 0.0019617\tbest: 0.0019617 (704)\ttotal: 4m 43s\tremaining: 1m 43s\n",
            "733:\tlearn: 0.0019617\ttest: 0.0019617\tbest: 0.0019617 (704)\ttotal: 4m 43s\tremaining: 1m 42s\n",
            "734:\tlearn: 0.0019617\ttest: 0.0019617\tbest: 0.0019617 (704)\ttotal: 4m 44s\tremaining: 1m 42s\n",
            "735:\tlearn: 0.0019617\ttest: 0.0019617\tbest: 0.0019617 (704)\ttotal: 4m 44s\tremaining: 1m 42s\n",
            "736:\tlearn: 0.0019617\ttest: 0.0019617\tbest: 0.0019617 (704)\ttotal: 4m 45s\tremaining: 1m 41s\n",
            "737:\tlearn: 0.0019617\ttest: 0.0019617\tbest: 0.0019617 (704)\ttotal: 4m 45s\tremaining: 1m 41s\n",
            "738:\tlearn: 0.0019617\ttest: 0.0019617\tbest: 0.0019617 (704)\ttotal: 4m 45s\tremaining: 1m 40s\n",
            "739:\tlearn: 0.0019617\ttest: 0.0019617\tbest: 0.0019617 (704)\ttotal: 4m 46s\tremaining: 1m 40s\n",
            "740:\tlearn: 0.0019617\ttest: 0.0019617\tbest: 0.0019617 (704)\ttotal: 4m 46s\tremaining: 1m 40s\n",
            "741:\tlearn: 0.0019617\ttest: 0.0019617\tbest: 0.0019617 (704)\ttotal: 4m 46s\tremaining: 1m 39s\n",
            "742:\tlearn: 0.0019617\ttest: 0.0019617\tbest: 0.0019617 (704)\ttotal: 4m 47s\tremaining: 1m 39s\n",
            "743:\tlearn: 0.0019617\ttest: 0.0019617\tbest: 0.0019617 (704)\ttotal: 4m 47s\tremaining: 1m 38s\n",
            "744:\tlearn: 0.0019617\ttest: 0.0019617\tbest: 0.0019617 (704)\ttotal: 4m 48s\tremaining: 1m 38s\n",
            "745:\tlearn: 0.0019617\ttest: 0.0019617\tbest: 0.0019617 (704)\ttotal: 4m 48s\tremaining: 1m 38s\n",
            "746:\tlearn: 0.0019617\ttest: 0.0019617\tbest: 0.0019617 (704)\ttotal: 4m 48s\tremaining: 1m 37s\n",
            "747:\tlearn: 0.0019617\ttest: 0.0019617\tbest: 0.0019617 (704)\ttotal: 4m 49s\tremaining: 1m 37s\n",
            "748:\tlearn: 0.0019617\ttest: 0.0019617\tbest: 0.0019617 (704)\ttotal: 4m 49s\tremaining: 1m 37s\n",
            "749:\tlearn: 0.0019617\ttest: 0.0019617\tbest: 0.0019617 (704)\ttotal: 4m 49s\tremaining: 1m 36s\n",
            "750:\tlearn: 0.0019617\ttest: 0.0019617\tbest: 0.0019617 (704)\ttotal: 4m 50s\tremaining: 1m 36s\n",
            "751:\tlearn: 0.0019617\ttest: 0.0019617\tbest: 0.0019617 (704)\ttotal: 4m 50s\tremaining: 1m 35s\n",
            "752:\tlearn: 0.0019617\ttest: 0.0019617\tbest: 0.0019617 (704)\ttotal: 4m 51s\tremaining: 1m 35s\n",
            "753:\tlearn: 0.0019617\ttest: 0.0019617\tbest: 0.0019617 (704)\ttotal: 4m 51s\tremaining: 1m 35s\n",
            "754:\tlearn: 0.0019617\ttest: 0.0019617\tbest: 0.0019617 (704)\ttotal: 4m 51s\tremaining: 1m 34s\n",
            "755:\tlearn: 0.0019617\ttest: 0.0019617\tbest: 0.0019617 (704)\ttotal: 4m 52s\tremaining: 1m 34s\n",
            "756:\tlearn: 0.0019617\ttest: 0.0019617\tbest: 0.0019617 (704)\ttotal: 4m 52s\tremaining: 1m 33s\n",
            "757:\tlearn: 0.0019617\ttest: 0.0019617\tbest: 0.0019617 (704)\ttotal: 4m 52s\tremaining: 1m 33s\n",
            "758:\tlearn: 0.0019617\ttest: 0.0019617\tbest: 0.0019617 (704)\ttotal: 4m 53s\tremaining: 1m 33s\n",
            "759:\tlearn: 0.0019617\ttest: 0.0019617\tbest: 0.0019617 (704)\ttotal: 4m 53s\tremaining: 1m 32s\n",
            "760:\tlearn: 0.0019617\ttest: 0.0019617\tbest: 0.0019617 (704)\ttotal: 4m 54s\tremaining: 1m 32s\n",
            "761:\tlearn: 0.0019617\ttest: 0.0019617\tbest: 0.0019617 (704)\ttotal: 4m 54s\tremaining: 1m 31s\n",
            "762:\tlearn: 0.0019617\ttest: 0.0019617\tbest: 0.0019617 (704)\ttotal: 4m 54s\tremaining: 1m 31s\n",
            "763:\tlearn: 0.0019617\ttest: 0.0019617\tbest: 0.0019617 (704)\ttotal: 4m 55s\tremaining: 1m 31s\n",
            "764:\tlearn: 0.0019617\ttest: 0.0019617\tbest: 0.0019617 (704)\ttotal: 4m 55s\tremaining: 1m 30s\n",
            "765:\tlearn: 0.0019617\ttest: 0.0019617\tbest: 0.0019617 (704)\ttotal: 4m 55s\tremaining: 1m 30s\n",
            "766:\tlearn: 0.0019617\ttest: 0.0019617\tbest: 0.0019617 (704)\ttotal: 4m 56s\tremaining: 1m 29s\n",
            "767:\tlearn: 0.0019617\ttest: 0.0019617\tbest: 0.0019617 (704)\ttotal: 4m 56s\tremaining: 1m 29s\n",
            "768:\tlearn: 0.0019617\ttest: 0.0019617\tbest: 0.0019617 (704)\ttotal: 4m 57s\tremaining: 1m 29s\n",
            "769:\tlearn: 0.0019617\ttest: 0.0019617\tbest: 0.0019617 (704)\ttotal: 4m 57s\tremaining: 1m 28s\n",
            "770:\tlearn: 0.0019617\ttest: 0.0019617\tbest: 0.0019617 (704)\ttotal: 4m 57s\tremaining: 1m 28s\n",
            "771:\tlearn: 0.0019617\ttest: 0.0019617\tbest: 0.0019617 (704)\ttotal: 4m 58s\tremaining: 1m 28s\n",
            "772:\tlearn: 0.0019617\ttest: 0.0019617\tbest: 0.0019617 (704)\ttotal: 4m 58s\tremaining: 1m 27s\n",
            "773:\tlearn: 0.0019617\ttest: 0.0019617\tbest: 0.0019617 (704)\ttotal: 4m 58s\tremaining: 1m 27s\n",
            "774:\tlearn: 0.0019617\ttest: 0.0019617\tbest: 0.0019617 (704)\ttotal: 4m 59s\tremaining: 1m 26s\n",
            "775:\tlearn: 0.0019617\ttest: 0.0019617\tbest: 0.0019617 (704)\ttotal: 4m 59s\tremaining: 1m 26s\n",
            "776:\tlearn: 0.0019617\ttest: 0.0019617\tbest: 0.0019617 (704)\ttotal: 4m 59s\tremaining: 1m 26s\n",
            "777:\tlearn: 0.0019617\ttest: 0.0019617\tbest: 0.0019617 (704)\ttotal: 5m\tremaining: 1m 25s\n",
            "778:\tlearn: 0.0019617\ttest: 0.0019617\tbest: 0.0019617 (704)\ttotal: 5m\tremaining: 1m 25s\n",
            "779:\tlearn: 0.0019617\ttest: 0.0019617\tbest: 0.0019617 (704)\ttotal: 5m 1s\tremaining: 1m 24s\n",
            "780:\tlearn: 0.0019617\ttest: 0.0019617\tbest: 0.0019617 (704)\ttotal: 5m 1s\tremaining: 1m 24s\n",
            "781:\tlearn: 0.0019617\ttest: 0.0019617\tbest: 0.0019617 (704)\ttotal: 5m 1s\tremaining: 1m 24s\n",
            "782:\tlearn: 0.0019617\ttest: 0.0019617\tbest: 0.0019617 (704)\ttotal: 5m 2s\tremaining: 1m 23s\n",
            "783:\tlearn: 0.0019617\ttest: 0.0019617\tbest: 0.0019617 (704)\ttotal: 5m 2s\tremaining: 1m 23s\n",
            "784:\tlearn: 0.0019617\ttest: 0.0019617\tbest: 0.0019617 (704)\ttotal: 5m 2s\tremaining: 1m 22s\n",
            "785:\tlearn: 0.0019617\ttest: 0.0019617\tbest: 0.0019617 (704)\ttotal: 5m 3s\tremaining: 1m 22s\n",
            "786:\tlearn: 0.0019617\ttest: 0.0019617\tbest: 0.0019617 (704)\ttotal: 5m 3s\tremaining: 1m 22s\n",
            "787:\tlearn: 0.0019617\ttest: 0.0019617\tbest: 0.0019617 (704)\ttotal: 5m 4s\tremaining: 1m 21s\n",
            "788:\tlearn: 0.0019617\ttest: 0.0019617\tbest: 0.0019617 (704)\ttotal: 5m 4s\tremaining: 1m 21s\n",
            "789:\tlearn: 0.0019617\ttest: 0.0019617\tbest: 0.0019617 (704)\ttotal: 5m 4s\tremaining: 1m 21s\n",
            "790:\tlearn: 0.0019617\ttest: 0.0019617\tbest: 0.0019617 (704)\ttotal: 5m 5s\tremaining: 1m 20s\n",
            "791:\tlearn: 0.0019617\ttest: 0.0019617\tbest: 0.0019617 (704)\ttotal: 5m 5s\tremaining: 1m 20s\n",
            "792:\tlearn: 0.0019617\ttest: 0.0019617\tbest: 0.0019617 (704)\ttotal: 5m 5s\tremaining: 1m 19s\n",
            "793:\tlearn: 0.0019617\ttest: 0.0019617\tbest: 0.0019617 (704)\ttotal: 5m 6s\tremaining: 1m 19s\n",
            "794:\tlearn: 0.0019617\ttest: 0.0019617\tbest: 0.0019617 (704)\ttotal: 5m 6s\tremaining: 1m 19s\n",
            "795:\tlearn: 0.0019617\ttest: 0.0019617\tbest: 0.0019617 (704)\ttotal: 5m 7s\tremaining: 1m 18s\n",
            "796:\tlearn: 0.0019617\ttest: 0.0019617\tbest: 0.0019617 (704)\ttotal: 5m 7s\tremaining: 1m 18s\n",
            "797:\tlearn: 0.0019617\ttest: 0.0019617\tbest: 0.0019617 (704)\ttotal: 5m 7s\tremaining: 1m 17s\n",
            "798:\tlearn: 0.0019617\ttest: 0.0019617\tbest: 0.0019617 (704)\ttotal: 5m 8s\tremaining: 1m 17s\n",
            "799:\tlearn: 0.0019617\ttest: 0.0019617\tbest: 0.0019617 (704)\ttotal: 5m 8s\tremaining: 1m 17s\n",
            "800:\tlearn: 0.0019558\ttest: 0.0019558\tbest: 0.0019558 (800)\ttotal: 5m 8s\tremaining: 1m 16s\n",
            "801:\tlearn: 0.0019404\ttest: 0.0019404\tbest: 0.0019404 (801)\ttotal: 5m 9s\tremaining: 1m 16s\n",
            "802:\tlearn: 0.0019294\ttest: 0.0019294\tbest: 0.0019294 (802)\ttotal: 5m 9s\tremaining: 1m 16s\n",
            "803:\tlearn: 0.0019176\ttest: 0.0019176\tbest: 0.0019176 (803)\ttotal: 5m 10s\tremaining: 1m 15s\n",
            "804:\tlearn: 0.0019045\ttest: 0.0019045\tbest: 0.0019045 (804)\ttotal: 5m 10s\tremaining: 1m 15s\n",
            "805:\tlearn: 0.0019044\ttest: 0.0019044\tbest: 0.0019044 (805)\ttotal: 5m 10s\tremaining: 1m 14s\n",
            "806:\tlearn: 0.0019044\ttest: 0.0019044\tbest: 0.0019044 (806)\ttotal: 5m 11s\tremaining: 1m 14s\n",
            "807:\tlearn: 0.0019044\ttest: 0.0019044\tbest: 0.0019044 (806)\ttotal: 5m 11s\tremaining: 1m 14s\n",
            "808:\tlearn: 0.0019044\ttest: 0.0019044\tbest: 0.0019044 (806)\ttotal: 5m 12s\tremaining: 1m 13s\n",
            "809:\tlearn: 0.0019044\ttest: 0.0019044\tbest: 0.0019044 (806)\ttotal: 5m 12s\tremaining: 1m 13s\n",
            "810:\tlearn: 0.0019044\ttest: 0.0019044\tbest: 0.0019044 (806)\ttotal: 5m 12s\tremaining: 1m 12s\n",
            "811:\tlearn: 0.0019044\ttest: 0.0019044\tbest: 0.0019044 (806)\ttotal: 5m 13s\tremaining: 1m 12s\n",
            "812:\tlearn: 0.0019044\ttest: 0.0019044\tbest: 0.0019044 (806)\ttotal: 5m 13s\tremaining: 1m 12s\n",
            "813:\tlearn: 0.0019044\ttest: 0.0019044\tbest: 0.0019044 (806)\ttotal: 5m 13s\tremaining: 1m 11s\n",
            "814:\tlearn: 0.0019044\ttest: 0.0019044\tbest: 0.0019044 (806)\ttotal: 5m 14s\tremaining: 1m 11s\n",
            "815:\tlearn: 0.0019044\ttest: 0.0019044\tbest: 0.0019044 (806)\ttotal: 5m 14s\tremaining: 1m 10s\n",
            "816:\tlearn: 0.0019044\ttest: 0.0019044\tbest: 0.0019044 (806)\ttotal: 5m 15s\tremaining: 1m 10s\n",
            "817:\tlearn: 0.0019044\ttest: 0.0019044\tbest: 0.0019044 (806)\ttotal: 5m 15s\tremaining: 1m 10s\n",
            "818:\tlearn: 0.0019044\ttest: 0.0019044\tbest: 0.0019044 (806)\ttotal: 5m 15s\tremaining: 1m 9s\n",
            "819:\tlearn: 0.0019044\ttest: 0.0019044\tbest: 0.0019044 (806)\ttotal: 5m 16s\tremaining: 1m 9s\n",
            "820:\tlearn: 0.0019044\ttest: 0.0019044\tbest: 0.0019044 (806)\ttotal: 5m 16s\tremaining: 1m 9s\n",
            "821:\tlearn: 0.0019044\ttest: 0.0019044\tbest: 0.0019044 (806)\ttotal: 5m 16s\tremaining: 1m 8s\n",
            "822:\tlearn: 0.0019044\ttest: 0.0019044\tbest: 0.0019044 (806)\ttotal: 5m 17s\tremaining: 1m 8s\n",
            "823:\tlearn: 0.0019044\ttest: 0.0019044\tbest: 0.0019044 (806)\ttotal: 5m 17s\tremaining: 1m 7s\n",
            "824:\tlearn: 0.0019044\ttest: 0.0019044\tbest: 0.0019044 (806)\ttotal: 5m 18s\tremaining: 1m 7s\n",
            "825:\tlearn: 0.0019044\ttest: 0.0019044\tbest: 0.0019044 (806)\ttotal: 5m 18s\tremaining: 1m 7s\n",
            "826:\tlearn: 0.0019044\ttest: 0.0019044\tbest: 0.0019044 (806)\ttotal: 5m 18s\tremaining: 1m 6s\n",
            "827:\tlearn: 0.0019044\ttest: 0.0019044\tbest: 0.0019044 (806)\ttotal: 5m 19s\tremaining: 1m 6s\n",
            "828:\tlearn: 0.0019044\ttest: 0.0019044\tbest: 0.0019044 (806)\ttotal: 5m 19s\tremaining: 1m 5s\n",
            "829:\tlearn: 0.0019044\ttest: 0.0019044\tbest: 0.0019044 (806)\ttotal: 5m 19s\tremaining: 1m 5s\n",
            "830:\tlearn: 0.0019044\ttest: 0.0019044\tbest: 0.0019044 (806)\ttotal: 5m 20s\tremaining: 1m 5s\n",
            "831:\tlearn: 0.0019044\ttest: 0.0019044\tbest: 0.0019044 (806)\ttotal: 5m 20s\tremaining: 1m 4s\n",
            "832:\tlearn: 0.0019044\ttest: 0.0019044\tbest: 0.0019044 (806)\ttotal: 5m 21s\tremaining: 1m 4s\n",
            "833:\tlearn: 0.0019044\ttest: 0.0019044\tbest: 0.0019044 (806)\ttotal: 5m 21s\tremaining: 1m 3s\n",
            "834:\tlearn: 0.0019044\ttest: 0.0019044\tbest: 0.0019044 (806)\ttotal: 5m 21s\tremaining: 1m 3s\n",
            "835:\tlearn: 0.0019044\ttest: 0.0019044\tbest: 0.0019044 (806)\ttotal: 5m 22s\tremaining: 1m 3s\n",
            "836:\tlearn: 0.0019044\ttest: 0.0019044\tbest: 0.0019044 (806)\ttotal: 5m 22s\tremaining: 1m 2s\n",
            "837:\tlearn: 0.0019044\ttest: 0.0019044\tbest: 0.0019044 (806)\ttotal: 5m 22s\tremaining: 1m 2s\n",
            "838:\tlearn: 0.0019044\ttest: 0.0019044\tbest: 0.0019044 (806)\ttotal: 5m 23s\tremaining: 1m 2s\n",
            "839:\tlearn: 0.0019044\ttest: 0.0019044\tbest: 0.0019044 (806)\ttotal: 5m 23s\tremaining: 1m 1s\n",
            "840:\tlearn: 0.0019044\ttest: 0.0019044\tbest: 0.0019044 (806)\ttotal: 5m 24s\tremaining: 1m 1s\n",
            "841:\tlearn: 0.0019044\ttest: 0.0019044\tbest: 0.0019044 (806)\ttotal: 5m 24s\tremaining: 1m\n",
            "842:\tlearn: 0.0019044\ttest: 0.0019044\tbest: 0.0019044 (806)\ttotal: 5m 24s\tremaining: 1m\n",
            "843:\tlearn: 0.0019044\ttest: 0.0019044\tbest: 0.0019044 (806)\ttotal: 5m 25s\tremaining: 1m\n",
            "844:\tlearn: 0.0019044\ttest: 0.0019044\tbest: 0.0019044 (806)\ttotal: 5m 25s\tremaining: 59.7s\n",
            "845:\tlearn: 0.0019044\ttest: 0.0019044\tbest: 0.0019044 (806)\ttotal: 5m 25s\tremaining: 59.3s\n",
            "846:\tlearn: 0.0019044\ttest: 0.0019044\tbest: 0.0019044 (806)\ttotal: 5m 26s\tremaining: 58.9s\n",
            "847:\tlearn: 0.0019044\ttest: 0.0019044\tbest: 0.0019044 (806)\ttotal: 5m 26s\tremaining: 58.6s\n",
            "848:\tlearn: 0.0019044\ttest: 0.0019044\tbest: 0.0019044 (806)\ttotal: 5m 27s\tremaining: 58.2s\n",
            "849:\tlearn: 0.0019044\ttest: 0.0019044\tbest: 0.0019044 (806)\ttotal: 5m 27s\tremaining: 57.8s\n",
            "850:\tlearn: 0.0019044\ttest: 0.0019044\tbest: 0.0019044 (806)\ttotal: 5m 27s\tremaining: 57.4s\n",
            "851:\tlearn: 0.0019044\ttest: 0.0019044\tbest: 0.0019044 (806)\ttotal: 5m 28s\tremaining: 57s\n",
            "852:\tlearn: 0.0019044\ttest: 0.0019044\tbest: 0.0019044 (806)\ttotal: 5m 28s\tremaining: 56.6s\n",
            "853:\tlearn: 0.0019044\ttest: 0.0019044\tbest: 0.0019044 (806)\ttotal: 5m 28s\tremaining: 56.2s\n",
            "854:\tlearn: 0.0019044\ttest: 0.0019044\tbest: 0.0019044 (806)\ttotal: 5m 29s\tremaining: 55.9s\n",
            "855:\tlearn: 0.0019044\ttest: 0.0019044\tbest: 0.0019044 (806)\ttotal: 5m 29s\tremaining: 55.5s\n",
            "856:\tlearn: 0.0019044\ttest: 0.0019044\tbest: 0.0019044 (806)\ttotal: 5m 30s\tremaining: 55.1s\n",
            "857:\tlearn: 0.0019044\ttest: 0.0019044\tbest: 0.0019044 (806)\ttotal: 5m 30s\tremaining: 54.7s\n",
            "858:\tlearn: 0.0019044\ttest: 0.0019044\tbest: 0.0019044 (806)\ttotal: 5m 30s\tremaining: 54.3s\n",
            "859:\tlearn: 0.0019044\ttest: 0.0019044\tbest: 0.0019044 (806)\ttotal: 5m 31s\tremaining: 53.9s\n",
            "860:\tlearn: 0.0019044\ttest: 0.0019044\tbest: 0.0019044 (806)\ttotal: 5m 31s\tremaining: 53.5s\n",
            "861:\tlearn: 0.0019044\ttest: 0.0019044\tbest: 0.0019044 (806)\ttotal: 5m 32s\tremaining: 53.2s\n",
            "862:\tlearn: 0.0019044\ttest: 0.0019044\tbest: 0.0019044 (806)\ttotal: 5m 32s\tremaining: 52.8s\n",
            "863:\tlearn: 0.0019044\ttest: 0.0019044\tbest: 0.0019044 (806)\ttotal: 5m 32s\tremaining: 52.4s\n",
            "864:\tlearn: 0.0019044\ttest: 0.0019044\tbest: 0.0019044 (806)\ttotal: 5m 33s\tremaining: 52s\n",
            "865:\tlearn: 0.0019044\ttest: 0.0019044\tbest: 0.0019044 (806)\ttotal: 5m 33s\tremaining: 51.6s\n",
            "866:\tlearn: 0.0019044\ttest: 0.0019044\tbest: 0.0019044 (806)\ttotal: 5m 33s\tremaining: 51.2s\n",
            "867:\tlearn: 0.0019044\ttest: 0.0019044\tbest: 0.0019044 (806)\ttotal: 5m 34s\tremaining: 50.8s\n",
            "868:\tlearn: 0.0019044\ttest: 0.0019044\tbest: 0.0019044 (806)\ttotal: 5m 34s\tremaining: 50.5s\n",
            "869:\tlearn: 0.0019044\ttest: 0.0019044\tbest: 0.0019044 (806)\ttotal: 5m 35s\tremaining: 50.1s\n",
            "870:\tlearn: 0.0019044\ttest: 0.0019044\tbest: 0.0019044 (806)\ttotal: 5m 35s\tremaining: 49.7s\n",
            "871:\tlearn: 0.0019044\ttest: 0.0019044\tbest: 0.0019044 (806)\ttotal: 5m 35s\tremaining: 49.3s\n",
            "872:\tlearn: 0.0019044\ttest: 0.0019044\tbest: 0.0019044 (806)\ttotal: 5m 36s\tremaining: 48.9s\n",
            "873:\tlearn: 0.0019044\ttest: 0.0019044\tbest: 0.0019044 (806)\ttotal: 5m 36s\tremaining: 48.5s\n",
            "874:\tlearn: 0.0019044\ttest: 0.0019044\tbest: 0.0019044 (806)\ttotal: 5m 37s\tremaining: 48.1s\n",
            "875:\tlearn: 0.0019044\ttest: 0.0019044\tbest: 0.0019044 (806)\ttotal: 5m 37s\tremaining: 47.8s\n",
            "876:\tlearn: 0.0019044\ttest: 0.0019044\tbest: 0.0019044 (806)\ttotal: 5m 37s\tremaining: 47.4s\n",
            "877:\tlearn: 0.0019044\ttest: 0.0019044\tbest: 0.0019044 (806)\ttotal: 5m 38s\tremaining: 47s\n",
            "878:\tlearn: 0.0019044\ttest: 0.0019044\tbest: 0.0019044 (806)\ttotal: 5m 38s\tremaining: 46.6s\n",
            "879:\tlearn: 0.0019044\ttest: 0.0019044\tbest: 0.0019044 (806)\ttotal: 5m 38s\tremaining: 46.2s\n",
            "880:\tlearn: 0.0019044\ttest: 0.0019044\tbest: 0.0019044 (806)\ttotal: 5m 39s\tremaining: 45.8s\n",
            "881:\tlearn: 0.0019044\ttest: 0.0019044\tbest: 0.0019044 (806)\ttotal: 5m 39s\tremaining: 45.5s\n",
            "882:\tlearn: 0.0019044\ttest: 0.0019044\tbest: 0.0019044 (806)\ttotal: 5m 40s\tremaining: 45.1s\n",
            "883:\tlearn: 0.0019044\ttest: 0.0019044\tbest: 0.0019044 (806)\ttotal: 5m 40s\tremaining: 44.7s\n",
            "884:\tlearn: 0.0019044\ttest: 0.0019044\tbest: 0.0019044 (806)\ttotal: 5m 40s\tremaining: 44.3s\n",
            "885:\tlearn: 0.0019044\ttest: 0.0019044\tbest: 0.0019044 (806)\ttotal: 5m 41s\tremaining: 43.9s\n",
            "886:\tlearn: 0.0019044\ttest: 0.0019044\tbest: 0.0019044 (806)\ttotal: 5m 41s\tremaining: 43.5s\n",
            "887:\tlearn: 0.0019044\ttest: 0.0019044\tbest: 0.0019044 (806)\ttotal: 5m 42s\tremaining: 43.1s\n",
            "888:\tlearn: 0.0019044\ttest: 0.0019044\tbest: 0.0019044 (806)\ttotal: 5m 42s\tremaining: 42.8s\n",
            "889:\tlearn: 0.0019044\ttest: 0.0019044\tbest: 0.0019044 (806)\ttotal: 5m 42s\tremaining: 42.4s\n",
            "890:\tlearn: 0.0019044\ttest: 0.0019044\tbest: 0.0019044 (806)\ttotal: 5m 43s\tremaining: 42s\n",
            "891:\tlearn: 0.0019044\ttest: 0.0019044\tbest: 0.0019044 (806)\ttotal: 5m 43s\tremaining: 41.6s\n",
            "892:\tlearn: 0.0019044\ttest: 0.0019044\tbest: 0.0019044 (806)\ttotal: 5m 43s\tremaining: 41.2s\n",
            "893:\tlearn: 0.0019044\ttest: 0.0019044\tbest: 0.0019044 (806)\ttotal: 5m 44s\tremaining: 40.8s\n",
            "894:\tlearn: 0.0019044\ttest: 0.0019044\tbest: 0.0019044 (806)\ttotal: 5m 44s\tremaining: 40.4s\n",
            "895:\tlearn: 0.0019044\ttest: 0.0019044\tbest: 0.0019044 (806)\ttotal: 5m 45s\tremaining: 40.1s\n",
            "896:\tlearn: 0.0019044\ttest: 0.0019044\tbest: 0.0019044 (806)\ttotal: 5m 45s\tremaining: 39.7s\n",
            "897:\tlearn: 0.0019044\ttest: 0.0019044\tbest: 0.0019044 (806)\ttotal: 5m 45s\tremaining: 39.3s\n",
            "898:\tlearn: 0.0019044\ttest: 0.0019044\tbest: 0.0019044 (806)\ttotal: 5m 46s\tremaining: 38.9s\n",
            "899:\tlearn: 0.0019044\ttest: 0.0019044\tbest: 0.0019044 (806)\ttotal: 5m 46s\tremaining: 38.5s\n",
            "900:\tlearn: 0.0019044\ttest: 0.0019044\tbest: 0.0019044 (806)\ttotal: 5m 47s\tremaining: 38.1s\n",
            "901:\tlearn: 0.0019044\ttest: 0.0019044\tbest: 0.0019044 (806)\ttotal: 5m 47s\tremaining: 37.7s\n",
            "902:\tlearn: 0.0019044\ttest: 0.0019044\tbest: 0.0019044 (806)\ttotal: 5m 47s\tremaining: 37.4s\n",
            "903:\tlearn: 0.0019044\ttest: 0.0019044\tbest: 0.0019044 (806)\ttotal: 5m 48s\tremaining: 37s\n",
            "904:\tlearn: 0.0019044\ttest: 0.0019044\tbest: 0.0019044 (806)\ttotal: 5m 48s\tremaining: 36.6s\n",
            "905:\tlearn: 0.0019044\ttest: 0.0019044\tbest: 0.0019044 (806)\ttotal: 5m 48s\tremaining: 36.2s\n",
            "906:\tlearn: 0.0019044\ttest: 0.0019044\tbest: 0.0019044 (806)\ttotal: 5m 49s\tremaining: 35.8s\n",
            "907:\tlearn: 0.0019044\ttest: 0.0019044\tbest: 0.0019044 (806)\ttotal: 5m 49s\tremaining: 35.4s\n",
            "908:\tlearn: 0.0019044\ttest: 0.0019044\tbest: 0.0019044 (806)\ttotal: 5m 50s\tremaining: 35s\n",
            "909:\tlearn: 0.0019044\ttest: 0.0019044\tbest: 0.0019044 (806)\ttotal: 5m 50s\tremaining: 34.7s\n",
            "910:\tlearn: 0.0019044\ttest: 0.0019044\tbest: 0.0019044 (806)\ttotal: 5m 50s\tremaining: 34.3s\n",
            "911:\tlearn: 0.0019044\ttest: 0.0019044\tbest: 0.0019044 (806)\ttotal: 5m 51s\tremaining: 33.9s\n",
            "912:\tlearn: 0.0019044\ttest: 0.0019044\tbest: 0.0019044 (806)\ttotal: 5m 51s\tremaining: 33.5s\n",
            "913:\tlearn: 0.0019044\ttest: 0.0019044\tbest: 0.0019044 (806)\ttotal: 5m 51s\tremaining: 33.1s\n",
            "914:\tlearn: 0.0019044\ttest: 0.0019044\tbest: 0.0019044 (806)\ttotal: 5m 52s\tremaining: 32.7s\n",
            "915:\tlearn: 0.0019044\ttest: 0.0019044\tbest: 0.0019044 (806)\ttotal: 5m 52s\tremaining: 32.3s\n",
            "916:\tlearn: 0.0019044\ttest: 0.0019044\tbest: 0.0019044 (806)\ttotal: 5m 53s\tremaining: 32s\n",
            "917:\tlearn: 0.0019044\ttest: 0.0019044\tbest: 0.0019044 (806)\ttotal: 5m 53s\tremaining: 31.6s\n",
            "918:\tlearn: 0.0019044\ttest: 0.0019044\tbest: 0.0019044 (806)\ttotal: 5m 53s\tremaining: 31.2s\n",
            "919:\tlearn: 0.0019044\ttest: 0.0019044\tbest: 0.0019044 (806)\ttotal: 5m 54s\tremaining: 30.8s\n",
            "920:\tlearn: 0.0019044\ttest: 0.0019044\tbest: 0.0019044 (806)\ttotal: 5m 54s\tremaining: 30.4s\n",
            "921:\tlearn: 0.0019044\ttest: 0.0019044\tbest: 0.0019044 (806)\ttotal: 5m 55s\tremaining: 30s\n",
            "922:\tlearn: 0.0019044\ttest: 0.0019044\tbest: 0.0019044 (806)\ttotal: 5m 55s\tremaining: 29.7s\n",
            "923:\tlearn: 0.0019044\ttest: 0.0019044\tbest: 0.0019044 (806)\ttotal: 5m 55s\tremaining: 29.3s\n",
            "924:\tlearn: 0.0019044\ttest: 0.0019044\tbest: 0.0019044 (806)\ttotal: 5m 56s\tremaining: 28.9s\n",
            "925:\tlearn: 0.0019044\ttest: 0.0019044\tbest: 0.0019044 (806)\ttotal: 5m 56s\tremaining: 28.5s\n",
            "926:\tlearn: 0.0019044\ttest: 0.0019044\tbest: 0.0019044 (806)\ttotal: 5m 56s\tremaining: 28.1s\n",
            "927:\tlearn: 0.0019044\ttest: 0.0019044\tbest: 0.0019044 (806)\ttotal: 5m 57s\tremaining: 27.7s\n",
            "928:\tlearn: 0.0019044\ttest: 0.0019044\tbest: 0.0019044 (806)\ttotal: 5m 57s\tremaining: 27.3s\n",
            "929:\tlearn: 0.0019044\ttest: 0.0019044\tbest: 0.0019044 (806)\ttotal: 5m 58s\tremaining: 27s\n",
            "930:\tlearn: 0.0019044\ttest: 0.0019044\tbest: 0.0019044 (806)\ttotal: 5m 58s\tremaining: 26.6s\n",
            "931:\tlearn: 0.0019044\ttest: 0.0019044\tbest: 0.0019044 (806)\ttotal: 5m 58s\tremaining: 26.2s\n",
            "932:\tlearn: 0.0019044\ttest: 0.0019044\tbest: 0.0019044 (806)\ttotal: 5m 59s\tremaining: 25.8s\n",
            "933:\tlearn: 0.0019044\ttest: 0.0019044\tbest: 0.0019044 (806)\ttotal: 5m 59s\tremaining: 25.4s\n",
            "934:\tlearn: 0.0019044\ttest: 0.0019044\tbest: 0.0019044 (806)\ttotal: 5m 59s\tremaining: 25s\n",
            "935:\tlearn: 0.0019044\ttest: 0.0019044\tbest: 0.0019044 (806)\ttotal: 6m\tremaining: 24.6s\n",
            "936:\tlearn: 0.0019044\ttest: 0.0019044\tbest: 0.0019044 (806)\ttotal: 6m\tremaining: 24.3s\n",
            "937:\tlearn: 0.0019044\ttest: 0.0019044\tbest: 0.0019044 (806)\ttotal: 6m 1s\tremaining: 23.9s\n",
            "938:\tlearn: 0.0019044\ttest: 0.0019044\tbest: 0.0019044 (806)\ttotal: 6m 1s\tremaining: 23.5s\n",
            "939:\tlearn: 0.0019044\ttest: 0.0019044\tbest: 0.0019044 (806)\ttotal: 6m 1s\tremaining: 23.1s\n",
            "940:\tlearn: 0.0019044\ttest: 0.0019044\tbest: 0.0019044 (806)\ttotal: 6m 2s\tremaining: 22.7s\n",
            "941:\tlearn: 0.0019044\ttest: 0.0019044\tbest: 0.0019044 (806)\ttotal: 6m 2s\tremaining: 22.3s\n",
            "942:\tlearn: 0.0019044\ttest: 0.0019044\tbest: 0.0019044 (806)\ttotal: 6m 3s\tremaining: 21.9s\n",
            "943:\tlearn: 0.0019044\ttest: 0.0019044\tbest: 0.0019044 (806)\ttotal: 6m 3s\tremaining: 21.6s\n",
            "944:\tlearn: 0.0019044\ttest: 0.0019044\tbest: 0.0019044 (806)\ttotal: 6m 3s\tremaining: 21.2s\n",
            "945:\tlearn: 0.0019044\ttest: 0.0019044\tbest: 0.0019044 (806)\ttotal: 6m 4s\tremaining: 20.8s\n",
            "946:\tlearn: 0.0019044\ttest: 0.0019044\tbest: 0.0019044 (806)\ttotal: 6m 4s\tremaining: 20.4s\n",
            "947:\tlearn: 0.0019044\ttest: 0.0019044\tbest: 0.0019044 (806)\ttotal: 6m 4s\tremaining: 20s\n",
            "948:\tlearn: 0.0019044\ttest: 0.0019044\tbest: 0.0019044 (806)\ttotal: 6m 5s\tremaining: 19.6s\n",
            "949:\tlearn: 0.0019044\ttest: 0.0019044\tbest: 0.0019044 (806)\ttotal: 6m 5s\tremaining: 19.2s\n",
            "950:\tlearn: 0.0019044\ttest: 0.0019044\tbest: 0.0019044 (806)\ttotal: 6m 6s\tremaining: 18.9s\n",
            "951:\tlearn: 0.0019044\ttest: 0.0019044\tbest: 0.0019044 (806)\ttotal: 6m 6s\tremaining: 18.5s\n",
            "952:\tlearn: 0.0019044\ttest: 0.0019044\tbest: 0.0019044 (806)\ttotal: 6m 6s\tremaining: 18.1s\n",
            "953:\tlearn: 0.0019044\ttest: 0.0019044\tbest: 0.0019044 (806)\ttotal: 6m 7s\tremaining: 17.7s\n",
            "954:\tlearn: 0.0019044\ttest: 0.0019044\tbest: 0.0019044 (806)\ttotal: 6m 7s\tremaining: 17.3s\n",
            "955:\tlearn: 0.0019044\ttest: 0.0019044\tbest: 0.0019044 (806)\ttotal: 6m 7s\tremaining: 16.9s\n",
            "956:\tlearn: 0.0019044\ttest: 0.0019044\tbest: 0.0019044 (806)\ttotal: 6m 8s\tremaining: 16.5s\n",
            "957:\tlearn: 0.0019044\ttest: 0.0019044\tbest: 0.0019044 (806)\ttotal: 6m 8s\tremaining: 16.2s\n",
            "958:\tlearn: 0.0019044\ttest: 0.0019044\tbest: 0.0019044 (806)\ttotal: 6m 9s\tremaining: 15.8s\n",
            "959:\tlearn: 0.0019044\ttest: 0.0019044\tbest: 0.0019044 (806)\ttotal: 6m 9s\tremaining: 15.4s\n",
            "960:\tlearn: 0.0019044\ttest: 0.0019044\tbest: 0.0019044 (806)\ttotal: 6m 9s\tremaining: 15s\n",
            "961:\tlearn: 0.0019044\ttest: 0.0019044\tbest: 0.0019044 (806)\ttotal: 6m 10s\tremaining: 14.6s\n",
            "962:\tlearn: 0.0019044\ttest: 0.0019044\tbest: 0.0019044 (806)\ttotal: 6m 10s\tremaining: 14.2s\n",
            "963:\tlearn: 0.0019044\ttest: 0.0019044\tbest: 0.0019044 (806)\ttotal: 6m 10s\tremaining: 13.9s\n",
            "964:\tlearn: 0.0019044\ttest: 0.0019044\tbest: 0.0019044 (806)\ttotal: 6m 11s\tremaining: 13.5s\n",
            "965:\tlearn: 0.0019044\ttest: 0.0019044\tbest: 0.0019044 (806)\ttotal: 6m 11s\tremaining: 13.1s\n",
            "966:\tlearn: 0.0019044\ttest: 0.0019044\tbest: 0.0019044 (806)\ttotal: 6m 12s\tremaining: 12.7s\n",
            "967:\tlearn: 0.0019044\ttest: 0.0019044\tbest: 0.0019044 (806)\ttotal: 6m 12s\tremaining: 12.3s\n",
            "968:\tlearn: 0.0019044\ttest: 0.0019044\tbest: 0.0019044 (806)\ttotal: 6m 12s\tremaining: 11.9s\n",
            "969:\tlearn: 0.0019044\ttest: 0.0019044\tbest: 0.0019044 (806)\ttotal: 6m 13s\tremaining: 11.5s\n",
            "970:\tlearn: 0.0019044\ttest: 0.0019044\tbest: 0.0019044 (806)\ttotal: 6m 13s\tremaining: 11.2s\n",
            "971:\tlearn: 0.0019044\ttest: 0.0019044\tbest: 0.0019044 (806)\ttotal: 6m 14s\tremaining: 10.8s\n",
            "972:\tlearn: 0.0019044\ttest: 0.0019044\tbest: 0.0019044 (806)\ttotal: 6m 14s\tremaining: 10.4s\n",
            "973:\tlearn: 0.0019044\ttest: 0.0019044\tbest: 0.0019044 (806)\ttotal: 6m 14s\tremaining: 10s\n",
            "974:\tlearn: 0.0019044\ttest: 0.0019044\tbest: 0.0019044 (806)\ttotal: 6m 15s\tremaining: 9.62s\n",
            "975:\tlearn: 0.0019044\ttest: 0.0019044\tbest: 0.0019044 (806)\ttotal: 6m 15s\tremaining: 9.23s\n",
            "976:\tlearn: 0.0019044\ttest: 0.0019044\tbest: 0.0019044 (806)\ttotal: 6m 15s\tremaining: 8.85s\n",
            "977:\tlearn: 0.0019044\ttest: 0.0019044\tbest: 0.0019044 (806)\ttotal: 6m 16s\tremaining: 8.46s\n",
            "978:\tlearn: 0.0019044\ttest: 0.0019044\tbest: 0.0019044 (806)\ttotal: 6m 16s\tremaining: 8.08s\n",
            "979:\tlearn: 0.0019044\ttest: 0.0019044\tbest: 0.0019044 (806)\ttotal: 6m 17s\tremaining: 7.7s\n",
            "980:\tlearn: 0.0019044\ttest: 0.0019044\tbest: 0.0019044 (806)\ttotal: 6m 17s\tremaining: 7.31s\n",
            "981:\tlearn: 0.0019044\ttest: 0.0019044\tbest: 0.0019044 (806)\ttotal: 6m 17s\tremaining: 6.92s\n",
            "982:\tlearn: 0.0019044\ttest: 0.0019044\tbest: 0.0019044 (806)\ttotal: 6m 18s\tremaining: 6.54s\n",
            "983:\tlearn: 0.0019044\ttest: 0.0019044\tbest: 0.0019044 (806)\ttotal: 6m 18s\tremaining: 6.16s\n",
            "984:\tlearn: 0.0019044\ttest: 0.0019044\tbest: 0.0019044 (806)\ttotal: 6m 18s\tremaining: 5.77s\n",
            "985:\tlearn: 0.0019044\ttest: 0.0019044\tbest: 0.0019044 (806)\ttotal: 6m 19s\tremaining: 5.39s\n",
            "986:\tlearn: 0.0019044\ttest: 0.0019044\tbest: 0.0019044 (806)\ttotal: 6m 19s\tremaining: 5s\n",
            "987:\tlearn: 0.0019044\ttest: 0.0019044\tbest: 0.0019044 (806)\ttotal: 6m 20s\tremaining: 4.62s\n",
            "988:\tlearn: 0.0019044\ttest: 0.0019044\tbest: 0.0019044 (806)\ttotal: 6m 20s\tremaining: 4.23s\n",
            "989:\tlearn: 0.0019044\ttest: 0.0019044\tbest: 0.0019044 (806)\ttotal: 6m 20s\tremaining: 3.85s\n",
            "990:\tlearn: 0.0019044\ttest: 0.0019044\tbest: 0.0019044 (806)\ttotal: 6m 21s\tremaining: 3.46s\n",
            "991:\tlearn: 0.0019044\ttest: 0.0019044\tbest: 0.0019044 (806)\ttotal: 6m 21s\tremaining: 3.08s\n",
            "992:\tlearn: 0.0019044\ttest: 0.0019044\tbest: 0.0019044 (806)\ttotal: 6m 21s\tremaining: 2.69s\n",
            "993:\tlearn: 0.0019044\ttest: 0.0019044\tbest: 0.0019044 (806)\ttotal: 6m 22s\tremaining: 2.31s\n",
            "994:\tlearn: 0.0019044\ttest: 0.0019044\tbest: 0.0019044 (806)\ttotal: 6m 22s\tremaining: 1.92s\n",
            "995:\tlearn: 0.0019044\ttest: 0.0019044\tbest: 0.0019044 (806)\ttotal: 6m 23s\tremaining: 1.54s\n",
            "996:\tlearn: 0.0019044\ttest: 0.0019044\tbest: 0.0019044 (806)\ttotal: 6m 23s\tremaining: 1.15s\n",
            "997:\tlearn: 0.0019044\ttest: 0.0019044\tbest: 0.0019044 (806)\ttotal: 6m 23s\tremaining: 769ms\n",
            "998:\tlearn: 0.0019044\ttest: 0.0019044\tbest: 0.0019044 (806)\ttotal: 6m 24s\tremaining: 385ms\n",
            "999:\tlearn: 0.0019044\ttest: 0.0019044\tbest: 0.0019044 (806)\ttotal: 6m 24s\tremaining: 0us\n",
            "\n",
            "bestTest = 0.001904413131\n",
            "bestIteration = 806\n",
            "\n",
            "Shrink model to first 807 iterations.\n"
          ],
          "name": "stdout"
        }
      ]
    },
    {
      "cell_type": "code",
      "metadata": {
        "colab": {
          "background_save": true
        },
        "id": "_-Z1uovg0tSF",
        "outputId": "b02ab04d-57db-4ae6-b94d-33accc789018"
      },
      "source": [
        "y_pred_cat = model.predict(x1_test)\n",
        "f1_score(y1_test,y_pred_cat)"
      ],
      "execution_count": null,
      "outputs": [
        {
          "output_type": "execute_result",
          "data": {
            "text/plain": [
              "0.9457013574660633"
            ]
          },
          "metadata": {
            "tags": []
          },
          "execution_count": 0
        }
      ]
    },
    {
      "cell_type": "code",
      "metadata": {
        "colab": {
          "background_save": true
        },
        "id": "Ayqxeko90tYr",
        "outputId": "d8447fcb-8a2b-4eea-9cbd-43e6497111a5"
      },
      "source": [
        "balanced_accuracy_score(y1_test, y_pred_cat)"
      ],
      "execution_count": null,
      "outputs": [
        {
          "output_type": "execute_result",
          "data": {
            "text/plain": [
              "0.9639687636262735"
            ]
          },
          "metadata": {
            "tags": []
          },
          "execution_count": 0
        }
      ]
    },
    {
      "cell_type": "code",
      "metadata": {
        "colab": {
          "background_save": true
        },
        "id": "T7yqBjcgmJ-g",
        "outputId": "59fdd91f-48db-44fa-979a-e3aadfe68354"
      },
      "source": [
        "print(\"F1-Score: %.4f\" % (f1_score(y1_test,y_pred_cat))) \n",
        "print(\"Precision Score: %.4f\" %(precision_score(y1_test, y_pred_cat)))\n",
        "print(\"Recall core: %.4f\" %(recall_score(y1_test, y_pred_cat)))\n",
        "print(\"Accuracy Score: %.4f\" %(accuracy_score(y1_test, y_pred_cat)))\n",
        "print(\"Balanced Accurarcy Score: %.4f\" %(balanced_accuracy_score(y1_test, y_pred_cat)))\n",
        "print(\"Matthews Corrcoef: %.4f\" %(matthews_corrcoef(y1_test, y_pred_cat)))\n",
        "print(\"Average Precision Score: %.4f\" %(average_precision_score(y1_test, y_pred_cat)))"
      ],
      "execution_count": null,
      "outputs": [
        {
          "output_type": "stream",
          "text": [
            "F1-Score: 0.9457\n",
            "Precision Score: 0.9631\n",
            "Recall core: 0.9289\n",
            "Accuracy Score: 0.9972\n",
            "Balanced Accurarcy Score: 0.9640\n",
            "Matthews Corrcoef: 0.9444\n",
            "Average Precision Score: 0.8965\n"
          ],
          "name": "stdout"
        }
      ]
    },
    {
      "cell_type": "code",
      "metadata": {
        "colab": {
          "background_save": true
        },
        "id": "bWYZ1Ty50tic"
      },
      "source": [
        "average_precision = average_precision_score(y1_test, y_pred_cat) "
      ],
      "execution_count": null,
      "outputs": []
    },
    {
      "cell_type": "code",
      "metadata": {
        "colab": {
          "background_save": true
        },
        "id": "M3n5bZYO0tfT",
        "outputId": "bb5dc424-9ff6-4a74-f0ee-b9cd77ed9cbd"
      },
      "source": [
        "disp = plot_precision_recall_curve(model, x1_test, y1_test)\n",
        "disp.ax_.set_title('Precision-Recall curve: '\n",
        "                   'Average Precision={0:0.2f}'.format(average_precision)) "
      ],
      "execution_count": null,
      "outputs": [
        {
          "output_type": "execute_result",
          "data": {
            "text/plain": [
              "Text(0.5, 1.0, 'Precision-Recall curve: Average Precision=0.90')"
            ]
          },
          "metadata": {
            "tags": []
          },
          "execution_count": 0
        },
        {
          "output_type": "display_data",
          "data": {
            "image/png": "[encoded data removed]",
            "text/plain": [
              "<Figure size 432x288 with 1 Axes>"
            ]
          },
          "metadata": {
            "tags": []
          }
        }
      ]
    },
    {
      "cell_type": "code",
      "metadata": {
        "colab": {
          "background_save": true
        },
        "id": "xK8TDsih0tcw",
        "outputId": "6819d107-1c95-4ad5-cdab-c8d058899da3"
      },
      "source": [
        "tn, fp, fn, tp = confusion_matrix(y1_test, y_pred_cat ).ravel()\n",
        "skplt.metrics.plot_confusion_matrix(y1_test, y_pred_cat, normalize=False)\n",
        "plt.show()\n",
        "print(classification_report(y1_test,y_pred_cat))"
      ],
      "execution_count": null,
      "outputs": [
        {
          "output_type": "display_data",
          "data": {
            "image/png": "[encoded data removed]",
            "text/plain": [
              "<Figure size 432x288 with 2 Axes>"
            ]
          },
          "metadata": {
            "tags": []
          }
        },
        {
          "output_type": "stream",
          "text": [
            "              precision    recall  f1-score   support\n",
            "\n",
            "           0       1.00      1.00      1.00      8409\n",
            "           1       0.96      0.93      0.95       225\n",
            "\n",
            "    accuracy                           1.00      8634\n",
            "   macro avg       0.98      0.96      0.97      8634\n",
            "weighted avg       1.00      1.00      1.00      8634\n",
            "\n"
          ],
          "name": "stdout"
        }
      ]
    },
    {
      "cell_type": "code",
      "metadata": {
        "colab": {
          "background_save": true
        },
        "id": "nzfhpctfB2A8"
      },
      "source": [
        "knn = KNeighborsClassifier()"
      ],
      "execution_count": null,
      "outputs": []
    },
    {
      "cell_type": "code",
      "metadata": {
        "colab": {
          "background_save": true
        },
        "id": "YeJjVR_8CHUD"
      },
      "source": [
        "knn_f = knn.fit(X1_res, y1_res)"
      ],
      "execution_count": null,
      "outputs": []
    },
    {
      "cell_type": "code",
      "metadata": {
        "colab": {
          "background_save": true
        },
        "id": "v_d5UTWpCLvi"
      },
      "source": [
        "y_pred_knn = knn_f.predict(x1_test)"
      ],
      "execution_count": null,
      "outputs": []
    },
    {
      "cell_type": "code",
      "metadata": {
        "colab": {
          "background_save": true
        },
        "id": "IwO5VIGQ3rtg",
        "outputId": "0881da68-ff28-428b-b5a4-8188506573f9"
      },
      "source": [
        "print(\"F1-Score: %.4f\" % (f1_score(y1_test,y_pred_knn))) \n",
        "print(\"Precision Score: %.4f\" %(precision_score(y1_test, y_pred_knn)))\n",
        "print(\"Recall core: %.4f\" %(recall_score(y1_test, y_pred_knn)))\n",
        "print(\"Accuracy Score: %.4f\" %(accuracy_score(y1_test, y_pred_knn)))\n",
        "print(\"Balanced Accurarcy Score: %.4f\" %(balanced_accuracy_score(y1_test, y_pred_knn)))\n",
        "print(\"Matthews Corrcoef: %.4f\" %(matthews_corrcoef(y1_test, y_pred_knn)))\n",
        "print(\"Average Precision Score: %.4f\" %(average_precision_score(y1_test, y_pred_knn)))"
      ],
      "execution_count": null,
      "outputs": [
        {
          "output_type": "stream",
          "text": [
            "F1-Score: 0.8136\n",
            "Precision Score: 0.7773\n",
            "Recall core: 0.8533\n",
            "Accuracy Score: 0.9898\n",
            "Balanced Accurarcy Score: 0.9234\n",
            "Matthews Corrcoef: 0.8093\n",
            "Average Precision Score: 0.6671\n"
          ],
          "name": "stdout"
        }
      ]
    },
    {
      "cell_type": "code",
      "metadata": {
        "colab": {
          "background_save": true
        },
        "id": "wktobPkEg1ST"
      },
      "source": [
        "average_precision = average_precision_score(y1_test, y_pred_knn) "
      ],
      "execution_count": null,
      "outputs": []
    },
    {
      "cell_type": "code",
      "metadata": {
        "colab": {
          "background_save": true
        },
        "id": "EzldnlEfg1z6",
        "outputId": "62fbaa3a-2848-4c72-f230-62a7e3351e48"
      },
      "source": [
        "disp = plot_precision_recall_curve(knn_f, x1_test, y1_test)\n",
        "disp.ax_.set_title('Precision-Recall curve: '\n",
        "                   'Average Precision={0:0.2f}'.format(average_precision)) "
      ],
      "execution_count": null,
      "outputs": [
        {
          "output_type": "execute_result",
          "data": {
            "text/plain": [
              "Text(0.5, 1.0, 'Precision-Recall curve: Average Precision=0.67')"
            ]
          },
          "metadata": {
            "tags": []
          },
          "execution_count": 0
        },
        {
          "output_type": "display_data",
          "data": {
            "image/png": "[encoded data removed]",
            "text/plain": [
              "<Figure size 432x288 with 1 Axes>"
            ]
          },
          "metadata": {
            "tags": []
          }
        }
      ]
    },
    {
      "cell_type": "code",
      "metadata": {
        "colab": {
          "background_save": true
        },
        "id": "Qkzy5FylCRtD",
        "outputId": "54eab341-9155-407f-d4ec-2371b6829bde"
      },
      "source": [
        "tn, fp, fn, tp = confusion_matrix(y1_test,y_pred_knn).ravel()\n",
        "skplt.metrics.plot_confusion_matrix(y1_test,y_pred_knn, normalize=False)\n",
        "plt.show()\n",
        "print(classification_report(y1_test,y_pred_knn))"
      ],
      "execution_count": null,
      "outputs": [
        {
          "output_type": "display_data",
          "data": {
            "image/png": "[encoded data removed]",
            "text/plain": [
              "<Figure size 432x288 with 2 Axes>"
            ]
          },
          "metadata": {
            "tags": []
          }
        },
        {
          "output_type": "stream",
          "text": [
            "              precision    recall  f1-score   support\n",
            "\n",
            "           0       1.00      0.99      0.99      8409\n",
            "           1       0.78      0.85      0.81       225\n",
            "\n",
            "    accuracy                           0.99      8634\n",
            "   macro avg       0.89      0.92      0.90      8634\n",
            "weighted avg       0.99      0.99      0.99      8634\n",
            "\n"
          ],
          "name": "stdout"
        }
      ]
    },
    {
      "cell_type": "code",
      "metadata": {
        "colab": {
          "background_save": true
        },
        "id": "Df6csHm6qSol"
      },
      "source": [
        "lg = LogisticRegression()"
      ],
      "execution_count": null,
      "outputs": []
    },
    {
      "cell_type": "code",
      "metadata": {
        "colab": {
          "background_save": true
        },
        "id": "gMVDmOGGqSd3"
      },
      "source": [
        "lg_f = lg.fit(X1_res, y1_res)"
      ],
      "execution_count": null,
      "outputs": []
    },
    {
      "cell_type": "code",
      "metadata": {
        "colab": {
          "background_save": true
        },
        "id": "eFAEF-VGqSPz"
      },
      "source": [
        "y_pred_lg = lg_f.predict(x1_test)"
      ],
      "execution_count": null,
      "outputs": []
    },
    {
      "cell_type": "code",
      "metadata": {
        "colab": {
          "background_save": true
        },
        "id": "TQT7GZC-qldY",
        "outputId": "9b2ec1e5-c14d-4892-c633-6fb195cb6a99"
      },
      "source": [
        "print(\"F1-Score: %.4f\" % (f1_score(y1_test,y_pred_lg))) \n",
        "print(\"Precision Score: %.4f\" %(precision_score(y1_test, y_pred_lg)))\n",
        "print(\"Recall core: %.4f\" %(recall_score(y1_test, y_pred_lg)))\n",
        "print(\"Accuracy Score: %.4f\" %(accuracy_score(y1_test, y_pred_lg)))\n",
        "print(\"Balanced Accurarcy Score: %.4f\" %(balanced_accuracy_score(y1_test, y_pred_lg)))\n",
        "print(\"Matthews Corrcoef: %.4f\" %(matthews_corrcoef(y1_test, y_pred_lg)))\n",
        "print(\"Average Precision Score: %.4f\" %(average_precision_score(y1_test, y_pred_lg)))"
      ],
      "execution_count": null,
      "outputs": [
        {
          "output_type": "stream",
          "text": [
            "F1-Score: 0.2684\n",
            "Precision Score: 0.1599\n",
            "Recall core: 0.8356\n",
            "Accuracy Score: 0.8813\n",
            "Balanced Accurarcy Score: 0.8590\n",
            "Matthews Corrcoef: 0.3335\n",
            "Average Precision Score: 0.1379\n"
          ],
          "name": "stdout"
        }
      ]
    },
    {
      "cell_type": "code",
      "metadata": {
        "colab": {
          "background_save": true
        },
        "id": "X7jwh8jorEet"
      },
      "source": [
        "average_precision = average_precision_score(y1_test, y_pred_lg) "
      ],
      "execution_count": null,
      "outputs": []
    },
    {
      "cell_type": "code",
      "metadata": {
        "colab": {
          "background_save": true
        },
        "id": "CODsFHUNrEvD",
        "outputId": "a3e2a4b2-091d-42df-b194-59c4192b42d6"
      },
      "source": [
        "disp = plot_precision_recall_curve(lg_f, x1_test, y1_test)\n",
        "disp.ax_.set_title('Precision-Recall curve: '\n",
        "                   'Average Precision={0:0.2f}'.format(average_precision)) "
      ],
      "execution_count": null,
      "outputs": [
        {
          "output_type": "execute_result",
          "data": {
            "text/plain": [
              "Text(0.5, 1.0, 'Precision-Recall curve: Average Precision=0.14')"
            ]
          },
          "metadata": {
            "tags": []
          },
          "execution_count": 0
        },
        {
          "output_type": "display_data",
          "data": {
            "image/png": "[encoded data removed]",
            "text/plain": [
              "<Figure size 432x288 with 1 Axes>"
            ]
          },
          "metadata": {
            "tags": []
          }
        }
      ]
    },
    {
      "cell_type": "code",
      "metadata": {
        "colab": {
          "background_save": true
        },
        "id": "1d183FcusJQa",
        "outputId": "b896f8ce-3f20-42a8-8c5d-854d91a5c75d"
      },
      "source": [
        "tn, fp, fn, tp = confusion_matrix(y1_test,y_pred_lg).ravel()\n",
        "skplt.metrics.plot_confusion_matrix(y1_test,y_pred_lg, normalize=False)\n",
        "plt.show()\n",
        "print(classification_report(y1_test,y_pred_lg))"
      ],
      "execution_count": null,
      "outputs": [
        {
          "output_type": "display_data",
          "data": {
            "image/png": "[encoded data removed]",
            "text/plain": [
              "<Figure size 432x288 with 2 Axes>"
            ]
          },
          "metadata": {
            "tags": []
          }
        },
        {
          "output_type": "stream",
          "text": [
            "              precision    recall  f1-score   support\n",
            "\n",
            "           0       1.00      0.88      0.94      8409\n",
            "           1       0.16      0.84      0.27       225\n",
            "\n",
            "    accuracy                           0.88      8634\n",
            "   macro avg       0.58      0.86      0.60      8634\n",
            "weighted avg       0.97      0.88      0.92      8634\n",
            "\n"
          ],
          "name": "stdout"
        }
      ]
    },
    {
      "cell_type": "code",
      "metadata": {
        "colab": {
          "background_save": true
        },
        "id": "tcVU_ODpsvO7"
      },
      "source": [
        "NB = GaussianNB()"
      ],
      "execution_count": null,
      "outputs": []
    },
    {
      "cell_type": "code",
      "metadata": {
        "colab": {
          "background_save": true
        },
        "id": "Axkk4eEfsvlJ"
      },
      "source": [
        "NB_f = NB.fit(X1_res, y1_res)"
      ],
      "execution_count": null,
      "outputs": []
    },
    {
      "cell_type": "code",
      "metadata": {
        "colab": {
          "background_save": true
        },
        "id": "ymbkxvrdsvCL"
      },
      "source": [
        "y_pred_NB = NB_f.predict(x1_test)"
      ],
      "execution_count": null,
      "outputs": []
    },
    {
      "cell_type": "code",
      "metadata": {
        "colab": {
          "background_save": true
        },
        "id": "tQpHPOwmzfZd",
        "outputId": "e90dfd9a-6694-420d-80d1-87b16bd76a2e"
      },
      "source": [
        "print(\"F1-Score: %.4f\" % (f1_score(y1_test,y_pred_NB))) \n",
        "print(\"Precision Score: %.4f\" %(precision_score(y1_test, y_pred_NB)))\n",
        "print(\"Recall core: %.4f\" %(recall_score(y1_test, y_pred_NB)))\n",
        "print(\"Accuracy Score: %.4f\" %(accuracy_score(y1_test, y_pred_NB)))\n",
        "print(\"Balanced Accurarcy Score: %.4f\" %(balanced_accuracy_score(y1_test, y_pred_NB)))\n",
        "print(\"Matthews Corrcoef: %.4f\" %(matthews_corrcoef(y1_test, y_pred_NB)))\n",
        "print(\"Average Precision Score: %.4f\" %(average_precision_score(y1_test, y_pred_NB)))"
      ],
      "execution_count": null,
      "outputs": [
        {
          "output_type": "stream",
          "text": [
            "F1-Score: 0.0541\n",
            "Precision Score: 0.0278\n",
            "Recall core: 0.9956\n",
            "Accuracy Score: 0.0927\n",
            "Balanced Accurarcy Score: 0.5320\n",
            "Matthews Corrcoef: 0.0409\n",
            "Average Precision Score: 0.0278\n"
          ],
          "name": "stdout"
        }
      ]
    },
    {
      "cell_type": "code",
      "metadata": {
        "colab": {
          "background_save": true
        },
        "id": "_TK49Pwrw3en"
      },
      "source": [
        "average_precision = average_precision_score(y1_test, y_pred_NB) "
      ],
      "execution_count": null,
      "outputs": []
    },
    {
      "cell_type": "code",
      "metadata": {
        "colab": {
          "background_save": true
        },
        "id": "xPhLIt2ow-mg",
        "outputId": "9d332437-61d8-45b6-f24f-530466719ee4"
      },
      "source": [
        "disp = plot_precision_recall_curve(NB_f, x1_test, y1_test)\n",
        "disp.ax_.set_title('Precision-Recall curve: '\n",
        "                   'Average Precision={0:0.2f}'.format(average_precision)) "
      ],
      "execution_count": null,
      "outputs": [
        {
          "output_type": "execute_result",
          "data": {
            "text/plain": [
              "Text(0.5, 1.0, 'Precision-Recall curve: Average Precision=0.03')"
            ]
          },
          "metadata": {
            "tags": []
          },
          "execution_count": 0
        },
        {
          "output_type": "display_data",
          "data": {
            "image/png": "[encoded data removed]",
            "text/plain": [
              "<Figure size 432x288 with 1 Axes>"
            ]
          },
          "metadata": {
            "tags": []
          }
        }
      ]
    },
    {
      "cell_type": "code",
      "metadata": {
        "colab": {
          "background_save": true
        },
        "id": "F65_LTe5w-1j",
        "outputId": "828ede89-c891-436d-f91c-290665890f52"
      },
      "source": [
        "tn, fp, fn, tp = confusion_matrix(y1_test,y_pred_NB).ravel()\n",
        "skplt.metrics.plot_confusion_matrix(y1_test,y_pred_NB, normalize=False)\n",
        "plt.show()\n",
        "print(classification_report(y1_test,y_pred_NB))"
      ],
      "execution_count": null,
      "outputs": [
        {
          "output_type": "display_data",
          "data": {
            "image/png": "[encoded data removed]",
            "text/plain": [
              "<Figure size 432x288 with 2 Axes>"
            ]
          },
          "metadata": {
            "tags": []
          }
        },
        {
          "output_type": "stream",
          "text": [
            "              precision    recall  f1-score   support\n",
            "\n",
            "           0       1.00      0.07      0.13      8409\n",
            "           1       0.03      1.00      0.05       225\n",
            "\n",
            "    accuracy                           0.09      8634\n",
            "   macro avg       0.51      0.53      0.09      8634\n",
            "weighted avg       0.97      0.09      0.13      8634\n",
            "\n"
          ],
          "name": "stdout"
        }
      ]
    },
    {
      "cell_type": "code",
      "metadata": {
        "id": "g2kFOdINheQL"
      },
      "source": [
        ""
      ],
      "execution_count": null,
      "outputs": []
    }
  ]
}